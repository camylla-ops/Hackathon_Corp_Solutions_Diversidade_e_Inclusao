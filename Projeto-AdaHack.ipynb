{
 "cells": [
  {
   "attachments": {},
   "cell_type": "markdown",
   "metadata": {},
   "source": [
    "## Importação das bibliotecas"
   ]
  },
  {
   "cell_type": "code",
   "execution_count": 1,
   "metadata": {
    "editable": true,
    "slideshow": {
     "slide_type": ""
    },
    "tags": []
   },
   "outputs": [],
   "source": [
    "# Importando a biblioteca pandas, importante para tratamento dos dados importados\n",
    "import pandas as pd\n",
    "\n",
    "# Importando a biblioteca pyplot e seaborn, importante para visualização dos dados importados\n",
    "import matplotlib.pyplot as plt\n",
    "import seaborn as sns\n",
    "\n",
    "# Importando a biblioteca requests, para requisitar a fonte dos dados (Github)\n",
    "import requests\n",
    "\n",
    "# Importando bibliotecas io e ftfy, para tratamento de codificação de caracteres truncados (utf-8)\n",
    "from io import StringIO\n",
    "import ftfy"
   ]
  },
  {
   "attachments": {},
   "cell_type": "markdown",
   "metadata": {
    "editable": true,
    "slideshow": {
     "slide_type": ""
    },
    "tags": []
   },
   "source": [
    "## Carregamento dos dados"
   ]
  },
  {
   "cell_type": "code",
   "execution_count": 2,
   "metadata": {},
   "outputs": [],
   "source": [
    "# Carregando dados diretamento do github e corrigindo problemas de codificação\n",
    "url = requests.get('https://raw.githubusercontent.com/Ada-Empregabilidade/adahack-2024-dados/main/base_dados/base_de_dados.csv').content.decode('utf-8')\n",
    "linhas = url.split('\\n')\n",
    "lista_linhas = [ftfy.fix_text(linha) for linha in linhas]\n",
    "data = StringIO('\\n'.join(lista_linhas))\n",
    "df = pd.read_csv(data)"
   ]
  },
  {
   "attachments": {},
   "cell_type": "markdown",
   "metadata": {},
   "source": [
    "_Optamos por utilizar as informaçoes diretamente da fonte de dados, ao invés de baixa-las e adiciona-las manualmente. O arquivo csv fornecido contém problemas de codificação e também optamos por fazer o tratamento dentro do notebook._"
   ]
  },
  {
   "attachments": {},
   "cell_type": "markdown",
   "metadata": {},
   "source": [
    "## Exploração inicial dos dados"
   ]
  },
  {
   "attachments": {},
   "cell_type": "markdown",
   "metadata": {},
   "source": [
    "##### Primeiro contato com os dados"
   ]
  },
  {
   "cell_type": "code",
   "execution_count": 3,
   "metadata": {},
   "outputs": [
    {
     "data": {
      "text/html": [
       "<div>\n",
       "<style scoped>\n",
       "    .dataframe tbody tr th:only-of-type {\n",
       "        vertical-align: middle;\n",
       "    }\n",
       "\n",
       "    .dataframe tbody tr th {\n",
       "        vertical-align: top;\n",
       "    }\n",
       "\n",
       "    .dataframe thead th {\n",
       "        text-align: right;\n",
       "    }\n",
       "</style>\n",
       "<table border=\"1\" class=\"dataframe\">\n",
       "  <thead>\n",
       "    <tr style=\"text-align: right;\">\n",
       "      <th></th>\n",
       "      <th>id</th>\n",
       "      <th>id.1</th>\n",
       "      <th>Nome</th>\n",
       "      <th>Genero</th>\n",
       "      <th>Idade</th>\n",
       "      <th>Raça</th>\n",
       "      <th>Endereço</th>\n",
       "      <th>Formação</th>\n",
       "      <th>Estado</th>\n",
       "      <th>Tempo de casa</th>\n",
       "      <th>Departamento</th>\n",
       "      <th>Senioridade</th>\n",
       "    </tr>\n",
       "  </thead>\n",
       "  <tbody>\n",
       "    <tr>\n",
       "      <th>0</th>\n",
       "      <td>1</td>\n",
       "      <td>1</td>\n",
       "      <td>Eleonora Arilda Penedo Gomes de Padilha</td>\n",
       "      <td>Fem</td>\n",
       "      <td>34.0</td>\n",
       "      <td>pardo</td>\n",
       "      <td>9155 Harold Oval\\nSellersside, FL 21337</td>\n",
       "      <td>Ensino Médio</td>\n",
       "      <td>Santa Catarina</td>\n",
       "      <td>12.0</td>\n",
       "      <td>Compras</td>\n",
       "      <td>Analista Pleno</td>\n",
       "    </tr>\n",
       "    <tr>\n",
       "      <th>1</th>\n",
       "      <td>2</td>\n",
       "      <td>2</td>\n",
       "      <td>Elisângela Gabrielle de Osório</td>\n",
       "      <td>Fem</td>\n",
       "      <td>26.0</td>\n",
       "      <td>pardo</td>\n",
       "      <td>941 Martin Manor\\nLake Isaiahtown, FM 43797</td>\n",
       "      <td>Ensino Médio</td>\n",
       "      <td>Pará</td>\n",
       "      <td>6.0</td>\n",
       "      <td>Contabilidade</td>\n",
       "      <td>Analista Júnior</td>\n",
       "    </tr>\n",
       "    <tr>\n",
       "      <th>2</th>\n",
       "      <td>3</td>\n",
       "      <td>3</td>\n",
       "      <td>José Túlio de Cabral</td>\n",
       "      <td>Masc</td>\n",
       "      <td>35.0</td>\n",
       "      <td>pardo</td>\n",
       "      <td>110 Davis Ridges\\nMejiaville, LA 17095</td>\n",
       "      <td>Ensino Médio</td>\n",
       "      <td>Santa Catarina</td>\n",
       "      <td>5.0</td>\n",
       "      <td>Vendas</td>\n",
       "      <td>Analista Pleno</td>\n",
       "    </tr>\n",
       "    <tr>\n",
       "      <th>3</th>\n",
       "      <td>4</td>\n",
       "      <td>4</td>\n",
       "      <td>Ezequiel Edivaldo de Medeiros Sonao</td>\n",
       "      <td>Masc</td>\n",
       "      <td>24.0</td>\n",
       "      <td>pardo</td>\n",
       "      <td>48010 Wilson Glen Apt. 749\\nSmithborough, NV 0...</td>\n",
       "      <td>Ensino Superior</td>\n",
       "      <td>Tocantins</td>\n",
       "      <td>4.0</td>\n",
       "      <td>Administrativo</td>\n",
       "      <td>Gerente</td>\n",
       "    </tr>\n",
       "    <tr>\n",
       "      <th>4</th>\n",
       "      <td>5</td>\n",
       "      <td>5</td>\n",
       "      <td>Fagner Josiel dos Santos</td>\n",
       "      <td>Masc</td>\n",
       "      <td>21.0</td>\n",
       "      <td>pardo</td>\n",
       "      <td>8666 Ramos Ports Apt. 070\\nSandraport, MN 33570</td>\n",
       "      <td>Ensino Superior</td>\n",
       "      <td>Ceará</td>\n",
       "      <td>5.0</td>\n",
       "      <td>Recursos Humanos</td>\n",
       "      <td>Analista Júnior</td>\n",
       "    </tr>\n",
       "    <tr>\n",
       "      <th>5</th>\n",
       "      <td>6</td>\n",
       "      <td>6</td>\n",
       "      <td>Magali Luzimara da Silva</td>\n",
       "      <td>Fem</td>\n",
       "      <td>49.0</td>\n",
       "      <td>pardo</td>\n",
       "      <td>073 Padilla Dam\\nPort Joshualand, MA 65043</td>\n",
       "      <td>Ensino Superior</td>\n",
       "      <td>São Paulo</td>\n",
       "      <td>3.0</td>\n",
       "      <td>Contabilidade</td>\n",
       "      <td>Analista Pleno</td>\n",
       "    </tr>\n",
       "    <tr>\n",
       "      <th>6</th>\n",
       "      <td>7</td>\n",
       "      <td>7</td>\n",
       "      <td>Victor Plínio Shufrouze</td>\n",
       "      <td>Masc</td>\n",
       "      <td>29.0</td>\n",
       "      <td>pardo</td>\n",
       "      <td>112 Rose Corners\\nStanleyberg, IA 13588</td>\n",
       "      <td>Pós graduação</td>\n",
       "      <td>Ceará</td>\n",
       "      <td>9.0</td>\n",
       "      <td>Compras</td>\n",
       "      <td>Analista Sênior</td>\n",
       "    </tr>\n",
       "    <tr>\n",
       "      <th>7</th>\n",
       "      <td>8</td>\n",
       "      <td>8</td>\n",
       "      <td>Laércio Rossi</td>\n",
       "      <td>Masc</td>\n",
       "      <td>35.0</td>\n",
       "      <td>pardo</td>\n",
       "      <td>508 Sean Road Apt. 754\\nWest Thomaschester, AL...</td>\n",
       "      <td>Ensino Superior</td>\n",
       "      <td>Rondônia</td>\n",
       "      <td>8.0</td>\n",
       "      <td>Operações</td>\n",
       "      <td>Analista Júnior</td>\n",
       "    </tr>\n",
       "    <tr>\n",
       "      <th>8</th>\n",
       "      <td>9</td>\n",
       "      <td>9</td>\n",
       "      <td>Francisco Ângelo de Toledo Seixas</td>\n",
       "      <td>Masc</td>\n",
       "      <td>40.0</td>\n",
       "      <td>pardo</td>\n",
       "      <td>9762 Goodwin Plain Apt. 560\\nSchroedershire, P...</td>\n",
       "      <td>Mestrado</td>\n",
       "      <td>Amapá</td>\n",
       "      <td>1.0</td>\n",
       "      <td>Administrativo</td>\n",
       "      <td>Analista Pleno</td>\n",
       "    </tr>\n",
       "    <tr>\n",
       "      <th>9</th>\n",
       "      <td>10</td>\n",
       "      <td>10</td>\n",
       "      <td>Fabrício Rangel de Gonçalves dos Santos</td>\n",
       "      <td>Masc</td>\n",
       "      <td>33.0</td>\n",
       "      <td>pardo</td>\n",
       "      <td>4979 Dana Station Apt. 126\\nMichellefurt, HI 2...</td>\n",
       "      <td>Ensino Superior</td>\n",
       "      <td>Minas Gerais</td>\n",
       "      <td>3.0</td>\n",
       "      <td>Desenvolvimento de Produtos</td>\n",
       "      <td>Analista Pleno</td>\n",
       "    </tr>\n",
       "  </tbody>\n",
       "</table>\n",
       "</div>"
      ],
      "text/plain": [
       "   id  id.1                                     Nome Genero  Idade   Raça  \\\n",
       "0   1     1  Eleonora Arilda Penedo Gomes de Padilha    Fem   34.0  pardo   \n",
       "1   2     2           Elisângela Gabrielle de Osório    Fem   26.0  pardo   \n",
       "2   3     3                     José Túlio de Cabral   Masc   35.0  pardo   \n",
       "3   4     4      Ezequiel Edivaldo de Medeiros Sonao   Masc   24.0  pardo   \n",
       "4   5     5                 Fagner Josiel dos Santos   Masc   21.0  pardo   \n",
       "5   6     6                 Magali Luzimara da Silva    Fem   49.0  pardo   \n",
       "6   7     7                  Victor Plínio Shufrouze   Masc   29.0  pardo   \n",
       "7   8     8                            Laércio Rossi   Masc   35.0  pardo   \n",
       "8   9     9        Francisco Ângelo de Toledo Seixas   Masc   40.0  pardo   \n",
       "9  10    10  Fabrício Rangel de Gonçalves dos Santos   Masc   33.0  pardo   \n",
       "\n",
       "                                            Endereço         Formação  \\\n",
       "0            9155 Harold Oval\\nSellersside, FL 21337     Ensino Médio   \n",
       "1        941 Martin Manor\\nLake Isaiahtown, FM 43797     Ensino Médio   \n",
       "2             110 Davis Ridges\\nMejiaville, LA 17095     Ensino Médio   \n",
       "3  48010 Wilson Glen Apt. 749\\nSmithborough, NV 0...  Ensino Superior   \n",
       "4    8666 Ramos Ports Apt. 070\\nSandraport, MN 33570  Ensino Superior   \n",
       "5         073 Padilla Dam\\nPort Joshualand, MA 65043  Ensino Superior   \n",
       "6            112 Rose Corners\\nStanleyberg, IA 13588    Pós graduação   \n",
       "7  508 Sean Road Apt. 754\\nWest Thomaschester, AL...  Ensino Superior   \n",
       "8  9762 Goodwin Plain Apt. 560\\nSchroedershire, P...         Mestrado   \n",
       "9  4979 Dana Station Apt. 126\\nMichellefurt, HI 2...  Ensino Superior   \n",
       "\n",
       "           Estado  Tempo de casa                 Departamento      Senioridade  \n",
       "0  Santa Catarina           12.0                      Compras   Analista Pleno  \n",
       "1            Pará            6.0                Contabilidade  Analista Júnior  \n",
       "2  Santa Catarina            5.0                       Vendas   Analista Pleno  \n",
       "3       Tocantins            4.0               Administrativo          Gerente  \n",
       "4           Ceará            5.0             Recursos Humanos  Analista Júnior  \n",
       "5       São Paulo            3.0                Contabilidade   Analista Pleno  \n",
       "6           Ceará            9.0                      Compras  Analista Sênior  \n",
       "7        Rondônia            8.0                    Operações  Analista Júnior  \n",
       "8           Amapá            1.0               Administrativo   Analista Pleno  \n",
       "9    Minas Gerais            3.0  Desenvolvimento de Produtos   Analista Pleno  "
      ]
     },
     "execution_count": 3,
     "metadata": {},
     "output_type": "execute_result"
    }
   ],
   "source": [
    "# Comando head para exibir as 10 primeiras linhas do dataset\n",
    "df.head(10)"
   ]
  },
  {
   "attachments": {},
   "cell_type": "markdown",
   "metadata": {},
   "source": [
    "_Aqui já encontramos algumas anomalias, que serão tratadas ao longo do processo de limpeza, tais como:_\n",
    "1. _Coluna 'id' e 'id.1' duplicadas._\n",
    "2. _Coluna 'Idade' com valores negativos._\n",
    "3. _'Endereço' estadunidense com uma quebra de linha não reconhecida_\n",
    "4. _'Formação' possui valores nulos._\n",
    "5. _Coluna 'Tempo de casa' com valores negativos_\n",
    "6. _Coluna 'Senioridade' com diferentes grafias para um mesmo cargo_"
   ]
  },
  {
   "attachments": {},
   "cell_type": "markdown",
   "metadata": {},
   "source": [
    "##### Compreendendo as variáveis qualitativas"
   ]
  },
  {
   "cell_type": "code",
   "execution_count": 4,
   "metadata": {},
   "outputs": [
    {
     "data": {
      "text/plain": [
       "array(['pardo', 'preto', 'branco', 'indígena', 'amarelo'], dtype=object)"
      ]
     },
     "execution_count": 4,
     "metadata": {},
     "output_type": "execute_result"
    }
   ],
   "source": [
    "#Valores únicos para a variável 'Raça'\n",
    "df['Raça'].unique()"
   ]
  },
  {
   "cell_type": "code",
   "execution_count": 5,
   "metadata": {},
   "outputs": [
    {
     "data": {
      "text/plain": [
       "array(['Fem', 'Masc'], dtype=object)"
      ]
     },
     "execution_count": 5,
     "metadata": {},
     "output_type": "execute_result"
    }
   ],
   "source": [
    "#Valores únicos para a variável 'Genero'\n",
    "df['Genero'].unique()"
   ]
  },
  {
   "cell_type": "code",
   "execution_count": 6,
   "metadata": {},
   "outputs": [
    {
     "data": {
      "text/plain": [
       "array(['Ensino Médio', 'Ensino Superior', 'Pós graduação', 'Mestrado',\n",
       "       'Doutorado', nan], dtype=object)"
      ]
     },
     "execution_count": 6,
     "metadata": {},
     "output_type": "execute_result"
    }
   ],
   "source": [
    "#Valores únicos para a variável 'Formação'\n",
    "df['Formação'].unique()"
   ]
  },
  {
   "cell_type": "code",
   "execution_count": 7,
   "metadata": {},
   "outputs": [
    {
     "data": {
      "text/plain": [
       "array(['Santa Catarina', 'Pará', 'Tocantins', 'Ceará', 'São Paulo',\n",
       "       'Rondônia', 'Amapá', 'Minas Gerais', 'Acre', 'Roraima', 'Amazonas',\n",
       "       'Paraná', 'Bahia', 'Piauí', 'Goiás', 'Rio de Janeiro',\n",
       "       'Rio Grande do Norte', 'Pernambuco', 'Mato Grosso',\n",
       "       'Rio Grande do Sul', 'Espírito Santo', 'Maranhão', 'Paraíba',\n",
       "       'Distrito Federal', 'Mato Grosso do Sul', 'Sergipe', 'Alagoas'],\n",
       "      dtype=object)"
      ]
     },
     "execution_count": 7,
     "metadata": {},
     "output_type": "execute_result"
    }
   ],
   "source": [
    "#Valores únicos para a variável 'Estado'\n",
    "df['Estado'].unique()"
   ]
  },
  {
   "cell_type": "code",
   "execution_count": 8,
   "metadata": {},
   "outputs": [
    {
     "data": {
      "text/plain": [
       "array(['Compras', 'Contabilidade', 'Vendas', 'Administrativo',\n",
       "       'Recursos Humanos', 'Operações', 'Desenvolvimento de Produtos',\n",
       "       'Marketing', 'TI'], dtype=object)"
      ]
     },
     "execution_count": 8,
     "metadata": {},
     "output_type": "execute_result"
    }
   ],
   "source": [
    "#Valores únicos para a variável 'Departamento'\n",
    "df['Departamento'].unique()"
   ]
  },
  {
   "cell_type": "code",
   "execution_count": 9,
   "metadata": {},
   "outputs": [
    {
     "data": {
      "text/plain": [
       "array(['Analista Pleno', 'Analista Júnior', 'Gerente', 'Analista Sênior',\n",
       "       'Estagiário', 'Diretor', 'gerente'], dtype=object)"
      ]
     },
     "execution_count": 9,
     "metadata": {},
     "output_type": "execute_result"
    }
   ],
   "source": [
    "#Valores únicos para a variável 'Senioridade'\n",
    "df['Senioridade'].unique()"
   ]
  },
  {
   "attachments": {},
   "cell_type": "markdown",
   "metadata": {},
   "source": [
    "_Podemos compreender os diferentes tipos de variáveis, e como estão distribuidas ao longo do dataset_"
   ]
  },
  {
   "attachments": {},
   "cell_type": "markdown",
   "metadata": {},
   "source": [
    "##### Tamanho da base de dados"
   ]
  },
  {
   "cell_type": "code",
   "execution_count": 10,
   "metadata": {},
   "outputs": [
    {
     "name": "stdout",
     "output_type": "stream",
     "text": [
      "O presente dataset posssui 10000 linhas e 12 colunas. \n"
     ]
    }
   ],
   "source": [
    "#Entendendo o tamanho da base de dados\n",
    "print(f'O presente dataset posssui {df.shape[0]} linhas e {df.shape[1]} colunas. ')"
   ]
  },
  {
   "cell_type": "code",
   "execution_count": 11,
   "metadata": {},
   "outputs": [
    {
     "data": {
      "text/plain": [
       "Index(['id', 'id.1', 'Nome', 'Genero', 'Idade', 'Raça', 'Endereço', 'Formação',\n",
       "       'Estado', 'Tempo de casa', 'Departamento', 'Senioridade'],\n",
       "      dtype='object')"
      ]
     },
     "execution_count": 11,
     "metadata": {},
     "output_type": "execute_result"
    }
   ],
   "source": [
    "# Listando colunas\n",
    "df.columns"
   ]
  },
  {
   "attachments": {},
   "cell_type": "markdown",
   "metadata": {},
   "source": [
    "##### Estatística Descritiva"
   ]
  },
  {
   "cell_type": "code",
   "execution_count": 12,
   "metadata": {},
   "outputs": [
    {
     "data": {
      "text/html": [
       "<div>\n",
       "<style scoped>\n",
       "    .dataframe tbody tr th:only-of-type {\n",
       "        vertical-align: middle;\n",
       "    }\n",
       "\n",
       "    .dataframe tbody tr th {\n",
       "        vertical-align: top;\n",
       "    }\n",
       "\n",
       "    .dataframe thead th {\n",
       "        text-align: right;\n",
       "    }\n",
       "</style>\n",
       "<table border=\"1\" class=\"dataframe\">\n",
       "  <thead>\n",
       "    <tr style=\"text-align: right;\">\n",
       "      <th></th>\n",
       "      <th>id</th>\n",
       "      <th>id.1</th>\n",
       "      <th>Idade</th>\n",
       "      <th>Tempo de casa</th>\n",
       "    </tr>\n",
       "  </thead>\n",
       "  <tbody>\n",
       "    <tr>\n",
       "      <th>count</th>\n",
       "      <td>10000.00000</td>\n",
       "      <td>10000.00000</td>\n",
       "      <td>9944.000000</td>\n",
       "      <td>9800.000000</td>\n",
       "    </tr>\n",
       "    <tr>\n",
       "      <th>mean</th>\n",
       "      <td>5000.50000</td>\n",
       "      <td>5000.50000</td>\n",
       "      <td>30.827836</td>\n",
       "      <td>5.490510</td>\n",
       "    </tr>\n",
       "    <tr>\n",
       "      <th>std</th>\n",
       "      <td>2886.89568</td>\n",
       "      <td>2886.89568</td>\n",
       "      <td>8.738915</td>\n",
       "      <td>2.963759</td>\n",
       "    </tr>\n",
       "    <tr>\n",
       "      <th>min</th>\n",
       "      <td>1.00000</td>\n",
       "      <td>1.00000</td>\n",
       "      <td>5.000000</td>\n",
       "      <td>-6.000000</td>\n",
       "    </tr>\n",
       "    <tr>\n",
       "      <th>25%</th>\n",
       "      <td>2500.75000</td>\n",
       "      <td>2500.75000</td>\n",
       "      <td>24.000000</td>\n",
       "      <td>3.000000</td>\n",
       "    </tr>\n",
       "    <tr>\n",
       "      <th>50%</th>\n",
       "      <td>5000.50000</td>\n",
       "      <td>5000.50000</td>\n",
       "      <td>30.000000</td>\n",
       "      <td>5.000000</td>\n",
       "    </tr>\n",
       "    <tr>\n",
       "      <th>75%</th>\n",
       "      <td>7500.25000</td>\n",
       "      <td>7500.25000</td>\n",
       "      <td>37.000000</td>\n",
       "      <td>8.000000</td>\n",
       "    </tr>\n",
       "    <tr>\n",
       "      <th>max</th>\n",
       "      <td>10000.00000</td>\n",
       "      <td>10000.00000</td>\n",
       "      <td>74.000000</td>\n",
       "      <td>17.000000</td>\n",
       "    </tr>\n",
       "  </tbody>\n",
       "</table>\n",
       "</div>"
      ],
      "text/plain": [
       "                id         id.1        Idade  Tempo de casa\n",
       "count  10000.00000  10000.00000  9944.000000    9800.000000\n",
       "mean    5000.50000   5000.50000    30.827836       5.490510\n",
       "std     2886.89568   2886.89568     8.738915       2.963759\n",
       "min        1.00000      1.00000     5.000000      -6.000000\n",
       "25%     2500.75000   2500.75000    24.000000       3.000000\n",
       "50%     5000.50000   5000.50000    30.000000       5.000000\n",
       "75%     7500.25000   7500.25000    37.000000       8.000000\n",
       "max    10000.00000  10000.00000    74.000000      17.000000"
      ]
     },
     "execution_count": 12,
     "metadata": {},
     "output_type": "execute_result"
    }
   ],
   "source": [
    "# Panorama estatístico das colunas numéricas do dataset\n",
    "df.describe()"
   ]
  },
  {
   "cell_type": "code",
   "execution_count": 13,
   "metadata": {},
   "outputs": [
    {
     "data": {
      "text/html": [
       "<div>\n",
       "<style scoped>\n",
       "    .dataframe tbody tr th:only-of-type {\n",
       "        vertical-align: middle;\n",
       "    }\n",
       "\n",
       "    .dataframe tbody tr th {\n",
       "        vertical-align: top;\n",
       "    }\n",
       "\n",
       "    .dataframe thead th {\n",
       "        text-align: right;\n",
       "    }\n",
       "</style>\n",
       "<table border=\"1\" class=\"dataframe\">\n",
       "  <thead>\n",
       "    <tr style=\"text-align: right;\">\n",
       "      <th></th>\n",
       "      <th>Nome</th>\n",
       "      <th>Genero</th>\n",
       "      <th>Raça</th>\n",
       "      <th>Endereço</th>\n",
       "      <th>Formação</th>\n",
       "      <th>Estado</th>\n",
       "      <th>Departamento</th>\n",
       "      <th>Senioridade</th>\n",
       "    </tr>\n",
       "  </thead>\n",
       "  <tbody>\n",
       "    <tr>\n",
       "      <th>count</th>\n",
       "      <td>10000</td>\n",
       "      <td>10000</td>\n",
       "      <td>10000</td>\n",
       "      <td>10000</td>\n",
       "      <td>9956</td>\n",
       "      <td>10000</td>\n",
       "      <td>10000</td>\n",
       "      <td>10000</td>\n",
       "    </tr>\n",
       "    <tr>\n",
       "      <th>unique</th>\n",
       "      <td>9961</td>\n",
       "      <td>2</td>\n",
       "      <td>5</td>\n",
       "      <td>10000</td>\n",
       "      <td>5</td>\n",
       "      <td>27</td>\n",
       "      <td>9</td>\n",
       "      <td>7</td>\n",
       "    </tr>\n",
       "    <tr>\n",
       "      <th>top</th>\n",
       "      <td>Francisco da Silva</td>\n",
       "      <td>Masc</td>\n",
       "      <td>pardo</td>\n",
       "      <td>9155 Harold Oval\\nSellersside, FL 21337</td>\n",
       "      <td>Ensino Superior</td>\n",
       "      <td>São Paulo</td>\n",
       "      <td>Administrativo</td>\n",
       "      <td>Analista Júnior</td>\n",
       "    </tr>\n",
       "    <tr>\n",
       "      <th>freq</th>\n",
       "      <td>2</td>\n",
       "      <td>7500</td>\n",
       "      <td>4700</td>\n",
       "      <td>1</td>\n",
       "      <td>5972</td>\n",
       "      <td>1000</td>\n",
       "      <td>1112</td>\n",
       "      <td>3000</td>\n",
       "    </tr>\n",
       "  </tbody>\n",
       "</table>\n",
       "</div>"
      ],
      "text/plain": [
       "                      Nome Genero   Raça  \\\n",
       "count                10000  10000  10000   \n",
       "unique                9961      2      5   \n",
       "top     Francisco da Silva   Masc  pardo   \n",
       "freq                     2   7500   4700   \n",
       "\n",
       "                                       Endereço         Formação     Estado  \\\n",
       "count                                     10000             9956      10000   \n",
       "unique                                    10000                5         27   \n",
       "top     9155 Harold Oval\\nSellersside, FL 21337  Ensino Superior  São Paulo   \n",
       "freq                                          1             5972       1000   \n",
       "\n",
       "          Departamento      Senioridade  \n",
       "count            10000            10000  \n",
       "unique               9                7  \n",
       "top     Administrativo  Analista Júnior  \n",
       "freq              1112             3000  "
      ]
     },
     "execution_count": 13,
     "metadata": {},
     "output_type": "execute_result"
    }
   ],
   "source": [
    "# Panorama estatístico das colunas não-numéricas do dataset\n",
    "df_nao_numerico = df.select_dtypes(exclude='number')\n",
    "df_nao_numerico.describe()"
   ]
  },
  {
   "attachments": {},
   "cell_type": "markdown",
   "metadata": {},
   "source": [
    "_O nome Francisco da Silva aparentemente está duplicado._"
   ]
  },
  {
   "attachments": {},
   "cell_type": "markdown",
   "metadata": {},
   "source": [
    "##### Tipos de variáveis"
   ]
  },
  {
   "cell_type": "code",
   "execution_count": 14,
   "metadata": {},
   "outputs": [
    {
     "name": "stdout",
     "output_type": "stream",
     "text": [
      "<class 'pandas.core.frame.DataFrame'>\n",
      "RangeIndex: 10000 entries, 0 to 9999\n",
      "Data columns (total 12 columns):\n",
      " #   Column         Non-Null Count  Dtype  \n",
      "---  ------         --------------  -----  \n",
      " 0   id             10000 non-null  int64  \n",
      " 1   id.1           10000 non-null  int64  \n",
      " 2   Nome           10000 non-null  object \n",
      " 3   Genero         10000 non-null  object \n",
      " 4   Idade          9944 non-null   float64\n",
      " 5   Raça           10000 non-null  object \n",
      " 6   Endereço       10000 non-null  object \n",
      " 7   Formação       9956 non-null   object \n",
      " 8   Estado         10000 non-null  object \n",
      " 9   Tempo de casa  9800 non-null   float64\n",
      " 10  Departamento   10000 non-null  object \n",
      " 11  Senioridade    10000 non-null  object \n",
      "dtypes: float64(2), int64(2), object(8)\n",
      "memory usage: 937.6+ KB\n"
     ]
    },
    {
     "data": {
      "text/plain": [
       "None"
      ]
     },
     "metadata": {},
     "output_type": "display_data"
    }
   ],
   "source": [
    "# Verificando tipos de variáveis por cada coluna.\n",
    "tipos_de_dados = df.info()\n",
    "display(tipos_de_dados)"
   ]
  },
  {
   "attachments": {},
   "cell_type": "markdown",
   "metadata": {},
   "source": [
    "_Acima percebemos que os tipos de dados estão praticamente conformes, exceto pela coluna 'Idade', que não precisa ser do tipo float e deve ser um número inteiro. O mesmo acontece com a coluna 'Tempo de casa'._"
   ]
  },
  {
   "attachments": {},
   "cell_type": "markdown",
   "metadata": {},
   "source": [
    "## Limpeza e preparação dos dados"
   ]
  },
  {
   "attachments": {},
   "cell_type": "markdown",
   "metadata": {},
   "source": [
    "##### Removendo linhas duplicadas"
   ]
  },
  {
   "cell_type": "code",
   "execution_count": 15,
   "metadata": {},
   "outputs": [],
   "source": [
    "#remover duplicatas\n",
    "df = df.drop_duplicates()"
   ]
  },
  {
   "cell_type": "code",
   "execution_count": 16,
   "metadata": {},
   "outputs": [],
   "source": [
    "#Remover colunas desnecessárias\n",
    "df = df.drop(columns=['id', 'id.1', 'Nome', 'Endereço'])"
   ]
  },
  {
   "attachments": {},
   "cell_type": "markdown",
   "metadata": {},
   "source": [
    "##### Lidando com dados faltantes"
   ]
  },
  {
   "cell_type": "code",
   "execution_count": 17,
   "metadata": {},
   "outputs": [
    {
     "data": {
      "text/plain": [
       "Genero             0\n",
       "Idade             56\n",
       "Raça               0\n",
       "Formação          44\n",
       "Estado             0\n",
       "Tempo de casa    200\n",
       "Departamento       0\n",
       "Senioridade        0\n",
       "dtype: int64"
      ]
     },
     "execution_count": 17,
     "metadata": {},
     "output_type": "execute_result"
    }
   ],
   "source": [
    "#Relacionando dados faltantes\n",
    "df.isna().sum()"
   ]
  },
  {
   "attachments": {},
   "cell_type": "markdown",
   "metadata": {},
   "source": [
    "_O número de linhas com valores nulos é no total 300, o que representa 3% da quantidade de linhas totais do dataset, por isso iremos retirá-las ao invés de preencher com valores tais como média, mediana, etc._\n",
    "\n",
    "_Sugestão Iago:_\n",
    "_Considerando que esses dados faltantes, como de atributos diferentes temos: 56+44+200 = 300. Como temos um total de 10000 observações é razoalvel eliminar esses dados. Representa eliminasr 300/10000, ou seja, 3% dos dados._"
   ]
  },
  {
   "cell_type": "code",
   "execution_count": 18,
   "metadata": {},
   "outputs": [],
   "source": [
    "#Deletar dados faltantes\n",
    "df = df.dropna(axis=0, how='any', inplace=False)"
   ]
  },
  {
   "cell_type": "code",
   "execution_count": 19,
   "metadata": {},
   "outputs": [
    {
     "data": {
      "text/plain": [
       "Genero           0\n",
       "Idade            0\n",
       "Raça             0\n",
       "Formação         0\n",
       "Estado           0\n",
       "Tempo de casa    0\n",
       "Departamento     0\n",
       "Senioridade      0\n",
       "dtype: int64"
      ]
     },
     "execution_count": 19,
     "metadata": {},
     "output_type": "execute_result"
    }
   ],
   "source": [
    "#Conferindo resultados\n",
    "df.isna().sum()"
   ]
  },
  {
   "attachments": {},
   "cell_type": "markdown",
   "metadata": {},
   "source": [
    "##### Outliers"
   ]
  },
  {
   "cell_type": "code",
   "execution_count": 20,
   "metadata": {},
   "outputs": [
    {
     "data": {
      "image/png": "[encoded data removed]",
      "text/plain": [
       "<Figure size 1000x600 with 1 Axes>"
      ]
     },
     "metadata": {},
     "output_type": "display_data"
    },
    {
     "data": {
      "image/png": "[encoded data removed]",
      "text/plain": [
       "<Figure size 640x480 with 1 Axes>"
      ]
     },
     "metadata": {},
     "output_type": "display_data"
    }
   ],
   "source": [
    "#Boxplot\n",
    "\n",
    "numerical_columns = df.select_dtypes(include='number').columns\n",
    "\n",
    "plt.figure(figsize=(10, 6))\n",
    "for column in numerical_columns:\n",
    "    df.boxplot(column=column)\n",
    "    plt.title(f'Boxplot for {column}')\n",
    "    plt.show()"
   ]
  },
  {
   "attachments": {},
   "cell_type": "markdown",
   "metadata": {},
   "source": [
    "_Não faz sentido funcionários com idade menor que 18 anos. Também não faz sentido tempo de casa negativo._\n",
    "\n",
    "_Avaliar a possibilidade de eliminar esses casos._"
   ]
  },
  {
   "attachments": {},
   "cell_type": "markdown",
   "metadata": {},
   "source": [
    "##### Removendo dados inválidos"
   ]
  },
  {
   "cell_type": "code",
   "execution_count": 21,
   "metadata": {},
   "outputs": [
    {
     "data": {
      "text/html": [
       "<div>\n",
       "<style scoped>\n",
       "    .dataframe tbody tr th:only-of-type {\n",
       "        vertical-align: middle;\n",
       "    }\n",
       "\n",
       "    .dataframe tbody tr th {\n",
       "        vertical-align: top;\n",
       "    }\n",
       "\n",
       "    .dataframe thead th {\n",
       "        text-align: right;\n",
       "    }\n",
       "</style>\n",
       "<table border=\"1\" class=\"dataframe\">\n",
       "  <thead>\n",
       "    <tr style=\"text-align: right;\">\n",
       "      <th></th>\n",
       "      <th>Genero</th>\n",
       "      <th>Idade</th>\n",
       "      <th>Raça</th>\n",
       "      <th>Formação</th>\n",
       "      <th>Estado</th>\n",
       "      <th>Tempo de casa</th>\n",
       "      <th>Departamento</th>\n",
       "      <th>Senioridade</th>\n",
       "    </tr>\n",
       "  </thead>\n",
       "  <tbody>\n",
       "    <tr>\n",
       "      <th>62</th>\n",
       "      <td>Masc</td>\n",
       "      <td>25.0</td>\n",
       "      <td>pardo</td>\n",
       "      <td>Ensino Superior</td>\n",
       "      <td>Paraná</td>\n",
       "      <td>-2.0</td>\n",
       "      <td>Desenvolvimento de Produtos</td>\n",
       "      <td>Analista Sênior</td>\n",
       "    </tr>\n",
       "    <tr>\n",
       "      <th>105</th>\n",
       "      <td>Masc</td>\n",
       "      <td>39.0</td>\n",
       "      <td>preto</td>\n",
       "      <td>Ensino Superior</td>\n",
       "      <td>Rio Grande do Sul</td>\n",
       "      <td>-3.0</td>\n",
       "      <td>Marketing</td>\n",
       "      <td>Analista Pleno</td>\n",
       "    </tr>\n",
       "    <tr>\n",
       "      <th>118</th>\n",
       "      <td>Fem</td>\n",
       "      <td>35.0</td>\n",
       "      <td>pardo</td>\n",
       "      <td>Mestrado</td>\n",
       "      <td>Rio de Janeiro</td>\n",
       "      <td>-2.0</td>\n",
       "      <td>Vendas</td>\n",
       "      <td>Analista Júnior</td>\n",
       "    </tr>\n",
       "    <tr>\n",
       "      <th>428</th>\n",
       "      <td>Masc</td>\n",
       "      <td>28.0</td>\n",
       "      <td>preto</td>\n",
       "      <td>Mestrado</td>\n",
       "      <td>Paraná</td>\n",
       "      <td>-2.0</td>\n",
       "      <td>Compras</td>\n",
       "      <td>Analista Sênior</td>\n",
       "    </tr>\n",
       "    <tr>\n",
       "      <th>574</th>\n",
       "      <td>Masc</td>\n",
       "      <td>28.0</td>\n",
       "      <td>branco</td>\n",
       "      <td>Ensino Superior</td>\n",
       "      <td>Rio Grande do Sul</td>\n",
       "      <td>-2.0</td>\n",
       "      <td>Operações</td>\n",
       "      <td>Analista Júnior</td>\n",
       "    </tr>\n",
       "    <tr>\n",
       "      <th>...</th>\n",
       "      <td>...</td>\n",
       "      <td>...</td>\n",
       "      <td>...</td>\n",
       "      <td>...</td>\n",
       "      <td>...</td>\n",
       "      <td>...</td>\n",
       "      <td>...</td>\n",
       "      <td>...</td>\n",
       "    </tr>\n",
       "    <tr>\n",
       "      <th>9648</th>\n",
       "      <td>Masc</td>\n",
       "      <td>22.0</td>\n",
       "      <td>preto</td>\n",
       "      <td>Ensino Superior</td>\n",
       "      <td>Rio Grande do Sul</td>\n",
       "      <td>-1.0</td>\n",
       "      <td>Administrativo</td>\n",
       "      <td>Gerente</td>\n",
       "    </tr>\n",
       "    <tr>\n",
       "      <th>9655</th>\n",
       "      <td>Masc</td>\n",
       "      <td>32.0</td>\n",
       "      <td>branco</td>\n",
       "      <td>Ensino Superior</td>\n",
       "      <td>São Paulo</td>\n",
       "      <td>-1.0</td>\n",
       "      <td>Operações</td>\n",
       "      <td>Analista Pleno</td>\n",
       "    </tr>\n",
       "    <tr>\n",
       "      <th>9727</th>\n",
       "      <td>Masc</td>\n",
       "      <td>19.0</td>\n",
       "      <td>branco</td>\n",
       "      <td>Ensino Superior</td>\n",
       "      <td>Rio Grande do Sul</td>\n",
       "      <td>-2.0</td>\n",
       "      <td>Operações</td>\n",
       "      <td>Analista Sênior</td>\n",
       "    </tr>\n",
       "    <tr>\n",
       "      <th>9826</th>\n",
       "      <td>Fem</td>\n",
       "      <td>19.0</td>\n",
       "      <td>pardo</td>\n",
       "      <td>Ensino Superior</td>\n",
       "      <td>Distrito Federal</td>\n",
       "      <td>-1.0</td>\n",
       "      <td>Operações</td>\n",
       "      <td>Gerente</td>\n",
       "    </tr>\n",
       "    <tr>\n",
       "      <th>9838</th>\n",
       "      <td>Fem</td>\n",
       "      <td>34.0</td>\n",
       "      <td>preto</td>\n",
       "      <td>Ensino Superior</td>\n",
       "      <td>São Paulo</td>\n",
       "      <td>-2.0</td>\n",
       "      <td>Desenvolvimento de Produtos</td>\n",
       "      <td>Analista Pleno</td>\n",
       "    </tr>\n",
       "  </tbody>\n",
       "</table>\n",
       "<p>96 rows × 8 columns</p>\n",
       "</div>"
      ],
      "text/plain": [
       "     Genero  Idade    Raça         Formação             Estado  Tempo de casa  \\\n",
       "62     Masc   25.0   pardo  Ensino Superior             Paraná           -2.0   \n",
       "105    Masc   39.0   preto  Ensino Superior  Rio Grande do Sul           -3.0   \n",
       "118     Fem   35.0   pardo         Mestrado     Rio de Janeiro           -2.0   \n",
       "428    Masc   28.0   preto         Mestrado             Paraná           -2.0   \n",
       "574    Masc   28.0  branco  Ensino Superior  Rio Grande do Sul           -2.0   \n",
       "...     ...    ...     ...              ...                ...            ...   \n",
       "9648   Masc   22.0   preto  Ensino Superior  Rio Grande do Sul           -1.0   \n",
       "9655   Masc   32.0  branco  Ensino Superior          São Paulo           -1.0   \n",
       "9727   Masc   19.0  branco  Ensino Superior  Rio Grande do Sul           -2.0   \n",
       "9826    Fem   19.0   pardo  Ensino Superior   Distrito Federal           -1.0   \n",
       "9838    Fem   34.0   preto  Ensino Superior          São Paulo           -2.0   \n",
       "\n",
       "                     Departamento      Senioridade  \n",
       "62    Desenvolvimento de Produtos  Analista Sênior  \n",
       "105                     Marketing   Analista Pleno  \n",
       "118                        Vendas  Analista Júnior  \n",
       "428                       Compras  Analista Sênior  \n",
       "574                     Operações  Analista Júnior  \n",
       "...                           ...              ...  \n",
       "9648               Administrativo          Gerente  \n",
       "9655                    Operações   Analista Pleno  \n",
       "9727                    Operações  Analista Sênior  \n",
       "9826                    Operações          Gerente  \n",
       "9838  Desenvolvimento de Produtos   Analista Pleno  \n",
       "\n",
       "[96 rows x 8 columns]"
      ]
     },
     "metadata": {},
     "output_type": "display_data"
    }
   ],
   "source": [
    "# Encontrando tempos de experiência negativos\n",
    "tempo_casa_negativo = df.loc[df['Tempo de casa'] < 0]\n",
    "display(tempo_casa_negativo)"
   ]
  },
  {
   "cell_type": "code",
   "execution_count": 22,
   "metadata": {},
   "outputs": [
    {
     "data": {
      "text/plain": [
       "(9701, 8)"
      ]
     },
     "execution_count": 22,
     "metadata": {},
     "output_type": "execute_result"
    }
   ],
   "source": [
    "df.shape"
   ]
  },
  {
   "attachments": {},
   "cell_type": "markdown",
   "metadata": {},
   "source": [
    "_Sugestão Iago:_\n",
    "\n",
    "_Analisando a coluna 'Tempo de casa' encontramos 96 observações com valor negativo. O que não parece fazer sentido. Como repesentam 96/9701 = 0.01, ou seja, 1% é razoável eliminar essas linhas._"
   ]
  },
  {
   "cell_type": "code",
   "execution_count": 23,
   "metadata": {},
   "outputs": [
    {
     "data": {
      "text/html": [
       "<div>\n",
       "<style scoped>\n",
       "    .dataframe tbody tr th:only-of-type {\n",
       "        vertical-align: middle;\n",
       "    }\n",
       "\n",
       "    .dataframe tbody tr th {\n",
       "        vertical-align: top;\n",
       "    }\n",
       "\n",
       "    .dataframe thead th {\n",
       "        text-align: right;\n",
       "    }\n",
       "</style>\n",
       "<table border=\"1\" class=\"dataframe\">\n",
       "  <thead>\n",
       "    <tr style=\"text-align: right;\">\n",
       "      <th></th>\n",
       "      <th>Genero</th>\n",
       "      <th>Idade</th>\n",
       "      <th>Raça</th>\n",
       "      <th>Formação</th>\n",
       "      <th>Estado</th>\n",
       "      <th>Tempo de casa</th>\n",
       "      <th>Departamento</th>\n",
       "      <th>Senioridade</th>\n",
       "    </tr>\n",
       "  </thead>\n",
       "  <tbody>\n",
       "    <tr>\n",
       "      <th>23</th>\n",
       "      <td>Masc</td>\n",
       "      <td>31.0</td>\n",
       "      <td>branco</td>\n",
       "      <td>Ensino Médio</td>\n",
       "      <td>Amazonas</td>\n",
       "      <td>0.0</td>\n",
       "      <td>Operações</td>\n",
       "      <td>Estagiário</td>\n",
       "    </tr>\n",
       "    <tr>\n",
       "      <th>29</th>\n",
       "      <td>Fem</td>\n",
       "      <td>29.0</td>\n",
       "      <td>branco</td>\n",
       "      <td>Ensino Superior</td>\n",
       "      <td>Paraná</td>\n",
       "      <td>0.0</td>\n",
       "      <td>Administrativo</td>\n",
       "      <td>Gerente</td>\n",
       "    </tr>\n",
       "    <tr>\n",
       "      <th>38</th>\n",
       "      <td>Fem</td>\n",
       "      <td>27.0</td>\n",
       "      <td>preto</td>\n",
       "      <td>Ensino Médio</td>\n",
       "      <td>Mato Grosso</td>\n",
       "      <td>0.0</td>\n",
       "      <td>Administrativo</td>\n",
       "      <td>Analista Júnior</td>\n",
       "    </tr>\n",
       "    <tr>\n",
       "      <th>41</th>\n",
       "      <td>Masc</td>\n",
       "      <td>34.0</td>\n",
       "      <td>branco</td>\n",
       "      <td>Ensino Superior</td>\n",
       "      <td>Pernambuco</td>\n",
       "      <td>0.0</td>\n",
       "      <td>TI</td>\n",
       "      <td>Analista Sênior</td>\n",
       "    </tr>\n",
       "    <tr>\n",
       "      <th>86</th>\n",
       "      <td>Fem</td>\n",
       "      <td>47.0</td>\n",
       "      <td>pardo</td>\n",
       "      <td>Ensino Superior</td>\n",
       "      <td>Piauí</td>\n",
       "      <td>0.0</td>\n",
       "      <td>TI</td>\n",
       "      <td>Analista Sênior</td>\n",
       "    </tr>\n",
       "    <tr>\n",
       "      <th>...</th>\n",
       "      <td>...</td>\n",
       "      <td>...</td>\n",
       "      <td>...</td>\n",
       "      <td>...</td>\n",
       "      <td>...</td>\n",
       "      <td>...</td>\n",
       "      <td>...</td>\n",
       "      <td>...</td>\n",
       "    </tr>\n",
       "    <tr>\n",
       "      <th>9807</th>\n",
       "      <td>Fem</td>\n",
       "      <td>51.0</td>\n",
       "      <td>branco</td>\n",
       "      <td>Ensino Superior</td>\n",
       "      <td>Rio de Janeiro</td>\n",
       "      <td>0.0</td>\n",
       "      <td>Administrativo</td>\n",
       "      <td>Gerente</td>\n",
       "    </tr>\n",
       "    <tr>\n",
       "      <th>9871</th>\n",
       "      <td>Masc</td>\n",
       "      <td>30.0</td>\n",
       "      <td>pardo</td>\n",
       "      <td>Ensino Superior</td>\n",
       "      <td>Acre</td>\n",
       "      <td>0.0</td>\n",
       "      <td>TI</td>\n",
       "      <td>Analista Pleno</td>\n",
       "    </tr>\n",
       "    <tr>\n",
       "      <th>9919</th>\n",
       "      <td>Masc</td>\n",
       "      <td>29.0</td>\n",
       "      <td>branco</td>\n",
       "      <td>Ensino Superior</td>\n",
       "      <td>Santa Catarina</td>\n",
       "      <td>0.0</td>\n",
       "      <td>Vendas</td>\n",
       "      <td>Analista Sênior</td>\n",
       "    </tr>\n",
       "    <tr>\n",
       "      <th>9946</th>\n",
       "      <td>Fem</td>\n",
       "      <td>41.0</td>\n",
       "      <td>pardo</td>\n",
       "      <td>Ensino Superior</td>\n",
       "      <td>Amazonas</td>\n",
       "      <td>0.0</td>\n",
       "      <td>Contabilidade</td>\n",
       "      <td>Analista Júnior</td>\n",
       "    </tr>\n",
       "    <tr>\n",
       "      <th>9950</th>\n",
       "      <td>Masc</td>\n",
       "      <td>36.0</td>\n",
       "      <td>pardo</td>\n",
       "      <td>Ensino Superior</td>\n",
       "      <td>Distrito Federal</td>\n",
       "      <td>0.0</td>\n",
       "      <td>TI</td>\n",
       "      <td>Gerente</td>\n",
       "    </tr>\n",
       "  </tbody>\n",
       "</table>\n",
       "<p>402 rows × 8 columns</p>\n",
       "</div>"
      ],
      "text/plain": [
       "     Genero  Idade    Raça         Formação            Estado  Tempo de casa  \\\n",
       "23     Masc   31.0  branco     Ensino Médio          Amazonas            0.0   \n",
       "29      Fem   29.0  branco  Ensino Superior            Paraná            0.0   \n",
       "38      Fem   27.0   preto     Ensino Médio       Mato Grosso            0.0   \n",
       "41     Masc   34.0  branco  Ensino Superior        Pernambuco            0.0   \n",
       "86      Fem   47.0   pardo  Ensino Superior             Piauí            0.0   \n",
       "...     ...    ...     ...              ...               ...            ...   \n",
       "9807    Fem   51.0  branco  Ensino Superior    Rio de Janeiro            0.0   \n",
       "9871   Masc   30.0   pardo  Ensino Superior              Acre            0.0   \n",
       "9919   Masc   29.0  branco  Ensino Superior    Santa Catarina            0.0   \n",
       "9946    Fem   41.0   pardo  Ensino Superior          Amazonas            0.0   \n",
       "9950   Masc   36.0   pardo  Ensino Superior  Distrito Federal            0.0   \n",
       "\n",
       "        Departamento      Senioridade  \n",
       "23         Operações       Estagiário  \n",
       "29    Administrativo          Gerente  \n",
       "38    Administrativo  Analista Júnior  \n",
       "41                TI  Analista Sênior  \n",
       "86                TI  Analista Sênior  \n",
       "...              ...              ...  \n",
       "9807  Administrativo          Gerente  \n",
       "9871              TI   Analista Pleno  \n",
       "9919          Vendas  Analista Sênior  \n",
       "9946   Contabilidade  Analista Júnior  \n",
       "9950              TI          Gerente  \n",
       "\n",
       "[402 rows x 8 columns]"
      ]
     },
     "metadata": {},
     "output_type": "display_data"
    }
   ],
   "source": [
    "# Encontrando tempos de casa zerados\n",
    "tempo_casa_zero = df.loc[df['Tempo de casa'] == 0]\n",
    "display(tempo_casa_zero)"
   ]
  },
  {
   "attachments": {},
   "cell_type": "markdown",
   "metadata": {},
   "source": [
    "_Os valores zerados para a variável 'Tempo de casa', não serão excluídas, porque entendemos não serem inválidas, apenas que os funcionários não alcançaram 1 (um) ano. Pois assumimos que esse atributo é medido em ano._"
   ]
  },
  {
   "cell_type": "code",
   "execution_count": 24,
   "metadata": {},
   "outputs": [
    {
     "data": {
      "text/plain": [
       "(9605, 8)"
      ]
     },
     "execution_count": 24,
     "metadata": {},
     "output_type": "execute_result"
    }
   ],
   "source": [
    "df = df.drop(df[df['Tempo de casa'] < 0 ].index)\n",
    "df.shape"
   ]
  },
  {
   "cell_type": "code",
   "execution_count": 25,
   "metadata": {},
   "outputs": [
    {
     "data": {
      "text/html": [
       "<div>\n",
       "<style scoped>\n",
       "    .dataframe tbody tr th:only-of-type {\n",
       "        vertical-align: middle;\n",
       "    }\n",
       "\n",
       "    .dataframe tbody tr th {\n",
       "        vertical-align: top;\n",
       "    }\n",
       "\n",
       "    .dataframe thead th {\n",
       "        text-align: right;\n",
       "    }\n",
       "</style>\n",
       "<table border=\"1\" class=\"dataframe\">\n",
       "  <thead>\n",
       "    <tr style=\"text-align: right;\">\n",
       "      <th></th>\n",
       "      <th>Genero</th>\n",
       "      <th>Idade</th>\n",
       "      <th>Raça</th>\n",
       "      <th>Formação</th>\n",
       "      <th>Estado</th>\n",
       "      <th>Tempo de casa</th>\n",
       "      <th>Departamento</th>\n",
       "      <th>Senioridade</th>\n",
       "    </tr>\n",
       "  </thead>\n",
       "  <tbody>\n",
       "  </tbody>\n",
       "</table>\n",
       "</div>"
      ],
      "text/plain": [
       "Empty DataFrame\n",
       "Columns: [Genero, Idade, Raça, Formação, Estado, Tempo de casa, Departamento, Senioridade]\n",
       "Index: []"
      ]
     },
     "metadata": {},
     "output_type": "display_data"
    }
   ],
   "source": [
    "#Conferindo resultados\n",
    "tempo_casa_negativo = df.loc[df['Tempo de casa'] < 0]\n",
    "display(tempo_casa_negativo)"
   ]
  },
  {
   "cell_type": "code",
   "execution_count": 26,
   "metadata": {},
   "outputs": [
    {
     "data": {
      "text/html": [
       "<div>\n",
       "<style scoped>\n",
       "    .dataframe tbody tr th:only-of-type {\n",
       "        vertical-align: middle;\n",
       "    }\n",
       "\n",
       "    .dataframe tbody tr th {\n",
       "        vertical-align: top;\n",
       "    }\n",
       "\n",
       "    .dataframe thead th {\n",
       "        text-align: right;\n",
       "    }\n",
       "</style>\n",
       "<table border=\"1\" class=\"dataframe\">\n",
       "  <thead>\n",
       "    <tr style=\"text-align: right;\">\n",
       "      <th></th>\n",
       "      <th>Genero</th>\n",
       "      <th>Idade</th>\n",
       "      <th>Raça</th>\n",
       "      <th>Formação</th>\n",
       "      <th>Estado</th>\n",
       "      <th>Tempo de casa</th>\n",
       "      <th>Departamento</th>\n",
       "      <th>Senioridade</th>\n",
       "    </tr>\n",
       "  </thead>\n",
       "  <tbody>\n",
       "    <tr>\n",
       "      <th>2581</th>\n",
       "      <td>Masc</td>\n",
       "      <td>12.0</td>\n",
       "      <td>preto</td>\n",
       "      <td>Ensino Superior</td>\n",
       "      <td>Ceará</td>\n",
       "      <td>2.0</td>\n",
       "      <td>Marketing</td>\n",
       "      <td>Analista Pleno</td>\n",
       "    </tr>\n",
       "    <tr>\n",
       "      <th>3886</th>\n",
       "      <td>Fem</td>\n",
       "      <td>6.0</td>\n",
       "      <td>preto</td>\n",
       "      <td>Ensino Superior</td>\n",
       "      <td>Alagoas</td>\n",
       "      <td>9.0</td>\n",
       "      <td>Recursos Humanos</td>\n",
       "      <td>Analista Júnior</td>\n",
       "    </tr>\n",
       "    <tr>\n",
       "      <th>4777</th>\n",
       "      <td>Masc</td>\n",
       "      <td>16.0</td>\n",
       "      <td>indígena</td>\n",
       "      <td>Pós graduação</td>\n",
       "      <td>Ceará</td>\n",
       "      <td>1.0</td>\n",
       "      <td>TI</td>\n",
       "      <td>Gerente</td>\n",
       "    </tr>\n",
       "    <tr>\n",
       "      <th>4928</th>\n",
       "      <td>Fem</td>\n",
       "      <td>13.0</td>\n",
       "      <td>preto</td>\n",
       "      <td>Ensino Superior</td>\n",
       "      <td>Amapá</td>\n",
       "      <td>7.0</td>\n",
       "      <td>Vendas</td>\n",
       "      <td>Analista Pleno</td>\n",
       "    </tr>\n",
       "    <tr>\n",
       "      <th>5001</th>\n",
       "      <td>Masc</td>\n",
       "      <td>17.0</td>\n",
       "      <td>preto</td>\n",
       "      <td>Ensino Superior</td>\n",
       "      <td>Amapá</td>\n",
       "      <td>2.0</td>\n",
       "      <td>Contabilidade</td>\n",
       "      <td>Analista Júnior</td>\n",
       "    </tr>\n",
       "    <tr>\n",
       "      <th>5845</th>\n",
       "      <td>Masc</td>\n",
       "      <td>16.0</td>\n",
       "      <td>preto</td>\n",
       "      <td>Ensino Superior</td>\n",
       "      <td>Paraná</td>\n",
       "      <td>4.0</td>\n",
       "      <td>Compras</td>\n",
       "      <td>Analista Pleno</td>\n",
       "    </tr>\n",
       "    <tr>\n",
       "      <th>5948</th>\n",
       "      <td>Masc</td>\n",
       "      <td>17.0</td>\n",
       "      <td>preto</td>\n",
       "      <td>Ensino Superior</td>\n",
       "      <td>Mato Grosso</td>\n",
       "      <td>10.0</td>\n",
       "      <td>TI</td>\n",
       "      <td>Analista Pleno</td>\n",
       "    </tr>\n",
       "    <tr>\n",
       "      <th>6599</th>\n",
       "      <td>Fem</td>\n",
       "      <td>15.0</td>\n",
       "      <td>indígena</td>\n",
       "      <td>Ensino Superior</td>\n",
       "      <td>Ceará</td>\n",
       "      <td>5.0</td>\n",
       "      <td>Recursos Humanos</td>\n",
       "      <td>Estagiário</td>\n",
       "    </tr>\n",
       "    <tr>\n",
       "      <th>6684</th>\n",
       "      <td>Masc</td>\n",
       "      <td>15.0</td>\n",
       "      <td>preto</td>\n",
       "      <td>Ensino Superior</td>\n",
       "      <td>Mato Grosso do Sul</td>\n",
       "      <td>9.0</td>\n",
       "      <td>Recursos Humanos</td>\n",
       "      <td>Analista Júnior</td>\n",
       "    </tr>\n",
       "    <tr>\n",
       "      <th>7173</th>\n",
       "      <td>Masc</td>\n",
       "      <td>10.0</td>\n",
       "      <td>preto</td>\n",
       "      <td>Pós graduação</td>\n",
       "      <td>Rio de Janeiro</td>\n",
       "      <td>5.0</td>\n",
       "      <td>Desenvolvimento de Produtos</td>\n",
       "      <td>Analista Pleno</td>\n",
       "    </tr>\n",
       "    <tr>\n",
       "      <th>7591</th>\n",
       "      <td>Masc</td>\n",
       "      <td>12.0</td>\n",
       "      <td>preto</td>\n",
       "      <td>Doutorado</td>\n",
       "      <td>Bahia</td>\n",
       "      <td>8.0</td>\n",
       "      <td>Contabilidade</td>\n",
       "      <td>Diretor</td>\n",
       "    </tr>\n",
       "    <tr>\n",
       "      <th>9917</th>\n",
       "      <td>Masc</td>\n",
       "      <td>12.0</td>\n",
       "      <td>indígena</td>\n",
       "      <td>Ensino Superior</td>\n",
       "      <td>Rio Grande do Norte</td>\n",
       "      <td>9.0</td>\n",
       "      <td>TI</td>\n",
       "      <td>Analista Júnior</td>\n",
       "    </tr>\n",
       "  </tbody>\n",
       "</table>\n",
       "</div>"
      ],
      "text/plain": [
       "     Genero  Idade      Raça         Formação               Estado  \\\n",
       "2581   Masc   12.0     preto  Ensino Superior                Ceará   \n",
       "3886    Fem    6.0     preto  Ensino Superior              Alagoas   \n",
       "4777   Masc   16.0  indígena    Pós graduação                Ceará   \n",
       "4928    Fem   13.0     preto  Ensino Superior                Amapá   \n",
       "5001   Masc   17.0     preto  Ensino Superior                Amapá   \n",
       "5845   Masc   16.0     preto  Ensino Superior               Paraná   \n",
       "5948   Masc   17.0     preto  Ensino Superior          Mato Grosso   \n",
       "6599    Fem   15.0  indígena  Ensino Superior                Ceará   \n",
       "6684   Masc   15.0     preto  Ensino Superior   Mato Grosso do Sul   \n",
       "7173   Masc   10.0     preto    Pós graduação       Rio de Janeiro   \n",
       "7591   Masc   12.0     preto        Doutorado                Bahia   \n",
       "9917   Masc   12.0  indígena  Ensino Superior  Rio Grande do Norte   \n",
       "\n",
       "      Tempo de casa                 Departamento      Senioridade  \n",
       "2581            2.0                    Marketing   Analista Pleno  \n",
       "3886            9.0             Recursos Humanos  Analista Júnior  \n",
       "4777            1.0                           TI          Gerente  \n",
       "4928            7.0                       Vendas   Analista Pleno  \n",
       "5001            2.0                Contabilidade  Analista Júnior  \n",
       "5845            4.0                      Compras   Analista Pleno  \n",
       "5948           10.0                           TI   Analista Pleno  \n",
       "6599            5.0             Recursos Humanos       Estagiário  \n",
       "6684            9.0             Recursos Humanos  Analista Júnior  \n",
       "7173            5.0  Desenvolvimento de Produtos   Analista Pleno  \n",
       "7591            8.0                Contabilidade          Diretor  \n",
       "9917            9.0                           TI  Analista Júnior  "
      ]
     },
     "metadata": {},
     "output_type": "display_data"
    }
   ],
   "source": [
    "# Encontrando Idades inválidas (menores de idade)\n",
    "menor_idade = df.loc[df['Idade'] < 18]\n",
    "display(menor_idade)"
   ]
  },
  {
   "cell_type": "code",
   "execution_count": 27,
   "metadata": {},
   "outputs": [
    {
     "data": {
      "text/plain": [
       "(9605, 8)"
      ]
     },
     "execution_count": 27,
     "metadata": {},
     "output_type": "execute_result"
    }
   ],
   "source": [
    "df.shape"
   ]
  },
  {
   "attachments": {},
   "cell_type": "markdown",
   "metadata": {},
   "source": [
    "_Sugestão Iago:_\n",
    "\n",
    "_Analisando a coluna Idade junto a coluna Formação, não faz sentido esses dados com Idade menor que 18 anos. Como repesentam 12/9605 = 0.001, ou seja, 0,1% é razoável eliminar essas linhas._"
   ]
  },
  {
   "cell_type": "code",
   "execution_count": 28,
   "metadata": {},
   "outputs": [],
   "source": [
    "\n",
    "df = df.drop(df[df['Idade'] < 18].index)"
   ]
  },
  {
   "cell_type": "code",
   "execution_count": 29,
   "metadata": {},
   "outputs": [
    {
     "data": {
      "text/html": [
       "<div>\n",
       "<style scoped>\n",
       "    .dataframe tbody tr th:only-of-type {\n",
       "        vertical-align: middle;\n",
       "    }\n",
       "\n",
       "    .dataframe tbody tr th {\n",
       "        vertical-align: top;\n",
       "    }\n",
       "\n",
       "    .dataframe thead th {\n",
       "        text-align: right;\n",
       "    }\n",
       "</style>\n",
       "<table border=\"1\" class=\"dataframe\">\n",
       "  <thead>\n",
       "    <tr style=\"text-align: right;\">\n",
       "      <th></th>\n",
       "      <th>Genero</th>\n",
       "      <th>Idade</th>\n",
       "      <th>Raça</th>\n",
       "      <th>Formação</th>\n",
       "      <th>Estado</th>\n",
       "      <th>Tempo de casa</th>\n",
       "      <th>Departamento</th>\n",
       "      <th>Senioridade</th>\n",
       "    </tr>\n",
       "  </thead>\n",
       "  <tbody>\n",
       "  </tbody>\n",
       "</table>\n",
       "</div>"
      ],
      "text/plain": [
       "Empty DataFrame\n",
       "Columns: [Genero, Idade, Raça, Formação, Estado, Tempo de casa, Departamento, Senioridade]\n",
       "Index: []"
      ]
     },
     "metadata": {},
     "output_type": "display_data"
    }
   ],
   "source": [
    "#Conferindo resultados\n",
    "menor_idade = df.loc[df['Idade'] < 18]\n",
    "display(menor_idade)"
   ]
  },
  {
   "cell_type": "code",
   "execution_count": 30,
   "metadata": {},
   "outputs": [
    {
     "data": {
      "text/html": [
       "<div>\n",
       "<style scoped>\n",
       "    .dataframe tbody tr th:only-of-type {\n",
       "        vertical-align: middle;\n",
       "    }\n",
       "\n",
       "    .dataframe tbody tr th {\n",
       "        vertical-align: top;\n",
       "    }\n",
       "\n",
       "    .dataframe thead th {\n",
       "        text-align: right;\n",
       "    }\n",
       "</style>\n",
       "<table border=\"1\" class=\"dataframe\">\n",
       "  <thead>\n",
       "    <tr style=\"text-align: right;\">\n",
       "      <th></th>\n",
       "      <th>Genero</th>\n",
       "      <th>Idade</th>\n",
       "      <th>Raça</th>\n",
       "      <th>Formação</th>\n",
       "      <th>Estado</th>\n",
       "      <th>Tempo de casa</th>\n",
       "      <th>Departamento</th>\n",
       "      <th>Senioridade</th>\n",
       "    </tr>\n",
       "  </thead>\n",
       "  <tbody>\n",
       "  </tbody>\n",
       "</table>\n",
       "</div>"
      ],
      "text/plain": [
       "Empty DataFrame\n",
       "Columns: [Genero, Idade, Raça, Formação, Estado, Tempo de casa, Departamento, Senioridade]\n",
       "Index: []"
      ]
     },
     "metadata": {},
     "output_type": "display_data"
    }
   ],
   "source": [
    "tempo_casa_idade = df[df['Tempo de casa'] > df['Idade']]\n",
    "display(tempo_casa_idade)"
   ]
  },
  {
   "cell_type": "code",
   "execution_count": 31,
   "metadata": {},
   "outputs": [
    {
     "data": {
      "text/html": [
       "<div>\n",
       "<style scoped>\n",
       "    .dataframe tbody tr th:only-of-type {\n",
       "        vertical-align: middle;\n",
       "    }\n",
       "\n",
       "    .dataframe tbody tr th {\n",
       "        vertical-align: top;\n",
       "    }\n",
       "\n",
       "    .dataframe thead th {\n",
       "        text-align: right;\n",
       "    }\n",
       "</style>\n",
       "<table border=\"1\" class=\"dataframe\">\n",
       "  <thead>\n",
       "    <tr style=\"text-align: right;\">\n",
       "      <th></th>\n",
       "      <th>Genero</th>\n",
       "      <th>Idade</th>\n",
       "      <th>Raça</th>\n",
       "      <th>Formação</th>\n",
       "      <th>Estado</th>\n",
       "      <th>Tempo de casa</th>\n",
       "      <th>Departamento</th>\n",
       "      <th>Senioridade</th>\n",
       "    </tr>\n",
       "  </thead>\n",
       "  <tbody>\n",
       "    <tr>\n",
       "      <th>5682</th>\n",
       "      <td>Masc</td>\n",
       "      <td>31.0</td>\n",
       "      <td>branco</td>\n",
       "      <td>Ensino Superior</td>\n",
       "      <td>Rio de Janeiro</td>\n",
       "      <td>17.0</td>\n",
       "      <td>Marketing</td>\n",
       "      <td>Analista Sênior</td>\n",
       "    </tr>\n",
       "  </tbody>\n",
       "</table>\n",
       "</div>"
      ],
      "text/plain": [
       "     Genero  Idade    Raça         Formação          Estado  Tempo de casa  \\\n",
       "5682   Masc   31.0  branco  Ensino Superior  Rio de Janeiro           17.0   \n",
       "\n",
       "     Departamento      Senioridade  \n",
       "5682    Marketing  Analista Sênior  "
      ]
     },
     "metadata": {},
     "output_type": "display_data"
    }
   ],
   "source": [
    "tempo_casa_alto = df[df['Tempo de casa'] >= 17]\n",
    "display(tempo_casa_alto)"
   ]
  },
  {
   "cell_type": "code",
   "execution_count": 32,
   "metadata": {},
   "outputs": [
    {
     "data": {
      "text/html": [
       "<div>\n",
       "<style scoped>\n",
       "    .dataframe tbody tr th:only-of-type {\n",
       "        vertical-align: middle;\n",
       "    }\n",
       "\n",
       "    .dataframe tbody tr th {\n",
       "        vertical-align: top;\n",
       "    }\n",
       "\n",
       "    .dataframe thead th {\n",
       "        text-align: right;\n",
       "    }\n",
       "</style>\n",
       "<table border=\"1\" class=\"dataframe\">\n",
       "  <thead>\n",
       "    <tr style=\"text-align: right;\">\n",
       "      <th></th>\n",
       "      <th>Genero</th>\n",
       "      <th>Idade</th>\n",
       "      <th>Raça</th>\n",
       "      <th>Formação</th>\n",
       "      <th>Estado</th>\n",
       "      <th>Tempo de casa</th>\n",
       "      <th>Departamento</th>\n",
       "      <th>Senioridade</th>\n",
       "    </tr>\n",
       "  </thead>\n",
       "  <tbody>\n",
       "    <tr>\n",
       "      <th>4</th>\n",
       "      <td>Masc</td>\n",
       "      <td>21.0</td>\n",
       "      <td>pardo</td>\n",
       "      <td>Ensino Superior</td>\n",
       "      <td>Ceará</td>\n",
       "      <td>5.0</td>\n",
       "      <td>Recursos Humanos</td>\n",
       "      <td>Analista Júnior</td>\n",
       "    </tr>\n",
       "    <tr>\n",
       "      <th>12</th>\n",
       "      <td>Masc</td>\n",
       "      <td>18.0</td>\n",
       "      <td>preto</td>\n",
       "      <td>Pós graduação</td>\n",
       "      <td>Santa Catarina</td>\n",
       "      <td>8.0</td>\n",
       "      <td>Administrativo</td>\n",
       "      <td>Analista Júnior</td>\n",
       "    </tr>\n",
       "    <tr>\n",
       "      <th>14</th>\n",
       "      <td>Masc</td>\n",
       "      <td>19.0</td>\n",
       "      <td>branco</td>\n",
       "      <td>Ensino Médio</td>\n",
       "      <td>Amazonas</td>\n",
       "      <td>6.0</td>\n",
       "      <td>Administrativo</td>\n",
       "      <td>Analista Júnior</td>\n",
       "    </tr>\n",
       "    <tr>\n",
       "      <th>18</th>\n",
       "      <td>Masc</td>\n",
       "      <td>18.0</td>\n",
       "      <td>branco</td>\n",
       "      <td>Ensino Médio</td>\n",
       "      <td>Ceará</td>\n",
       "      <td>5.0</td>\n",
       "      <td>Contabilidade</td>\n",
       "      <td>Gerente</td>\n",
       "    </tr>\n",
       "    <tr>\n",
       "      <th>32</th>\n",
       "      <td>Fem</td>\n",
       "      <td>18.0</td>\n",
       "      <td>branco</td>\n",
       "      <td>Mestrado</td>\n",
       "      <td>Piauí</td>\n",
       "      <td>5.0</td>\n",
       "      <td>Marketing</td>\n",
       "      <td>Analista Júnior</td>\n",
       "    </tr>\n",
       "    <tr>\n",
       "      <th>...</th>\n",
       "      <td>...</td>\n",
       "      <td>...</td>\n",
       "      <td>...</td>\n",
       "      <td>...</td>\n",
       "      <td>...</td>\n",
       "      <td>...</td>\n",
       "      <td>...</td>\n",
       "      <td>...</td>\n",
       "    </tr>\n",
       "    <tr>\n",
       "      <th>9986</th>\n",
       "      <td>Masc</td>\n",
       "      <td>19.0</td>\n",
       "      <td>preto</td>\n",
       "      <td>Pós graduação</td>\n",
       "      <td>Santa Catarina</td>\n",
       "      <td>3.0</td>\n",
       "      <td>Recursos Humanos</td>\n",
       "      <td>Analista Sênior</td>\n",
       "    </tr>\n",
       "    <tr>\n",
       "      <th>9989</th>\n",
       "      <td>Masc</td>\n",
       "      <td>21.0</td>\n",
       "      <td>pardo</td>\n",
       "      <td>Pós graduação</td>\n",
       "      <td>Piauí</td>\n",
       "      <td>9.0</td>\n",
       "      <td>Compras</td>\n",
       "      <td>Analista Júnior</td>\n",
       "    </tr>\n",
       "    <tr>\n",
       "      <th>9992</th>\n",
       "      <td>Masc</td>\n",
       "      <td>28.0</td>\n",
       "      <td>branco</td>\n",
       "      <td>Ensino Superior</td>\n",
       "      <td>Santa Catarina</td>\n",
       "      <td>13.0</td>\n",
       "      <td>Compras</td>\n",
       "      <td>Diretor</td>\n",
       "    </tr>\n",
       "    <tr>\n",
       "      <th>9995</th>\n",
       "      <td>Masc</td>\n",
       "      <td>21.0</td>\n",
       "      <td>pardo</td>\n",
       "      <td>Ensino Superior</td>\n",
       "      <td>Rondônia</td>\n",
       "      <td>9.0</td>\n",
       "      <td>Contabilidade</td>\n",
       "      <td>Analista Júnior</td>\n",
       "    </tr>\n",
       "    <tr>\n",
       "      <th>9997</th>\n",
       "      <td>Masc</td>\n",
       "      <td>21.0</td>\n",
       "      <td>branco</td>\n",
       "      <td>Ensino Superior</td>\n",
       "      <td>Distrito Federal</td>\n",
       "      <td>6.0</td>\n",
       "      <td>Desenvolvimento de Produtos</td>\n",
       "      <td>Gerente</td>\n",
       "    </tr>\n",
       "  </tbody>\n",
       "</table>\n",
       "<p>2105 rows × 8 columns</p>\n",
       "</div>"
      ],
      "text/plain": [
       "     Genero  Idade    Raça         Formação            Estado  Tempo de casa  \\\n",
       "4      Masc   21.0   pardo  Ensino Superior             Ceará            5.0   \n",
       "12     Masc   18.0   preto    Pós graduação    Santa Catarina            8.0   \n",
       "14     Masc   19.0  branco     Ensino Médio          Amazonas            6.0   \n",
       "18     Masc   18.0  branco     Ensino Médio             Ceará            5.0   \n",
       "32      Fem   18.0  branco         Mestrado             Piauí            5.0   \n",
       "...     ...    ...     ...              ...               ...            ...   \n",
       "9986   Masc   19.0   preto    Pós graduação    Santa Catarina            3.0   \n",
       "9989   Masc   21.0   pardo    Pós graduação             Piauí            9.0   \n",
       "9992   Masc   28.0  branco  Ensino Superior    Santa Catarina           13.0   \n",
       "9995   Masc   21.0   pardo  Ensino Superior          Rondônia            9.0   \n",
       "9997   Masc   21.0  branco  Ensino Superior  Distrito Federal            6.0   \n",
       "\n",
       "                     Departamento      Senioridade  \n",
       "4                Recursos Humanos  Analista Júnior  \n",
       "12                 Administrativo  Analista Júnior  \n",
       "14                 Administrativo  Analista Júnior  \n",
       "18                  Contabilidade          Gerente  \n",
       "32                      Marketing  Analista Júnior  \n",
       "...                           ...              ...  \n",
       "9986             Recursos Humanos  Analista Sênior  \n",
       "9989                      Compras  Analista Júnior  \n",
       "9992                      Compras          Diretor  \n",
       "9995                Contabilidade  Analista Júnior  \n",
       "9997  Desenvolvimento de Produtos          Gerente  \n",
       "\n",
       "[2105 rows x 8 columns]"
      ]
     },
     "metadata": {},
     "output_type": "display_data"
    }
   ],
   "source": [
    "tempo_casa_menor_idade = df[(df['Idade'] - df['Tempo de casa']) < 18]\n",
    "display(tempo_casa_menor_idade)"
   ]
  },
  {
   "attachments": {},
   "cell_type": "markdown",
   "metadata": {},
   "source": [
    "# *TEMOS UM PROBLEMA AQUI*"
   ]
  },
  {
   "cell_type": "code",
   "execution_count": 33,
   "metadata": {},
   "outputs": [
    {
     "data": {
      "text/plain": [
       "425.0"
      ]
     },
     "execution_count": 33,
     "metadata": {},
     "output_type": "execute_result"
    }
   ],
   "source": [
    "850/2"
   ]
  },
  {
   "attachments": {},
   "cell_type": "markdown",
   "metadata": {},
   "source": [
    "_Sugestão Iago: Explicar._"
   ]
  },
  {
   "attachments": {},
   "cell_type": "markdown",
   "metadata": {},
   "source": [
    "## Manipulação e transformação dos dados"
   ]
  },
  {
   "attachments": {},
   "cell_type": "markdown",
   "metadata": {},
   "source": [
    "##### Tipos de variáveis"
   ]
  },
  {
   "cell_type": "code",
   "execution_count": 34,
   "metadata": {},
   "outputs": [
    {
     "name": "stdout",
     "output_type": "stream",
     "text": [
      "<class 'pandas.core.frame.DataFrame'>\n",
      "Index: 9593 entries, 0 to 9999\n",
      "Data columns (total 8 columns):\n",
      " #   Column         Non-Null Count  Dtype  \n",
      "---  ------         --------------  -----  \n",
      " 0   Genero         9593 non-null   object \n",
      " 1   Idade          9593 non-null   float64\n",
      " 2   Raça           9593 non-null   object \n",
      " 3   Formação       9593 non-null   object \n",
      " 4   Estado         9593 non-null   object \n",
      " 5   Tempo de casa  9593 non-null   float64\n",
      " 6   Departamento   9593 non-null   object \n",
      " 7   Senioridade    9593 non-null   object \n",
      "dtypes: float64(2), object(6)\n",
      "memory usage: 674.5+ KB\n"
     ]
    }
   ],
   "source": [
    "# Verificando tipos de variáveis das colunas\n",
    "df.info()"
   ]
  },
  {
   "cell_type": "code",
   "execution_count": 35,
   "metadata": {},
   "outputs": [
    {
     "name": "stdout",
     "output_type": "stream",
     "text": [
      "<class 'pandas.core.frame.DataFrame'>\n",
      "Index: 0 entries\n",
      "Data columns (total 8 columns):\n",
      " #   Column         Non-Null Count  Dtype  \n",
      "---  ------         --------------  -----  \n",
      " 0   Genero         0 non-null      object \n",
      " 1   Idade          0 non-null      float64\n",
      " 2   Raça           0 non-null      object \n",
      " 3   Formação       0 non-null      object \n",
      " 4   Estado         0 non-null      object \n",
      " 5   Tempo de casa  0 non-null      float64\n",
      " 6   Departamento   0 non-null      object \n",
      " 7   Senioridade    0 non-null      object \n",
      "dtypes: float64(2), object(6)\n",
      "memory usage: 0.0+ bytes\n"
     ]
    }
   ],
   "source": [
    "#Verificando se realmente existem números decimais nas colunas 'Idade' e 'Tempo de casa'\n",
    "df_decimais = df.loc[(df['Idade'] % 1 != 0) & (df['Tempo de casa'] % 1 != 0)]\n",
    "df_decimais.info()"
   ]
  },
  {
   "cell_type": "code",
   "execution_count": 36,
   "metadata": {},
   "outputs": [],
   "source": [
    "# Convertendo as colunas Idade e Tempo de Casa para (INT)\n",
    "df['Idade'] = df['Idade'].astype(int)\n",
    "df['Tempo de casa'] = df['Tempo de casa'].astype(int)"
   ]
  },
  {
   "cell_type": "code",
   "execution_count": 37,
   "metadata": {},
   "outputs": [
    {
     "name": "stdout",
     "output_type": "stream",
     "text": [
      "<class 'pandas.core.frame.DataFrame'>\n",
      "Index: 9593 entries, 0 to 9999\n",
      "Data columns (total 8 columns):\n",
      " #   Column         Non-Null Count  Dtype \n",
      "---  ------         --------------  ----- \n",
      " 0   Genero         9593 non-null   object\n",
      " 1   Idade          9593 non-null   int32 \n",
      " 2   Raça           9593 non-null   object\n",
      " 3   Formação       9593 non-null   object\n",
      " 4   Estado         9593 non-null   object\n",
      " 5   Tempo de casa  9593 non-null   int32 \n",
      " 6   Departamento   9593 non-null   object\n",
      " 7   Senioridade    9593 non-null   object\n",
      "dtypes: int32(2), object(6)\n",
      "memory usage: 599.6+ KB\n"
     ]
    }
   ],
   "source": [
    "# Conferindo resultados\n",
    "df.info()"
   ]
  },
  {
   "attachments": {},
   "cell_type": "markdown",
   "metadata": {},
   "source": [
    "##### Corrigindo grafias"
   ]
  },
  {
   "cell_type": "code",
   "execution_count": 38,
   "metadata": {},
   "outputs": [],
   "source": [
    "df['Senioridade'] = df['Senioridade'].replace('gerente', 'Gerente')"
   ]
  },
  {
   "cell_type": "code",
   "execution_count": 39,
   "metadata": {},
   "outputs": [],
   "source": [
    "df['Genero'] = df['Genero'].replace({'Fem' : 'Feminino', 'Masc' : 'Masculino'})"
   ]
  },
  {
   "cell_type": "code",
   "execution_count": 40,
   "metadata": {},
   "outputs": [],
   "source": [
    "df['Raça'] = df['Raça'].replace({'preto' : 'Preto', 'pardo' : 'Pardo', 'branco' : 'Branco', 'indígena' : 'Indígena', 'amarelo' : 'Amarelo'})"
   ]
  },
  {
   "cell_type": "code",
   "execution_count": 41,
   "metadata": {},
   "outputs": [],
   "source": [
    "df = df.rename(columns={'Genero': 'Gênero', 'Tempo de casa' : 'Tempo de Empresa'})"
   ]
  },
  {
   "attachments": {},
   "cell_type": "markdown",
   "metadata": {},
   "source": [
    "##### Coluna diversidade"
   ]
  },
  {
   "cell_type": "code",
   "execution_count": 42,
   "metadata": {},
   "outputs": [],
   "source": [
    "# Criando coluna Diversidade para facilitar a visualização das diversidades presentes\n",
    "df['Diversidade'] = df ['Raça'] != 'branco'"
   ]
  },
  {
   "attachments": {},
   "cell_type": "markdown",
   "metadata": {},
   "source": [
    "##### Organização"
   ]
  },
  {
   "cell_type": "code",
   "execution_count": 43,
   "metadata": {},
   "outputs": [],
   "source": [
    "# Alterando a ordem das colunas para uma melhor visualização\n",
    "nova_ordem_colunas = ['Gênero', 'Idade', 'Raça', 'Diversidade', 'Formação', 'Estado', 'Tempo de Empresa', 'Departamento', 'Senioridade']\n",
    "df = df.reindex(columns=nova_ordem_colunas)"
   ]
  },
  {
   "cell_type": "code",
   "execution_count": 44,
   "metadata": {},
   "outputs": [
    {
     "data": {
      "text/html": [
       "<div>\n",
       "<style scoped>\n",
       "    .dataframe tbody tr th:only-of-type {\n",
       "        vertical-align: middle;\n",
       "    }\n",
       "\n",
       "    .dataframe tbody tr th {\n",
       "        vertical-align: top;\n",
       "    }\n",
       "\n",
       "    .dataframe thead th {\n",
       "        text-align: right;\n",
       "    }\n",
       "</style>\n",
       "<table border=\"1\" class=\"dataframe\">\n",
       "  <thead>\n",
       "    <tr style=\"text-align: right;\">\n",
       "      <th></th>\n",
       "      <th>Gênero</th>\n",
       "      <th>Idade</th>\n",
       "      <th>Raça</th>\n",
       "      <th>Diversidade</th>\n",
       "      <th>Formação</th>\n",
       "      <th>Estado</th>\n",
       "      <th>Tempo de Empresa</th>\n",
       "      <th>Departamento</th>\n",
       "      <th>Senioridade</th>\n",
       "    </tr>\n",
       "  </thead>\n",
       "  <tbody>\n",
       "    <tr>\n",
       "      <th>0</th>\n",
       "      <td>Feminino</td>\n",
       "      <td>34</td>\n",
       "      <td>Pardo</td>\n",
       "      <td>True</td>\n",
       "      <td>Ensino Médio</td>\n",
       "      <td>Santa Catarina</td>\n",
       "      <td>12</td>\n",
       "      <td>Compras</td>\n",
       "      <td>Analista Pleno</td>\n",
       "    </tr>\n",
       "    <tr>\n",
       "      <th>1</th>\n",
       "      <td>Feminino</td>\n",
       "      <td>26</td>\n",
       "      <td>Pardo</td>\n",
       "      <td>True</td>\n",
       "      <td>Ensino Médio</td>\n",
       "      <td>Pará</td>\n",
       "      <td>6</td>\n",
       "      <td>Contabilidade</td>\n",
       "      <td>Analista Júnior</td>\n",
       "    </tr>\n",
       "    <tr>\n",
       "      <th>2</th>\n",
       "      <td>Masculino</td>\n",
       "      <td>35</td>\n",
       "      <td>Pardo</td>\n",
       "      <td>True</td>\n",
       "      <td>Ensino Médio</td>\n",
       "      <td>Santa Catarina</td>\n",
       "      <td>5</td>\n",
       "      <td>Vendas</td>\n",
       "      <td>Analista Pleno</td>\n",
       "    </tr>\n",
       "    <tr>\n",
       "      <th>3</th>\n",
       "      <td>Masculino</td>\n",
       "      <td>24</td>\n",
       "      <td>Pardo</td>\n",
       "      <td>True</td>\n",
       "      <td>Ensino Superior</td>\n",
       "      <td>Tocantins</td>\n",
       "      <td>4</td>\n",
       "      <td>Administrativo</td>\n",
       "      <td>Gerente</td>\n",
       "    </tr>\n",
       "    <tr>\n",
       "      <th>4</th>\n",
       "      <td>Masculino</td>\n",
       "      <td>21</td>\n",
       "      <td>Pardo</td>\n",
       "      <td>True</td>\n",
       "      <td>Ensino Superior</td>\n",
       "      <td>Ceará</td>\n",
       "      <td>5</td>\n",
       "      <td>Recursos Humanos</td>\n",
       "      <td>Analista Júnior</td>\n",
       "    </tr>\n",
       "    <tr>\n",
       "      <th>5</th>\n",
       "      <td>Feminino</td>\n",
       "      <td>49</td>\n",
       "      <td>Pardo</td>\n",
       "      <td>True</td>\n",
       "      <td>Ensino Superior</td>\n",
       "      <td>São Paulo</td>\n",
       "      <td>3</td>\n",
       "      <td>Contabilidade</td>\n",
       "      <td>Analista Pleno</td>\n",
       "    </tr>\n",
       "    <tr>\n",
       "      <th>6</th>\n",
       "      <td>Masculino</td>\n",
       "      <td>29</td>\n",
       "      <td>Pardo</td>\n",
       "      <td>True</td>\n",
       "      <td>Pós graduação</td>\n",
       "      <td>Ceará</td>\n",
       "      <td>9</td>\n",
       "      <td>Compras</td>\n",
       "      <td>Analista Sênior</td>\n",
       "    </tr>\n",
       "    <tr>\n",
       "      <th>7</th>\n",
       "      <td>Masculino</td>\n",
       "      <td>35</td>\n",
       "      <td>Pardo</td>\n",
       "      <td>True</td>\n",
       "      <td>Ensino Superior</td>\n",
       "      <td>Rondônia</td>\n",
       "      <td>8</td>\n",
       "      <td>Operações</td>\n",
       "      <td>Analista Júnior</td>\n",
       "    </tr>\n",
       "    <tr>\n",
       "      <th>8</th>\n",
       "      <td>Masculino</td>\n",
       "      <td>40</td>\n",
       "      <td>Pardo</td>\n",
       "      <td>True</td>\n",
       "      <td>Mestrado</td>\n",
       "      <td>Amapá</td>\n",
       "      <td>1</td>\n",
       "      <td>Administrativo</td>\n",
       "      <td>Analista Pleno</td>\n",
       "    </tr>\n",
       "    <tr>\n",
       "      <th>9</th>\n",
       "      <td>Masculino</td>\n",
       "      <td>33</td>\n",
       "      <td>Pardo</td>\n",
       "      <td>True</td>\n",
       "      <td>Ensino Superior</td>\n",
       "      <td>Minas Gerais</td>\n",
       "      <td>3</td>\n",
       "      <td>Desenvolvimento de Produtos</td>\n",
       "      <td>Analista Pleno</td>\n",
       "    </tr>\n",
       "  </tbody>\n",
       "</table>\n",
       "</div>"
      ],
      "text/plain": [
       "      Gênero  Idade   Raça  Diversidade         Formação          Estado  \\\n",
       "0   Feminino     34  Pardo         True     Ensino Médio  Santa Catarina   \n",
       "1   Feminino     26  Pardo         True     Ensino Médio            Pará   \n",
       "2  Masculino     35  Pardo         True     Ensino Médio  Santa Catarina   \n",
       "3  Masculino     24  Pardo         True  Ensino Superior       Tocantins   \n",
       "4  Masculino     21  Pardo         True  Ensino Superior           Ceará   \n",
       "5   Feminino     49  Pardo         True  Ensino Superior       São Paulo   \n",
       "6  Masculino     29  Pardo         True    Pós graduação           Ceará   \n",
       "7  Masculino     35  Pardo         True  Ensino Superior        Rondônia   \n",
       "8  Masculino     40  Pardo         True         Mestrado           Amapá   \n",
       "9  Masculino     33  Pardo         True  Ensino Superior    Minas Gerais   \n",
       "\n",
       "   Tempo de Empresa                 Departamento      Senioridade  \n",
       "0                12                      Compras   Analista Pleno  \n",
       "1                 6                Contabilidade  Analista Júnior  \n",
       "2                 5                       Vendas   Analista Pleno  \n",
       "3                 4               Administrativo          Gerente  \n",
       "4                 5             Recursos Humanos  Analista Júnior  \n",
       "5                 3                Contabilidade   Analista Pleno  \n",
       "6                 9                      Compras  Analista Sênior  \n",
       "7                 8                    Operações  Analista Júnior  \n",
       "8                 1               Administrativo   Analista Pleno  \n",
       "9                 3  Desenvolvimento de Produtos   Analista Pleno  "
      ]
     },
     "execution_count": 44,
     "metadata": {},
     "output_type": "execute_result"
    }
   ],
   "source": [
    "#Conferindo resultados das transformações\n",
    "df.head(10)"
   ]
  },
  {
   "attachments": {},
   "cell_type": "markdown",
   "metadata": {},
   "source": [
    "## Análise e exploração dos dados"
   ]
  },
  {
   "attachments": {},
   "cell_type": "markdown",
   "metadata": {},
   "source": [
    "#### Como os colaboradores estão distribuídos de acordo com o gênero?"
   ]
  },
  {
   "cell_type": "code",
   "execution_count": 45,
   "metadata": {},
   "outputs": [
    {
     "data": {
      "image/png": "[encoded data removed]",
      "text/plain": [
       "<Figure size 800x600 with 1 Axes>"
      ]
     },
     "metadata": {},
     "output_type": "display_data"
    }
   ],
   "source": [
    "contagem_genero = df['Gênero'].value_counts()\n",
    "sns.set(style=\"whitegrid\")\n",
    "\n",
    "plt.figure(figsize=(8, 6))\n",
    "barras = sns.barplot(x=contagem_genero.index, y=contagem_genero.values, palette=\"pastel\", hue=contagem_genero.index, dodge=False, legend=False)\n",
    "\n",
    "plt.title('Distribuição dos Colaboradores x Gênero')\n",
    "plt.xlabel('Gênero')\n",
    "plt.ylabel('Colaboradores')\n",
    "\n",
    "for barra in barras.patches:\n",
    "    barras.annotate(format(barra.get_height(), '.0f'), \n",
    "                   (barra.get_x() + barra.get_width() / 2, \n",
    "                    barra.get_height()), \n",
    "                   ha='center', va='center',\n",
    "                   size=12, xytext=(0, 5),\n",
    "                   textcoords='offset points')\n",
    "\n",
    "total = df.shape[0]\n",
    "for barra in barras.patches:\n",
    "    barras.annotate(f'{barra.get_height() / total:.2%}', \n",
    "                   (barra.get_x() + barra.get_width() / 2, \n",
    "                    barra.get_height() / 2), \n",
    "                   ha='center', va='center',\n",
    "                   size=20, xytext=(0, 0),\n",
    "                   textcoords='offset points', color='white')\n",
    "plt.show()"
   ]
  },
  {
   "attachments": {},
   "cell_type": "markdown",
   "metadata": {},
   "source": [
    "_Os dados apontam um desequilíbrio de gênero, buscando na referência uma meta. Assim, uma primeira análise se faz necessária por gênero._"
   ]
  },
  {
   "attachments": {},
   "cell_type": "markdown",
   "metadata": {},
   "source": [
    "#### Identificar como é a distribuição de idade dos colaboradores."
   ]
  },
  {
   "cell_type": "code",
   "execution_count": 46,
   "metadata": {},
   "outputs": [
    {
     "data": {
      "image/png": "[encoded data removed]",
      "text/plain": [
       "<Figure size 800x600 with 1 Axes>"
      ]
     },
     "metadata": {},
     "output_type": "display_data"
    }
   ],
   "source": [
    "sns.set(style=\"whitegrid\")\n",
    "\n",
    "plt.figure(figsize=(8, 6))\n",
    "histograma = sns.histplot(data=df, x='Idade', bins=10, kde=True)\n",
    "\n",
    "plt.title('Distribuição de Idade')\n",
    "plt.xlabel('Idade')\n",
    "plt.ylabel('Número de Colaboradores')\n",
    "\n",
    "plt.show()"
   ]
  },
  {
   "attachments": {},
   "cell_type": "markdown",
   "metadata": {},
   "source": [
    "#### Identificar como é a distribuição de raça dos colaboradores."
   ]
  },
  {
   "cell_type": "code",
   "execution_count": 47,
   "metadata": {},
   "outputs": [
    {
     "data": {
      "image/png": "[encoded data removed]",
      "text/plain": [
       "<Figure size 800x600 with 1 Axes>"
      ]
     },
     "metadata": {},
     "output_type": "display_data"
    }
   ],
   "source": [
    "contagem_raca = df['Raça'].value_counts()\n",
    "sns.set(style=\"whitegrid\")\n",
    "\n",
    "plt.figure(figsize=(8, 6))\n",
    "barras = sns.barplot(x=contagem_raca.index, y=contagem_raca.values, hue=contagem_raca.index, palette=\"pastel\")\n",
    "\n",
    "plt.title('Distribuição dos Colaboradores por Raça')\n",
    "plt.xlabel('Raça')\n",
    "plt.ylabel('Número de Colaboradores')\n",
    "\n",
    "for barra in barras.patches:\n",
    "    barras.annotate(format(barra.get_height(), '.0f'), \n",
    "                   (barra.get_x() + barra.get_width() / 2, \n",
    "                    barra.get_height()), \n",
    "                   ha='center', va='center',\n",
    "                   size=12, xytext=(0, 5),\n",
    "                   textcoords='offset points')\n",
    "\n",
    "plt.show()"
   ]
  },
  {
   "attachments": {},
   "cell_type": "markdown",
   "metadata": {},
   "source": [
    "_Consultar referência para entender se faz sentido essa distribuição de raça. Contudo, chama atenção a frequência de pardos, nitidamente maior que pretos._"
   ]
  },
  {
   "attachments": {},
   "cell_type": "markdown",
   "metadata": {},
   "source": [
    "#### Identificar como é a distribuição dos colaboradores por nível de escolaridade."
   ]
  },
  {
   "cell_type": "code",
   "execution_count": 48,
   "metadata": {},
   "outputs": [
    {
     "data": {
      "image/png": "[encoded data removed]",
      "text/plain": [
       "<Figure size 800x600 with 1 Axes>"
      ]
     },
     "metadata": {},
     "output_type": "display_data"
    }
   ],
   "source": [
    "contagem_escolaridade = df['Formação'].value_counts()\n",
    "sns.set(style=\"whitegrid\")\n",
    "\n",
    "plt.figure(figsize=(8, 6))\n",
    "barras = sns.barplot(x=contagem_escolaridade.index, y=contagem_escolaridade.values, hue=contagem_escolaridade.index, palette=\"pastel\")\n",
    "\n",
    "plt.title('Distribuição dos Colaboradores por Nível de Escolaridade')\n",
    "plt.xlabel('Nível de Escolaridade')\n",
    "plt.ylabel('Número de Colaboradores')\n",
    "\n",
    "for barra in barras.patches:\n",
    "    barras.annotate(format(barra.get_height(), '.0f'), \n",
    "                   (barra.get_x() + barra.get_width() / 2, \n",
    "                    barra.get_height()), \n",
    "                   ha='center', va='center',\n",
    "                   size=12, xytext=(0, 5),\n",
    "                   textcoords='offset points')\n",
    "\n",
    "plt.show()"
   ]
  },
  {
   "attachments": {},
   "cell_type": "markdown",
   "metadata": {},
   "source": [
    "_Chama atenção a frequência de ensino superior, consideravelmente maior que os outros casos. Existe uma tendência da empresa em contratar pessoas com formação de ensino superior. Indica uma possibilidade de subemprego, está de acordo com as referências do estudo._"
   ]
  },
  {
   "attachments": {},
   "cell_type": "markdown",
   "metadata": {},
   "source": [
    "#### Como os colaboradores estão distribuídos de acordo com região(Nordeste, Sul, etc)?"
   ]
  },
  {
   "cell_type": "code",
   "execution_count": 49,
   "metadata": {},
   "outputs": [
    {
     "data": {
      "image/png": "[encoded data removed]",
      "text/plain": [
       "<Figure size 800x600 with 1 Axes>"
      ]
     },
     "metadata": {},
     "output_type": "display_data"
    }
   ],
   "source": [
    "regioes = {\n",
    "    'Acre': 'Norte', 'Alagoas': 'Nordeste', 'Amapá': 'Norte', 'Amazonas': 'Norte', 'Bahia': 'Nordeste', 'Ceará': 'Nordeste',\n",
    "    'Distrito Federal': 'Centro-Oeste', 'Espírito Santo': 'Sudeste', 'Goiás': 'Centro-Oeste', 'Maranhão': 'Nordeste', 'Mato Grosso': 'Centro-Oeste',\n",
    "    'Mato Grosso do Sul': 'Centro-Oeste', 'Minas Gerais': 'Sudeste', 'Pará': 'Norte', 'Paraíba': 'Nordeste', 'Paraná': 'Sul', 'Pernambuco': 'Nordeste',\n",
    "    'Piauí': 'Nordeste', 'Rio de Janeiro': 'Sudeste', 'Rio Grande do Norte': 'Nordeste', 'Rio Grande do Sul': 'Sul', 'Rondônia': 'Norte', 'Roraima': 'Norte', \n",
    "    'Santa Catarina': 'Sul', 'São Paulo': 'Sudeste', 'Sergipe': 'Nordeste', 'Tocantins': 'Norte'\n",
    "}\n",
    "\n",
    "df['Região'] = df['Estado'].map(regioes)\n",
    "\n",
    "contagem_regiao = df['Região'].value_counts()\n",
    "\n",
    "\n",
    "sns.set(style=\"whitegrid\")\n",
    "plt.figure(figsize=(8, 6))\n",
    "sns.barplot(x=contagem_regiao.index, y=contagem_regiao.values, hue=contagem_regiao.index, palette=\"pastel\")\n",
    "plt.title('Distribuição dos Colaboradores por Região do Brasil')\n",
    "plt.xlabel('Região')\n",
    "plt.ylabel('Número de Colaboradores')\n",
    "plt.xticks(rotation=45)\n",
    "plt.grid(axis='y', linestyle='--', alpha=0.7)\n",
    "plt.show()"
   ]
  },
  {
   "attachments": {},
   "cell_type": "markdown",
   "metadata": {},
   "source": [
    "#### Como os colaboradores estão distribuídos de acordo com o Estado?"
   ]
  },
  {
   "cell_type": "code",
   "execution_count": 50,
   "metadata": {},
   "outputs": [
    {
     "data": {
      "image/png": "[encoded data removed]",
      "text/plain": [
       "<Figure size 800x600 with 1 Axes>"
      ]
     },
     "metadata": {},
     "output_type": "display_data"
    }
   ],
   "source": [
    "uf = {\n",
    "        'Acre': 'AC', 'Alagoas': 'AL', 'Amapá': 'AP', 'Amazonas': 'AM', 'Bahia': 'BA',\n",
    "        'Ceará': 'CE', 'Distrito Federal': 'DF', 'Espírito Santo': 'ES', 'Goiás': 'GO',\n",
    "        'Maranhão': 'MA', 'Mato Grosso': 'MT', 'Mato Grosso do Sul': 'MS', 'Minas Gerais': 'MG',\n",
    "        'Pará': 'PA', 'Paraíba': 'PB', 'Paraná': 'PR', 'Pernambuco': 'PE', 'Piauí': 'PI',\n",
    "        'Rio de Janeiro': 'RJ', 'Rio Grande do Norte': 'RN', 'Rio Grande do Sul': 'RS',\n",
    "        'Rondônia': 'RO', 'Roraima': 'RR', 'Santa Catarina': 'SC', 'São Paulo': 'SP',\n",
    "        'Sergipe': 'SE', 'Tocantins': 'TO'\n",
    "}\n",
    "    \n",
    "df['UF'] = df['Estado'].map(uf)\n",
    "contagem_estado = df['UF'].value_counts()\n",
    "\n",
    "sns.set(style=\"whitegrid\")\n",
    "plt.figure(figsize=(8, 6))\n",
    "sns.barplot(x=contagem_estado.index, y=contagem_estado.values, hue=contagem_estado.index, palette=\"pastel\")\n",
    "plt.title('Distribuição dos Colaboradores por Estado do Brasil')\n",
    "plt.xlabel('Estado')\n",
    "plt.ylabel('Número de Colaboradores')\n",
    "plt.xticks(rotation=45)\n",
    "plt.grid(axis='y', linestyle='--', alpha=0.7)\n",
    "plt.show()"
   ]
  },
  {
   "attachments": {},
   "cell_type": "markdown",
   "metadata": {},
   "source": [
    "_Os gráficos mostram uma tendência em colaboradores da região sudeste e do estado de SP, RJ, MG, PR, SC e RS. Porém, é preciso entender qual a situação da empresa. Onde se localiza, possui vagas home office? A estratégia de equilibrar por região pode ser difícil dependendo da sua localização._"
   ]
  },
  {
   "attachments": {},
   "cell_type": "markdown",
   "metadata": {},
   "source": [
    "### Como os colaboradores estão distribuídos por tempo de casa."
   ]
  },
  {
   "cell_type": "code",
   "execution_count": 51,
   "metadata": {},
   "outputs": [
    {
     "data": {
      "image/png": "[encoded data removed]",
      "text/plain": [
       "<Figure size 800x600 with 1 Axes>"
      ]
     },
     "metadata": {},
     "output_type": "display_data"
    }
   ],
   "source": [
    "plt.figure(figsize=(8, 6))\n",
    "plt.hist(df['Tempo de Empresa'], bins=18, color='skyblue', edgecolor='black')\n",
    "plt.title('Histograma de tempo de empresa')\n",
    "plt.xlabel('Tempo de empresa')\n",
    "plt.ylabel('Frequência')\n",
    "plt.grid(True)\n",
    "plt.show()"
   ]
  },
  {
   "attachments": {},
   "cell_type": "markdown",
   "metadata": {},
   "source": [
    "_Os dados mostram frequência muito elevada de pessoas com 5 a 7,5 anos de trabalho e uma moderada frequência de novos colaboradores, assim indica que a estratégia interessante é trabalhar a diversidade com a projeção de contratação de novos colaboradores._"
   ]
  },
  {
   "attachments": {},
   "cell_type": "markdown",
   "metadata": {},
   "source": [
    "### Como os colaboradores estão distribuídos por departamento."
   ]
  },
  {
   "cell_type": "code",
   "execution_count": 52,
   "metadata": {},
   "outputs": [
    {
     "data": {
      "image/png": "[encoded data removed]",
      "text/plain": [
       "<Figure size 1000x600 with 1 Axes>"
      ]
     },
     "metadata": {},
     "output_type": "display_data"
    }
   ],
   "source": [
    "department_counts = df['Departamento'].value_counts()\n",
    "\n",
    "plt.figure(figsize=(10, 6))\n",
    "department_counts.plot(kind='bar', color='skyblue', edgecolor='black')  \n",
    "plt.title('Histograma de departamento')\n",
    "plt.xlabel('Departamento')\n",
    "plt.ylabel('Frequência')\n",
    "plt.xticks(rotation=45, ha='right')\n",
    "plt.grid(axis='y')\n",
    "plt.show()"
   ]
  },
  {
   "attachments": {},
   "cell_type": "markdown",
   "metadata": {},
   "source": [
    "_A distribuição da equipe se apresenta como nivelada entre os departamentos._"
   ]
  },
  {
   "attachments": {},
   "cell_type": "markdown",
   "metadata": {},
   "source": [
    "### Como os colaboradores estão distribuídos de acordo com a senioridade."
   ]
  },
  {
   "cell_type": "code",
   "execution_count": 53,
   "metadata": {},
   "outputs": [
    {
     "data": {
      "image/png": "[encoded data removed]",
      "text/plain": [
       "<Figure size 800x600 with 1 Axes>"
      ]
     },
     "metadata": {},
     "output_type": "display_data"
    }
   ],
   "source": [
    "senioridade_counts = df['Senioridade'].value_counts()\n",
    "\n",
    "plt.figure(figsize=(8, 6))\n",
    "senioridade_counts.plot(kind='bar', color='skyblue', edgecolor='black')  \n",
    "plt.title('Histograma de Senioridade')\n",
    "plt.xlabel('Senioridade')\n",
    "plt.ylabel('Frequência')\n",
    "plt.xticks(rotation=45, ha='right')\n",
    "plt.grid(axis='y')\n",
    "plt.show()"
   ]
  },
  {
   "attachments": {},
   "cell_type": "markdown",
   "metadata": {},
   "source": [
    "_A prosperidade apresenta dados naturais ao desenvolvimento de pessoas, visto que pessoas com menor senioridade apresentam um gasto menor para a empresa. Assim, é natural ter um número menor de pessoas com alto nível de senioridade._"
   ]
  },
  {
   "attachments": {},
   "cell_type": "markdown",
   "metadata": {},
   "source": [
    "## Análise por gênero"
   ]
  },
  {
   "cell_type": "code",
   "execution_count": null,
   "metadata": {},
   "outputs": [],
   "source": [
    "plt.figure(figsize=(10, 6))\n",
    "sns.boxplot(x='Gênero', y='Idade', data=df, palette='Set2')\n",
    "plt.title('Distribuição de idade por gênero.')\n",
    "plt.xlabel('Gênero')\n",
    "plt.ylabel('Idade')\n",
    "plt.grid(axis='y')\n",
    "plt.show()"
   ]
  },
  {
   "attachments": {},
   "cell_type": "markdown",
   "metadata": {},
   "source": [
    "_A distribuição entre idades não parece ser diferenciada conforme o gênero. Chama atenção a quantidade de outliers para o gênero masculino, que é superior ao feminino, acima dos 60 anos._"
   ]
  },
  {
   "cell_type": "code",
   "execution_count": null,
   "metadata": {},
   "outputs": [],
   "source": [
    "plt.figure(figsize=(10, 6))  # Adjust the figure size if needed\n",
    "sns.countplot(x='Gênero', hue='Raça', data=df, palette='Set2')\n",
    "plt.title('Distribuição de gênero por raça')\n",
    "plt.xlabel('Gênero')\n",
    "plt.ylabel('Contagem')\n",
    "plt.legend(title='Raça')\n",
    "plt.grid(axis='y')\n",
    "plt.show()"
   ]
  },
  {
   "attachments": {},
   "cell_type": "markdown",
   "metadata": {},
   "source": [
    "_Os gráficos apresentam relações semelhantes, contudo é possível notar uma maior quantidade de homens pardos em relação às mulheres pardas, o que pode sugerir a necessidade de contração de mais mulheres pardas. Contudo, devido à apresetarem resultados semelhantes, não é possível estabelecer um viés de contratação._"
   ]
  },
  {
   "cell_type": "code",
   "execution_count": null,
   "metadata": {},
   "outputs": [],
   "source": [
    "plt.figure(figsize=(10, 6))  # Adjust the figure size if needed\n",
    "sns.countplot(x='Gênero', hue='Formação', data=df, palette='Set2')\n",
    "plt.title('Distribuição de gênero por formação')\n",
    "plt.xlabel('Gênero')\n",
    "plt.ylabel('Contagem')\n",
    "plt.legend(title='Formação')\n",
    "plt.grid(axis='y')\n",
    "plt.show()"
   ]
  },
  {
   "attachments": {},
   "cell_type": "markdown",
   "metadata": {},
   "source": [
    "_A formação não parece influenciar, contudo, ressalta mais uma vez a desigualdade entre gêneros._"
   ]
  },
  {
   "cell_type": "code",
   "execution_count": null,
   "metadata": {},
   "outputs": [],
   "source": [
    "plt.figure(figsize=(10, 6))  # Adjust the figure size if needed\n",
    "sns.countplot(x='Gênero', hue='Região', data=df, palette='Set2')\n",
    "plt.title('Distribuição de gênero por região')\n",
    "plt.xlabel('Gênero')\n",
    "plt.ylabel('contagem')\n",
    "plt.legend(title='Região')\n",
    "plt.xticks(rotation=45)  # Rotate x-axis labels for better visibility\n",
    "plt.grid(axis='y')\n",
    "plt.show()"
   ]
  },
  {
   "attachments": {},
   "cell_type": "markdown",
   "metadata": {},
   "source": [
    "_Quanto gênero, chama atenção o fato de observar uma menor quantidade de mulheres em relação a homens na região sudeste._"
   ]
  },
  {
   "cell_type": "code",
   "execution_count": null,
   "metadata": {},
   "outputs": [],
   "source": [
    "plt.figure(figsize=(10, 6))  # Adjust the figure size if needed\n",
    "sns.histplot(data=df, x='Tempo de Empresa', hue='Gênero', palette='Set2', multiple='stack', edgecolor='black', bins=30)\n",
    "plt.title('Distribuição de gênero por tempo de empresa')\n",
    "plt.xlabel('Tempo de empresa')\n",
    "plt.ylabel('Contagem')\n",
    "plt.legend(title='Gênero')\n",
    "plt.grid(axis='y')\n",
    "plt.show()\n"
   ]
  },
  {
   "attachments": {},
   "cell_type": "markdown",
   "metadata": {},
   "source": [
    "_A análise do gráfico não apresenta alguma influência do gênero em relação ao tempo de empresa, sugerindo que ainda podem não ter sido implantadas políticas de diversidade. Ressalta-se que, para os colaboradores com maior tempo de empresa, diminui a quantidade de mulheres._"
   ]
  },
  {
   "cell_type": "code",
   "execution_count": null,
   "metadata": {},
   "outputs": [],
   "source": [
    "plt.figure(figsize=(12, 6))  # Adjust the figure size if needed\n",
    "sns.countplot(x='Departamento', hue='Gênero', data=df, palette='Set2')\n",
    "plt.title('Distribuição de gênero por departamento')\n",
    "plt.xlabel('Departamento')\n",
    "plt.ylabel('Contagem')\n",
    "plt.legend(title='Gênero')\n",
    "plt.grid(axis='y')\n",
    "plt.xticks(rotation=45, ha='right')  # Rotate x-axis labels for better visibility\n",
    "plt.show()"
   ]
  },
  {
   "attachments": {},
   "cell_type": "markdown",
   "metadata": {},
   "source": [
    "_A distribuição de vagas no departamento mantém o nivelamento, reforçando a necessidade de contratação de mais mulheres._"
   ]
  },
  {
   "cell_type": "code",
   "execution_count": null,
   "metadata": {},
   "outputs": [],
   "source": [
    "plt.figure(figsize=(10, 6))  # Adjust the figure size if needed\n",
    "sns.countplot(x='Gênero', hue='Senioridade', data=df, palette='Set2')\n",
    "plt.title('Distribuição de gênero e Senioridade')\n",
    "plt.xlabel('Gênero')\n",
    "plt.ylabel('Contagem')\n",
    "plt.legend(title='Senioridade')\n",
    "plt.xticks(rotation=45)  # Rotate x-axis labels for better visibility\n",
    "plt.grid(axis='y')\n",
    "plt.show()"
   ]
  },
  {
   "attachments": {},
   "cell_type": "markdown",
   "metadata": {},
   "source": [
    "_Analisando esse gráfico, é possível notar que o gênero não influencia na hierarquia, destaque para o cargo de diretoria que não aparece nos gráficos do gênero feminino. O que sugere que é necessária uma política de aumentar a contratação de mulheres e que futuramente pode equilibrar esses cargos._"
   ]
  },
  {
   "attachments": {},
   "cell_type": "markdown",
   "metadata": {},
   "source": [
    "### Visualização dos resultados"
   ]
  },
  {
   "cell_type": "code",
   "execution_count": null,
   "metadata": {},
   "outputs": [],
   "source": [
    "'Região'"
   ]
  },
  {
   "attachments": {},
   "cell_type": "markdown",
   "metadata": {},
   "source": [
    "### Comunicação dos resultados"
   ]
  },
  {
   "cell_type": "code",
   "execution_count": 54,
   "metadata": {},
   "outputs": [],
   "source": [
    "#df.to_csv('tratado.csv')"
   ]
  },
  {
   "cell_type": "code",
   "execution_count": 55,
   "metadata": {},
   "outputs": [
    {
     "data": {
      "text/html": [
       "<div>\n",
       "<style scoped>\n",
       "    .dataframe tbody tr th:only-of-type {\n",
       "        vertical-align: middle;\n",
       "    }\n",
       "\n",
       "    .dataframe tbody tr th {\n",
       "        vertical-align: top;\n",
       "    }\n",
       "\n",
       "    .dataframe thead th {\n",
       "        text-align: right;\n",
       "    }\n",
       "</style>\n",
       "<table border=\"1\" class=\"dataframe\">\n",
       "  <thead>\n",
       "    <tr style=\"text-align: right;\">\n",
       "      <th></th>\n",
       "      <th>Gênero</th>\n",
       "      <th>Idade</th>\n",
       "      <th>Raça</th>\n",
       "      <th>Diversidade</th>\n",
       "      <th>Formação</th>\n",
       "      <th>Estado</th>\n",
       "      <th>Tempo de Empresa</th>\n",
       "      <th>Departamento</th>\n",
       "      <th>Senioridade</th>\n",
       "      <th>Região</th>\n",
       "      <th>UF</th>\n",
       "    </tr>\n",
       "  </thead>\n",
       "  <tbody>\n",
       "    <tr>\n",
       "      <th>0</th>\n",
       "      <td>Feminino</td>\n",
       "      <td>34</td>\n",
       "      <td>Pardo</td>\n",
       "      <td>True</td>\n",
       "      <td>Ensino Médio</td>\n",
       "      <td>Santa Catarina</td>\n",
       "      <td>12</td>\n",
       "      <td>Compras</td>\n",
       "      <td>Analista Pleno</td>\n",
       "      <td>Sul</td>\n",
       "      <td>SC</td>\n",
       "    </tr>\n",
       "    <tr>\n",
       "      <th>1</th>\n",
       "      <td>Feminino</td>\n",
       "      <td>26</td>\n",
       "      <td>Pardo</td>\n",
       "      <td>True</td>\n",
       "      <td>Ensino Médio</td>\n",
       "      <td>Pará</td>\n",
       "      <td>6</td>\n",
       "      <td>Contabilidade</td>\n",
       "      <td>Analista Júnior</td>\n",
       "      <td>Norte</td>\n",
       "      <td>PA</td>\n",
       "    </tr>\n",
       "    <tr>\n",
       "      <th>2</th>\n",
       "      <td>Masculino</td>\n",
       "      <td>35</td>\n",
       "      <td>Pardo</td>\n",
       "      <td>True</td>\n",
       "      <td>Ensino Médio</td>\n",
       "      <td>Santa Catarina</td>\n",
       "      <td>5</td>\n",
       "      <td>Vendas</td>\n",
       "      <td>Analista Pleno</td>\n",
       "      <td>Sul</td>\n",
       "      <td>SC</td>\n",
       "    </tr>\n",
       "    <tr>\n",
       "      <th>3</th>\n",
       "      <td>Masculino</td>\n",
       "      <td>24</td>\n",
       "      <td>Pardo</td>\n",
       "      <td>True</td>\n",
       "      <td>Ensino Superior</td>\n",
       "      <td>Tocantins</td>\n",
       "      <td>4</td>\n",
       "      <td>Administrativo</td>\n",
       "      <td>Gerente</td>\n",
       "      <td>Norte</td>\n",
       "      <td>TO</td>\n",
       "    </tr>\n",
       "    <tr>\n",
       "      <th>4</th>\n",
       "      <td>Masculino</td>\n",
       "      <td>21</td>\n",
       "      <td>Pardo</td>\n",
       "      <td>True</td>\n",
       "      <td>Ensino Superior</td>\n",
       "      <td>Ceará</td>\n",
       "      <td>5</td>\n",
       "      <td>Recursos Humanos</td>\n",
       "      <td>Analista Júnior</td>\n",
       "      <td>Nordeste</td>\n",
       "      <td>CE</td>\n",
       "    </tr>\n",
       "    <tr>\n",
       "      <th>...</th>\n",
       "      <td>...</td>\n",
       "      <td>...</td>\n",
       "      <td>...</td>\n",
       "      <td>...</td>\n",
       "      <td>...</td>\n",
       "      <td>...</td>\n",
       "      <td>...</td>\n",
       "      <td>...</td>\n",
       "      <td>...</td>\n",
       "      <td>...</td>\n",
       "      <td>...</td>\n",
       "    </tr>\n",
       "    <tr>\n",
       "      <th>9995</th>\n",
       "      <td>Masculino</td>\n",
       "      <td>21</td>\n",
       "      <td>Pardo</td>\n",
       "      <td>True</td>\n",
       "      <td>Ensino Superior</td>\n",
       "      <td>Rondônia</td>\n",
       "      <td>9</td>\n",
       "      <td>Contabilidade</td>\n",
       "      <td>Analista Júnior</td>\n",
       "      <td>Norte</td>\n",
       "      <td>RO</td>\n",
       "    </tr>\n",
       "    <tr>\n",
       "      <th>9996</th>\n",
       "      <td>Masculino</td>\n",
       "      <td>44</td>\n",
       "      <td>Pardo</td>\n",
       "      <td>True</td>\n",
       "      <td>Ensino Médio</td>\n",
       "      <td>Paraíba</td>\n",
       "      <td>10</td>\n",
       "      <td>Contabilidade</td>\n",
       "      <td>Analista Júnior</td>\n",
       "      <td>Nordeste</td>\n",
       "      <td>PB</td>\n",
       "    </tr>\n",
       "    <tr>\n",
       "      <th>9997</th>\n",
       "      <td>Masculino</td>\n",
       "      <td>21</td>\n",
       "      <td>Branco</td>\n",
       "      <td>True</td>\n",
       "      <td>Ensino Superior</td>\n",
       "      <td>Distrito Federal</td>\n",
       "      <td>6</td>\n",
       "      <td>Desenvolvimento de Produtos</td>\n",
       "      <td>Gerente</td>\n",
       "      <td>Centro-Oeste</td>\n",
       "      <td>DF</td>\n",
       "    </tr>\n",
       "    <tr>\n",
       "      <th>9998</th>\n",
       "      <td>Masculino</td>\n",
       "      <td>39</td>\n",
       "      <td>Pardo</td>\n",
       "      <td>True</td>\n",
       "      <td>Ensino Superior</td>\n",
       "      <td>Paraná</td>\n",
       "      <td>5</td>\n",
       "      <td>Vendas</td>\n",
       "      <td>Analista Júnior</td>\n",
       "      <td>Sul</td>\n",
       "      <td>PR</td>\n",
       "    </tr>\n",
       "    <tr>\n",
       "      <th>9999</th>\n",
       "      <td>Masculino</td>\n",
       "      <td>35</td>\n",
       "      <td>Branco</td>\n",
       "      <td>True</td>\n",
       "      <td>Ensino Superior</td>\n",
       "      <td>Pernambuco</td>\n",
       "      <td>2</td>\n",
       "      <td>Vendas</td>\n",
       "      <td>Analista Pleno</td>\n",
       "      <td>Nordeste</td>\n",
       "      <td>PE</td>\n",
       "    </tr>\n",
       "  </tbody>\n",
       "</table>\n",
       "<p>9593 rows × 11 columns</p>\n",
       "</div>"
      ],
      "text/plain": [
       "         Gênero  Idade    Raça  Diversidade         Formação  \\\n",
       "0      Feminino     34   Pardo         True     Ensino Médio   \n",
       "1      Feminino     26   Pardo         True     Ensino Médio   \n",
       "2     Masculino     35   Pardo         True     Ensino Médio   \n",
       "3     Masculino     24   Pardo         True  Ensino Superior   \n",
       "4     Masculino     21   Pardo         True  Ensino Superior   \n",
       "...         ...    ...     ...          ...              ...   \n",
       "9995  Masculino     21   Pardo         True  Ensino Superior   \n",
       "9996  Masculino     44   Pardo         True     Ensino Médio   \n",
       "9997  Masculino     21  Branco         True  Ensino Superior   \n",
       "9998  Masculino     39   Pardo         True  Ensino Superior   \n",
       "9999  Masculino     35  Branco         True  Ensino Superior   \n",
       "\n",
       "                Estado  Tempo de Empresa                 Departamento  \\\n",
       "0       Santa Catarina                12                      Compras   \n",
       "1                 Pará                 6                Contabilidade   \n",
       "2       Santa Catarina                 5                       Vendas   \n",
       "3            Tocantins                 4               Administrativo   \n",
       "4                Ceará                 5             Recursos Humanos   \n",
       "...                ...               ...                          ...   \n",
       "9995          Rondônia                 9                Contabilidade   \n",
       "9996           Paraíba                10                Contabilidade   \n",
       "9997  Distrito Federal                 6  Desenvolvimento de Produtos   \n",
       "9998            Paraná                 5                       Vendas   \n",
       "9999        Pernambuco                 2                       Vendas   \n",
       "\n",
       "          Senioridade        Região  UF  \n",
       "0      Analista Pleno           Sul  SC  \n",
       "1     Analista Júnior         Norte  PA  \n",
       "2      Analista Pleno           Sul  SC  \n",
       "3             Gerente         Norte  TO  \n",
       "4     Analista Júnior      Nordeste  CE  \n",
       "...               ...           ...  ..  \n",
       "9995  Analista Júnior         Norte  RO  \n",
       "9996  Analista Júnior      Nordeste  PB  \n",
       "9997          Gerente  Centro-Oeste  DF  \n",
       "9998  Analista Júnior           Sul  PR  \n",
       "9999   Analista Pleno      Nordeste  PE  \n",
       "\n",
       "[9593 rows x 11 columns]"
      ]
     },
     "execution_count": 55,
     "metadata": {},
     "output_type": "execute_result"
    }
   ],
   "source": [
    "df"
   ]
  },
  {
   "cell_type": "code",
   "execution_count": null,
   "metadata": {},
   "outputs": [],
   "source": []
  }
 ],
 "metadata": {
  "kernelspec": {
   "display_name": "Python 3 (ipykernel)",
   "language": "python",
   "name": "python3"
  },
  "language_info": {
   "codemirror_mode": {
    "name": "ipython",
    "version": 3
   },
   "file_extension": ".py",
   "mimetype": "text/x-python",
   "name": "python",
   "nbconvert_exporter": "python",
   "pygments_lexer": "ipython3",
   "version": "3.11.3"
  }
 },
 "nbformat": 4,
 "nbformat_minor": 4
}
