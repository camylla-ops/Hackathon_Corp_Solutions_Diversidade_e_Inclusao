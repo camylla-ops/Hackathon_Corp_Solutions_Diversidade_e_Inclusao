{
 "cells": [
  {
   "attachments": {},
   "cell_type": "markdown",
   "metadata": {},
   "source": [
    "# Introdução"
   ]
  },
  {
   "attachments": {},
   "cell_type": "markdown",
   "metadata": {},
   "source": [
    "\n",
    "A Corp Solutions, uma empresa de consultoria empresarial, está no centro das atenções por sua venda de softwares inovadores voltados para o setor de Recursos Humanos. Recentemente, a empresa recebeu um aporte significativo de uma grande corporação dos Estados Unidos, impulsionando sua expansão e reforçando seu compromisso em investir em iniciativas de diversidadra o sucesso."
   ]
  },
  {
   "attachments": {},
   "cell_type": "markdown",
   "metadata": {},
   "source": [
    "## Contexto Histórico"
   ]
  },
  {
   "attachments": {},
   "cell_type": "markdown",
   "metadata": {},
   "source": [
    "Nos últimos anos, temos testemunhado uma mudança significativa no mundo organizacional em direção à valorização da diversidade e inclusão. À medida que a sociedade evolui, as empresas reconhecem cada vez mais os benefícios de uma força de trabalho diversificada, incluindo maior inovação, criatividade e desempenho financeiro. Além disso, movimentos sociais e pressões externas têm levado as empresas a adotarem práticas mais inclusivas e equitativas."
   ]
  },
  {
   "attachments": {},
   "cell_type": "markdown",
   "metadata": {},
   "source": [
    "## O Desafio da Corp Solutions"
   ]
  },
  {
   "attachments": {},
   "cell_type": "markdown",
   "metadata": {},
   "source": [
    "A Corp Solutions acredita que a diversidade não é apenas uma questão de representatividade, mas sim uma oportunidade de impulsionar a inovação, a criatividade e o sucesso dos negócios. Reconhecendo a importância de um ambiente de trabalho inclusivo, a empresa está empenhada em criar uma cultura onde todas as vozes sejam ouvidas, valorizadas e respeitadas.\n",
    "Com o recente investimento, a Corp Solutions planeja expandir sua equipe, dobrando o número de colaboradores até o final de 2025, atingindo o impressionante total de 850 pessoas dentro da corporação. Essa expansão não se trata apenas de números; é uma oportunidade para fortalecer a diversidade e a inclusão em todos os níveis da organização."
   ]
  },
  {
   "attachments": {},
   "cell_type": "markdown",
   "metadata": {},
   "source": [
    "## AdaHack: Diversidade e Inclusão"
   ]
  },
  {
   "attachments": {},
   "cell_type": "markdown",
   "metadata": {},
   "source": [
    "Neste Case do AdaHack sobre Diversidade e Inclusão, exploraremos a jornada da Corp Solutions em busca de um ambiente mais diversificado e acolhedor. Vamos analisar como a empresa está enfrentando esse desafio, quais estratégias estão sendo implementadas e como os dados podem nos guiar nessa jornada."
   ]
  },
  {
   "attachments": {},
   "cell_type": "markdown",
   "metadata": {},
   "source": [
    "# Documentação técnica"
   ]
  },
  {
   "attachments": {},
   "cell_type": "markdown",
   "metadata": {},
   "source": [
    "## Importação das bibliotecas"
   ]
  },
  {
   "cell_type": "code",
   "execution_count": null,
   "metadata": {
    "collapsed": true,
    "editable": true,
    "jupyter": {
     "outputs_hidden": true
    },
    "slideshow": {
     "slide_type": ""
    },
    "tags": []
   },
   "outputs": [],
   "source": [
    "# Importando as bibliotecas numpy e pandas, importante para tratamento dos dados importados\n",
    "import numpy as np\n",
    "import pandas as pd\n",
    "\n",
    "# Importando a biblioteca pyplot e seaborn, importante para visualização dos dados importados\n",
    "import matplotlib.pyplot as plt\n",
    "import seaborn as sns\n",
    "\n",
    "# Importando a biblioteca requests, para requisitar a fonte dos dados (Github)\n",
    "import requests\n",
    "\n",
    "# Importando bibliotecas io e ftfy, para tratamento de codificação de caracteres truncados (utf-8)\n",
    "from io import StringIO\n",
    "import ftfy\n",
    "\n",
    "# Importando a biblioteca scipy, para auxílio de análises estatísticas\n",
    "from scipy.stats import f_oneway\n",
    "\n",
    "#\n",
    "from IPython.display import display"
   ]
  },
  {
   "attachments": {},
   "cell_type": "markdown",
   "metadata": {
    "editable": true,
    "slideshow": {
     "slide_type": ""
    },
    "tags": []
   },
   "source": [
    "## Carregamento dos dados"
   ]
  },
  {
   "cell_type": "code",
   "execution_count": null,
   "metadata": {
    "collapsed": true,
    "jupyter": {
     "outputs_hidden": true
    }
   },
   "outputs": [],
   "source": [
    "# Carregando dados diretamento do github e corrigindo problemas de codificação\n",
    "url = requests.get('https://raw.githubusercontent.com/Ada-Empregabilidade/adahack-2024-dados/main/base_dados/base_de_dados.csv').content.decode('utf-8')\n",
    "linhas = url.split('\\n')\n",
    "lista_linhas = [ftfy.fix_text(linha) for linha in linhas]\n",
    "data = StringIO('\\n'.join(lista_linhas))\n",
    "df = pd.read_csv(data)"
   ]
  },
  {
   "attachments": {},
   "cell_type": "markdown",
   "metadata": {},
   "source": [
    "_Optamos por utilizar as informaçoes diretamente da fonte de dados, ao invés de baixa-las e adiciona-las manualmente. O arquivo csv fornecido contém problemas de codificação e também optamos por fazer o tratamento dentro do notebook._"
   ]
  },
  {
   "attachments": {},
   "cell_type": "markdown",
   "metadata": {},
   "source": [
    "## Exploração inicial dos dados"
   ]
  },
  {
   "attachments": {},
   "cell_type": "markdown",
   "metadata": {},
   "source": [
    "#### Primeiro contato com os dados"
   ]
  },
  {
   "cell_type": "code",
   "execution_count": null,
   "metadata": {
    "collapsed": true,
    "jupyter": {
     "outputs_hidden": true
    }
   },
   "outputs": [],
   "source": [
    "# Comando head para exibir as 10 primeiras linhas do dataset\n",
    "df.head(10)"
   ]
  },
  {
   "attachments": {},
   "cell_type": "markdown",
   "metadata": {},
   "source": [
    "_Aqui já encontramos algumas anomalias, que serão tratadas ao longo do processo de limpeza, tais como:_\n",
    "1. _Coluna 'id' e 'id.1' duplicadas._\n",
    "2. _Coluna 'Idade' com valores negativos._\n",
    "3. _'Endereço' estadunidense com uma quebra de linha não reconhecida_\n",
    "4. _'Formação' possui valores nulos._\n",
    "5. _Coluna 'Tempo de casa' com valores negativos_\n",
    "6. _Coluna 'Senioridade' com diferentes grafias para um mesmo cargo_"
   ]
  },
  {
   "attachments": {},
   "cell_type": "markdown",
   "metadata": {},
   "source": [
    "#### Compreendendo as variáveis qualitativas"
   ]
  },
  {
   "cell_type": "code",
   "execution_count": null,
   "metadata": {
    "collapsed": true,
    "jupyter": {
     "outputs_hidden": true
    }
   },
   "outputs": [],
   "source": [
    "#Valores únicos para a variável 'Raça'\n",
    "df['Raça'].unique()"
   ]
  },
  {
   "cell_type": "code",
   "execution_count": null,
   "metadata": {
    "collapsed": true,
    "jupyter": {
     "outputs_hidden": true
    }
   },
   "outputs": [],
   "source": [
    "#Valores únicos para a variável 'Genero'\n",
    "df['Genero'].unique()"
   ]
  },
  {
   "cell_type": "code",
   "execution_count": null,
   "metadata": {
    "collapsed": true,
    "jupyter": {
     "outputs_hidden": true
    }
   },
   "outputs": [],
   "source": [
    "#Valores únicos para a variável 'Formação'\n",
    "df['Formação'].unique()"
   ]
  },
  {
   "cell_type": "code",
   "execution_count": null,
   "metadata": {
    "collapsed": true,
    "jupyter": {
     "outputs_hidden": true
    }
   },
   "outputs": [],
   "source": [
    "#Valores únicos para a variável 'Estado'\n",
    "df['Estado'].unique()"
   ]
  },
  {
   "cell_type": "code",
   "execution_count": null,
   "metadata": {
    "collapsed": true,
    "jupyter": {
     "outputs_hidden": true
    }
   },
   "outputs": [],
   "source": [
    "#Valores únicos para a variável 'Departamento'\n",
    "df['Departamento'].unique()"
   ]
  },
  {
   "cell_type": "code",
   "execution_count": null,
   "metadata": {
    "collapsed": true,
    "jupyter": {
     "outputs_hidden": true
    }
   },
   "outputs": [],
   "source": [
    "#Valores únicos para a variável 'Senioridade'\n",
    "df['Senioridade'].unique()"
   ]
  },
  {
   "attachments": {},
   "cell_type": "markdown",
   "metadata": {},
   "source": [
    "_Podemos compreender os diferentes tipos de variáveis, e como estão distribuidas ao longo do dataset_"
   ]
  },
  {
   "attachments": {},
   "cell_type": "markdown",
   "metadata": {},
   "source": [
    "#### Tamanho da base de dados"
   ]
  },
  {
   "cell_type": "code",
   "execution_count": null,
   "metadata": {
    "collapsed": true,
    "jupyter": {
     "outputs_hidden": true
    }
   },
   "outputs": [],
   "source": [
    "#Entendendo o tamanho da base de dados\n",
    "print(f'O presente dataset posssui {df.shape[0]} linhas e {df.shape[1]} colunas. ')"
   ]
  },
  {
   "cell_type": "code",
   "execution_count": null,
   "metadata": {
    "collapsed": true,
    "jupyter": {
     "outputs_hidden": true
    }
   },
   "outputs": [],
   "source": [
    "# Listando colunas\n",
    "df.columns"
   ]
  },
  {
   "attachments": {},
   "cell_type": "markdown",
   "metadata": {},
   "source": [
    "#### Estatística Descritiva"
   ]
  },
  {
   "cell_type": "code",
   "execution_count": null,
   "metadata": {
    "collapsed": true,
    "jupyter": {
     "outputs_hidden": true
    }
   },
   "outputs": [],
   "source": [
    "# Panorama estatístico das colunas numéricas do dataset\n",
    "df.describe()"
   ]
  },
  {
   "cell_type": "code",
   "execution_count": null,
   "metadata": {
    "collapsed": true,
    "jupyter": {
     "outputs_hidden": true
    }
   },
   "outputs": [],
   "source": [
    "# Panorama estatístico das colunas não-numéricas do dataset\n",
    "df_nao_numerico = df.select_dtypes(exclude='number')\n",
    "df_nao_numerico.describe()"
   ]
  },
  {
   "attachments": {},
   "cell_type": "markdown",
   "metadata": {},
   "source": [
    "_O nome Francisco da Silva aparentemente está duplicado. Mas por ser uma combinação de nome e sobrenome comuns, vamos deixa-lo._"
   ]
  },
  {
   "attachments": {},
   "cell_type": "markdown",
   "metadata": {},
   "source": [
    "#### Tipos de variáveis"
   ]
  },
  {
   "cell_type": "code",
   "execution_count": null,
   "metadata": {
    "collapsed": true,
    "jupyter": {
     "outputs_hidden": true
    }
   },
   "outputs": [],
   "source": [
    "# Verificando tipos de variáveis por cada coluna.\n",
    "tipos_de_dados = df.info()\n",
    "display(tipos_de_dados)"
   ]
  },
  {
   "attachments": {},
   "cell_type": "markdown",
   "metadata": {},
   "source": [
    "_Acima percebemos que os tipos de dados estão praticamente conformes, exceto pela coluna 'Idade', que não precisa ser do tipo float e deve ser um número inteiro. O mesmo acontece com a coluna 'Tempo de casa'._"
   ]
  },
  {
   "attachments": {},
   "cell_type": "markdown",
   "metadata": {},
   "source": [
    "## Limpeza e transformação dos dados"
   ]
  },
  {
   "attachments": {},
   "cell_type": "markdown",
   "metadata": {},
   "source": [
    "#### Lidando com dados faltantes"
   ]
  },
  {
   "cell_type": "code",
   "execution_count": null,
   "metadata": {
    "collapsed": true,
    "jupyter": {
     "outputs_hidden": true
    }
   },
   "outputs": [],
   "source": [
    "# Relacionando dados faltantes\n",
    "df.isna().sum()"
   ]
  },
  {
   "attachments": {},
   "cell_type": "markdown",
   "metadata": {},
   "source": [
    "_Considerando que esses dados faltantes, como de atributos diferentes temos: 56+44+200 = 300. Como temos um total de 10000 observações é razoalvel eliminar esses dados, ao invés de preencher com valores tais como média, mediana, etc.. Representa eliminar 300/10000, ou seja, 3% dos dados._"
   ]
  },
  {
   "cell_type": "code",
   "execution_count": null,
   "metadata": {
    "collapsed": true,
    "jupyter": {
     "outputs_hidden": true
    }
   },
   "outputs": [],
   "source": [
    "# Removendo dados faltantes\n",
    "df = df.dropna(axis=0, how='any', inplace=False)"
   ]
  },
  {
   "attachments": {},
   "cell_type": "markdown",
   "metadata": {},
   "source": [
    "#### Tipos de variáveis"
   ]
  },
  {
   "cell_type": "code",
   "execution_count": null,
   "metadata": {
    "collapsed": true,
    "jupyter": {
     "outputs_hidden": true
    }
   },
   "outputs": [],
   "source": [
    "# Verificando tipos de variáveis das colunas\n",
    "df.info()"
   ]
  },
  {
   "cell_type": "code",
   "execution_count": null,
   "metadata": {
    "collapsed": true,
    "jupyter": {
     "outputs_hidden": true
    }
   },
   "outputs": [],
   "source": [
    "#Verificando se realmente existem números decimais nas colunas 'Idade' e 'Tempo de casa'\n",
    "df_decimais = df.loc[(df['Idade'] % 1 != 0) & (df['Tempo de casa'] % 1 != 0)]\n",
    "df_decimais.info()"
   ]
  },
  {
   "cell_type": "code",
   "execution_count": null,
   "metadata": {
    "collapsed": true,
    "jupyter": {
     "outputs_hidden": true
    }
   },
   "outputs": [],
   "source": [
    "# Convertendo as colunas Idade e Tempo de Casa para (INT)\n",
    "df['Idade'] = df['Idade'].astype(int)\n",
    "df['Tempo de casa'] = df['Tempo de casa'].astype(int)"
   ]
  },
  {
   "cell_type": "code",
   "execution_count": null,
   "metadata": {
    "collapsed": true,
    "jupyter": {
     "outputs_hidden": true
    }
   },
   "outputs": [],
   "source": [
    "# Conferindo resultados\n",
    "df.info()"
   ]
  },
  {
   "attachments": {},
   "cell_type": "markdown",
   "metadata": {},
   "source": [
    "#### Removendo linhas duplicadas"
   ]
  },
  {
   "cell_type": "code",
   "execution_count": null,
   "metadata": {
    "collapsed": true,
    "jupyter": {
     "outputs_hidden": true
    }
   },
   "outputs": [],
   "source": [
    "# Remover linhas duplicadas\n",
    "df = df.drop_duplicates()"
   ]
  },
  {
   "cell_type": "code",
   "execution_count": null,
   "metadata": {},
   "outputs": [],
   "source": [
    "# Identificação e exibição de registros duplicados considerando a coluna 'Nome'\n",
    "\n",
    "registros_duplicados_nome = df[df.duplicated(subset=['Nome'], keep=False)]\n",
    "registros_duplicados = registros_duplicados_nome.sort_values(by='Nome')\n",
    "display(registros_duplicados_nome)"
   ]
  },
  {
   "cell_type": "code",
   "execution_count": null,
   "metadata": {},
   "outputs": [],
   "source": [
    "# Demonstra o número de registros duplicados da coluna 'Nome'.\n",
    "\n",
    "len(registros_duplicados_nome)"
   ]
  },
  {
   "attachments": {},
   "cell_type": "markdown",
   "metadata": {},
   "source": [
    "#### Removendo colunas desnecessárias"
   ]
  },
  {
   "cell_type": "code",
   "execution_count": null,
   "metadata": {
    "collapsed": true,
    "jupyter": {
     "outputs_hidden": true
    }
   },
   "outputs": [],
   "source": [
    "#Remover colunas desnecessárias\n",
    "df = df.drop(columns=['id', 'id.1', 'Nome', 'Endereço'])"
   ]
  },
  {
   "attachments": {},
   "cell_type": "markdown",
   "metadata": {},
   "source": [
    "#### Removendo Outliers"
   ]
  },
  {
   "cell_type": "code",
   "execution_count": null,
   "metadata": {
    "collapsed": true,
    "jupyter": {
     "outputs_hidden": true
    }
   },
   "outputs": [],
   "source": [
    "# Análise com gráfico Boxplot\n",
    "\n",
    "numerical_columns = df.select_dtypes(include='number').columns\n",
    "\n",
    "plt.figure(figsize=(10, 6))\n",
    "for column in numerical_columns:\n",
    "    df.boxplot(column=column)\n",
    "    plt.title(f'Boxplot for {column}')\n",
    "    plt.show()"
   ]
  },
  {
   "cell_type": "code",
   "execution_count": null,
   "metadata": {
    "collapsed": true,
    "jupyter": {
     "outputs_hidden": true
    }
   },
   "outputs": [],
   "source": [
    "# Removendo Outliers na coluna 'Idade':\n",
    "\n",
    "Q1_idade = np.percentile(df['Idade'], 25)\n",
    "Q3_idade = np.percentile(df['Idade'], 75)\n",
    "\n",
    "IQR_idade = Q3_idade - Q1_idade\n",
    "\n",
    "idade_minima = Q1_idade - 1.5 * IQR_idade\n",
    "idade_maxima = Q3_idade + 1.5 * IQR_idade\n",
    "\n",
    "df = df[(df['Idade'] >= idade_minima) & (df['Idade'] <= idade_maxima)]"
   ]
  },
  {
   "cell_type": "code",
   "execution_count": null,
   "metadata": {
    "collapsed": true,
    "jupyter": {
     "outputs_hidden": true
    }
   },
   "outputs": [],
   "source": [
    "# Removendo Outliers na coluna 'Tempo de casa':\n",
    "\n",
    "Q1_tempo = np.percentile(df['Tempo de casa'], 25)\n",
    "Q3_tempo = np.percentile(df['Tempo de casa'], 75)\n",
    "\n",
    "IQR_tempo = Q3_tempo - Q1_tempo\n",
    "\n",
    "tempo_minima = Q1_tempo - 1.5 * IQR_tempo\n",
    "tempo_maxima = Q3_tempo + 1.5 * IQR_tempo\n",
    "\n",
    "df = df[(df['Tempo de casa'] >= tempo_minima) & (df['Tempo de casa'] <= tempo_maxima)]"
   ]
  },
  {
   "attachments": {},
   "cell_type": "markdown",
   "metadata": {},
   "source": [
    "#### Removendo dados inválidos"
   ]
  },
  {
   "attachments": {},
   "cell_type": "markdown",
   "metadata": {},
   "source": [
    "##### Tempo de casa negativo"
   ]
  },
  {
   "cell_type": "code",
   "execution_count": null,
   "metadata": {
    "collapsed": true,
    "jupyter": {
     "outputs_hidden": true
    }
   },
   "outputs": [],
   "source": [
    "# Encontrando tempos de casa negativos\n",
    "tempo_casa_negativo = df.loc[df['Tempo de casa'] < 0]\n",
    "display(tempo_casa_negativo)"
   ]
  },
  {
   "attachments": {},
   "cell_type": "markdown",
   "metadata": {},
   "source": [
    "_Analisando a coluna 'Tempo de casa' encontramos 96 observações com valor negativo. O que não parece fazer sentido. Como repesentam 96/9701 = 0.01, ou seja, 1% é razoável eliminar essas linhas._"
   ]
  },
  {
   "cell_type": "code",
   "execution_count": null,
   "metadata": {
    "collapsed": true,
    "jupyter": {
     "outputs_hidden": true
    }
   },
   "outputs": [],
   "source": [
    "# Removendo pessoas com mais tempo negativos\n",
    "df.drop(tempo_casa_negativo.index, inplace=True)"
   ]
  },
  {
   "attachments": {},
   "cell_type": "markdown",
   "metadata": {},
   "source": [
    "##### Tempo de casa zerado"
   ]
  },
  {
   "cell_type": "code",
   "execution_count": null,
   "metadata": {
    "collapsed": true,
    "jupyter": {
     "outputs_hidden": true
    }
   },
   "outputs": [],
   "source": [
    "# Encontrando tempos de casa zerados\n",
    "tempo_casa_zero = df.loc[df['Tempo de casa'] == 0]\n",
    "display(tempo_casa_zero)"
   ]
  },
  {
   "attachments": {},
   "cell_type": "markdown",
   "metadata": {},
   "source": [
    "_Os valores zerados para a variável 'Tempo de casa', não serão excluídas, porque entendemos não serem inválidas, apenas que os funcionários não alcançaram 1 (um) ano. Pois assumimos que esse atributo é medido em ano._"
   ]
  },
  {
   "attachments": {},
   "cell_type": "markdown",
   "metadata": {},
   "source": [
    "##### Menores de idade"
   ]
  },
  {
   "cell_type": "code",
   "execution_count": null,
   "metadata": {
    "collapsed": true,
    "jupyter": {
     "outputs_hidden": true
    }
   },
   "outputs": [],
   "source": [
    "# Encontrando Idades inválidas (menores de idade)\n",
    "menor_idade = df.loc[df['Idade'] < 18]\n",
    "display(menor_idade)"
   ]
  },
  {
   "cell_type": "code",
   "execution_count": null,
   "metadata": {
    "collapsed": true,
    "jupyter": {
     "outputs_hidden": true
    }
   },
   "outputs": [],
   "source": [
    "# Removendo menores de idade\n",
    "df = df.drop(df[df['Idade'] < 18].index)"
   ]
  },
  {
   "attachments": {},
   "cell_type": "markdown",
   "metadata": {},
   "source": [
    "##### Pessoas com mais experiência que idade"
   ]
  },
  {
   "cell_type": "code",
   "execution_count": null,
   "metadata": {
    "collapsed": true,
    "jupyter": {
     "outputs_hidden": true
    }
   },
   "outputs": [],
   "source": [
    "# Encontrando Idades maiores que o Tempo de casa\n",
    "tempo_casa_idade = df[df['Tempo de casa'] > df['Idade']]\n",
    "display(tempo_casa_idade)"
   ]
  },
  {
   "cell_type": "code",
   "execution_count": null,
   "metadata": {
    "collapsed": true,
    "jupyter": {
     "outputs_hidden": true
    }
   },
   "outputs": [],
   "source": [
    "# Removendo pessoas com mais tempo de casa do que idade\n",
    "df.drop(tempo_casa_idade.index, inplace=True)"
   ]
  },
  {
   "attachments": {},
   "cell_type": "markdown",
   "metadata": {},
   "source": [
    "##### Menores de idade na contratação"
   ]
  },
  {
   "cell_type": "code",
   "execution_count": null,
   "metadata": {
    "collapsed": true,
    "jupyter": {
     "outputs_hidden": true
    }
   },
   "outputs": [],
   "source": [
    "tempo_casa_menor_idade = df[(df['Idade'] - df['Tempo de casa']) < 18]\n",
    "display(tempo_casa_menor_idade)"
   ]
  },
  {
   "attachments": {},
   "cell_type": "markdown",
   "metadata": {},
   "source": [
    "_Se subtrairmos o tempo de casa da idade do colaborador, chegaremos a idade na contratação. O que nos retorna 2103 registros com pessoas menores de 18 anos no momento da contratação (excluindo a hipótese de que possam ter sido admitidos Menores Aprendizes, devido sua ausência na coluna Senioridade). Constatamos números absurdos, como contratações aos 5 anos de idade._"
   ]
  },
  {
   "cell_type": "code",
   "execution_count": null,
   "metadata": {
    "collapsed": true,
    "jupyter": {
     "outputs_hidden": true
    }
   },
   "outputs": [],
   "source": [
    "# Removendo contratação de menores de idade\n",
    "df.drop(tempo_casa_menor_idade.index, inplace=True)"
   ]
  },
  {
   "attachments": {},
   "cell_type": "markdown",
   "metadata": {},
   "source": [
    "#### Corrigindo grafias"
   ]
  },
  {
   "cell_type": "code",
   "execution_count": null,
   "metadata": {
    "collapsed": true,
    "jupyter": {
     "outputs_hidden": true
    }
   },
   "outputs": [],
   "source": [
    "df['Senioridade'] = df['Senioridade'].replace('gerente', 'Gerente')"
   ]
  },
  {
   "cell_type": "code",
   "execution_count": null,
   "metadata": {
    "collapsed": true,
    "jupyter": {
     "outputs_hidden": true
    }
   },
   "outputs": [],
   "source": [
    "df['Genero'] = df['Genero'].replace({'Fem' : 'Feminino', 'Masc' : 'Masculino'})"
   ]
  },
  {
   "cell_type": "code",
   "execution_count": null,
   "metadata": {
    "collapsed": true,
    "jupyter": {
     "outputs_hidden": true
    }
   },
   "outputs": [],
   "source": [
    "df['Raça'] = df['Raça'].replace({'preto' : 'Preto', 'pardo' : 'Pardo', 'branco' : 'Branco', 'indígena' : 'Indígena', 'amarelo' : 'Amarelo'})"
   ]
  },
  {
   "cell_type": "code",
   "execution_count": null,
   "metadata": {
    "collapsed": true,
    "jupyter": {
     "outputs_hidden": true
    }
   },
   "outputs": [],
   "source": [
    "df = df.rename(columns={'Genero': 'Gênero', 'Tempo de casa' : 'Tempo de Empresa'})"
   ]
  },
  {
   "attachments": {},
   "cell_type": "markdown",
   "metadata": {},
   "source": [
    "#### Coluna diversidade"
   ]
  },
  {
   "cell_type": "code",
   "execution_count": null,
   "metadata": {
    "collapsed": true,
    "jupyter": {
     "outputs_hidden": true
    }
   },
   "outputs": [],
   "source": [
    "# Criando coluna Diversidade para facilitar a visualização das diversidades presentes\n",
    "df['Diversidade'] = df ['Raça'] != 'branco'"
   ]
  },
  {
   "attachments": {},
   "cell_type": "markdown",
   "metadata": {},
   "source": [
    "#### Organização"
   ]
  },
  {
   "cell_type": "code",
   "execution_count": null,
   "metadata": {
    "collapsed": true,
    "jupyter": {
     "outputs_hidden": true
    }
   },
   "outputs": [],
   "source": [
    "# Alterando a ordem das colunas para uma melhor visualização\n",
    "nova_ordem_colunas = ['Gênero', 'Idade', 'Raça', 'Diversidade', 'Formação', 'Estado', 'Tempo de Empresa', 'Departamento', 'Senioridade']\n",
    "df = df.reindex(columns=nova_ordem_colunas)"
   ]
  },
  {
   "cell_type": "code",
   "execution_count": null,
   "metadata": {
    "collapsed": true,
    "jupyter": {
     "outputs_hidden": true
    }
   },
   "outputs": [],
   "source": [
    "#Conferindo resultados das transformações\n",
    "df.head(10)"
   ]
  },
  {
   "attachments": {},
   "cell_type": "markdown",
   "metadata": {},
   "source": [
    "#### Exportação"
   ]
  },
  {
   "cell_type": "code",
   "execution_count": null,
   "metadata": {
    "collapsed": true,
    "jupyter": {
     "outputs_hidden": true
    }
   },
   "outputs": [],
   "source": [
    "# Exportação dos dados limpos e organizados para importação no Power BI\n",
    "df.to_csv('base_de_dados_tratada.csv')"
   ]
  },
  {
   "attachments": {},
   "cell_type": "markdown",
   "metadata": {},
   "source": [
    "## Análise estatística"
   ]
  },
  {
   "attachments": {},
   "cell_type": "markdown",
   "metadata": {},
   "source": [
    "#### Descrição dos dados"
   ]
  },
  {
   "cell_type": "code",
   "execution_count": null,
   "metadata": {
    "collapsed": true,
    "jupyter": {
     "outputs_hidden": true
    }
   },
   "outputs": [],
   "source": [
    "df[['Idade', 'Tempo de Empresa']].describe()"
   ]
  },
  {
   "attachments": {},
   "cell_type": "markdown",
   "metadata": {},
   "source": [
    "_A idade média é de aproximadamento 30,92 anos. O desvio padrão que mede a dispersão dos dados em relação a média de 8,66 anos.\n",
    "Os quartis que representam a distribuição indicam que 25% dos funcionários têm 24 anos ou menos, 50% dos funcionários têm 30 anos ou menos, e 75% dos funcionários têm 37 anos ou menos._"
   ]
  },
  {
   "attachments": {},
   "cell_type": "markdown",
   "metadata": {},
   "source": [
    "_O tempo de empresa média é de aproximadamento 5,56 anos. O desvio padrão que mede a dispersão dos dados em relação a média de 2,89 anos.\n",
    "Os quartis que representam a distribuição indicam que 25% dos funcionários têm 4 anos de casa ou menos, 50% dos funcionários têm 6 anos de casa ou menos, e 75% dos funcionários têm 8 anos de casa ou menos._"
   ]
  },
  {
   "attachments": {},
   "cell_type": "markdown",
   "metadata": {},
   "source": [
    "#### Correlação dos dados"
   ]
  },
  {
   "cell_type": "code",
   "execution_count": null,
   "metadata": {
    "collapsed": true,
    "jupyter": {
     "outputs_hidden": true
    }
   },
   "outputs": [],
   "source": [
    "correlacao = df[['Idade', 'Tempo de Empresa']].corr()\n",
    "print(correlacao)\n"
   ]
  },
  {
   "attachments": {},
   "cell_type": "markdown",
   "metadata": {},
   "source": [
    "_A matriz de correlação indica que as Colunas Idade e Tempo de casa pouco influenciam uma com a outra._"
   ]
  },
  {
   "attachments": {},
   "cell_type": "markdown",
   "metadata": {},
   "source": [
    "#### P-valor"
   ]
  },
  {
   "cell_type": "code",
   "execution_count": null,
   "metadata": {
    "collapsed": true,
    "jupyter": {
     "outputs_hidden": true
    }
   },
   "outputs": [],
   "source": [
    "departamentos = [df[df['Departamento'] == departamento]['Idade'] for departamento in df['Departamento'].unique()]\n",
    "resultado = f_oneway(*departamentos)\n",
    "\n",
    "print(f\"F: {resultado.statistic:.2f}\")\n",
    "print(f\"P-value: {resultado.pvalue:.2f}\")\n"
   ]
  },
  {
   "attachments": {},
   "cell_type": "markdown",
   "metadata": {},
   "source": [
    "_Não podemos concluir que há diferenças significativas nas idades dos funcionários entre os diferentes departamentos._"
   ]
  },
  {
   "attachments": {},
   "cell_type": "markdown",
   "metadata": {},
   "source": [
    "## Análise e exploração dos dados"
   ]
  },
  {
   "attachments": {},
   "cell_type": "markdown",
   "metadata": {},
   "source": [
    "### Como os colaboradores estão distribuídos"
   ]
  },
  {
   "attachments": {},
   "cell_type": "markdown",
   "metadata": {},
   "source": [
    "#### Por Gênero"
   ]
  },
  {
   "cell_type": "code",
   "execution_count": null,
   "metadata": {
    "collapsed": true,
    "jupyter": {
     "outputs_hidden": true
    }
   },
   "outputs": [],
   "source": [
    "contagem_genero = df['Gênero'].value_counts()\n",
    "sns.set(style=\"whitegrid\")\n",
    "\n",
    "plt.figure(figsize=(8, 6))\n",
    "barras = sns.barplot(x=contagem_genero.index, y=contagem_genero.values, palette=\"pastel\", hue=contagem_genero.index, dodge=False, legend=False)\n",
    "\n",
    "plt.title('Distribuição dos Colaboradores x Gênero')\n",
    "plt.xlabel('Gênero')\n",
    "plt.ylabel('Colaboradores')\n",
    "\n",
    "for barra in barras.patches:\n",
    "    barras.annotate(format(barra.get_height(), '.0f'), \n",
    "                   (barra.get_x() + barra.get_width() / 2, \n",
    "                    barra.get_height()), \n",
    "                   ha='center', va='center',\n",
    "                   size=12, xytext=(0, 5),\n",
    "                   textcoords='offset points')\n",
    "\n",
    "total = df.shape[0]\n",
    "for barra in barras.patches:\n",
    "    barras.annotate(f'{barra.get_height() / total:.2%}', \n",
    "                   (barra.get_x() + barra.get_width() / 2, \n",
    "                    barra.get_height() / 2), \n",
    "                   ha='center', va='center',\n",
    "                   size=20, xytext=(0, 0),\n",
    "                   textcoords='offset points', color='white')\n",
    "plt.show()"
   ]
  },
  {
   "attachments": {},
   "cell_type": "markdown",
   "metadata": {},
   "source": [
    "_Os dados apontam um desequilíbrio de gênero, buscando na referência uma meta. Assim, uma primeira análise se faz necessária por gênero.\n",
    "\n",
    "\n",
    "\n",
    "*Com base na visualização da distribuição por gênero, observamos que a maioria dos registros está associada ao gênero masculino (7194 registros), representando aproximadamente 74,9% do total, enquanto o gênero feminino corresponde a cerca de 25,1% (2411 registros). Essa disparidade sugere uma possível desproporção na representação de gênero nos dados analisados. Tal análise inicial pode fornecer insights valiosos para compreender melhor a dinâmica dos dados e pode ser o ponto de partida para investigações mais aprofundadas sobre questões de equidade de gênero ou viés nos conjuntos de dados analisados.*\n",
    "_"
   ]
  },
  {
   "attachments": {},
   "cell_type": "markdown",
   "metadata": {},
   "source": [
    "#### Por Idade"
   ]
  },
  {
   "cell_type": "code",
   "execution_count": null,
   "metadata": {
    "collapsed": true,
    "jupyter": {
     "outputs_hidden": true
    }
   },
   "outputs": [],
   "source": [
    "sns.set(style=\"whitegrid\")\n",
    "\n",
    "plt.figure(figsize=(8, 6))\n",
    "histograma = sns.histplot(data=df, x='Idade', bins=10, kde=True)\n",
    "\n",
    "plt.title('Distribuição de Idade')\n",
    "plt.xlabel('Idade')\n",
    "plt.ylabel('Número de Colaboradores')\n",
    "\n",
    "plt.show()"
   ]
  },
  {
   "attachments": {},
   "cell_type": "markdown",
   "metadata": {},
   "source": [
    "_Apesar de bem distribuída, a Corp solutios apresenta em sua maioria colaboradores na faixa de 30-40 anos._"
   ]
  },
  {
   "attachments": {},
   "cell_type": "markdown",
   "metadata": {},
   "source": [
    "#### Por Raça"
   ]
  },
  {
   "cell_type": "code",
   "execution_count": null,
   "metadata": {
    "collapsed": true,
    "jupyter": {
     "outputs_hidden": true
    }
   },
   "outputs": [],
   "source": [
    "contagem_raca = df['Raça'].value_counts()\n",
    "sns.set(style=\"whitegrid\")\n",
    "\n",
    "plt.figure(figsize=(8, 6))\n",
    "barras = sns.barplot(x=contagem_raca.index, y=contagem_raca.values, hue=contagem_raca.index, palette=\"pastel\")\n",
    "\n",
    "plt.title('Distribuição dos Colaboradores por Raça')\n",
    "plt.xlabel('Raça')\n",
    "plt.ylabel('Número de Colaboradores')\n",
    "\n",
    "for barra in barras.patches:\n",
    "    barras.annotate(format(barra.get_height(), '.0f'), \n",
    "                   (barra.get_x() + barra.get_width() / 2, \n",
    "                    barra.get_height()), \n",
    "                   ha='center', va='center',\n",
    "                   size=12, xytext=(0, 5),\n",
    "                   textcoords='offset points')\n",
    "\n",
    "plt.show()"
   ]
  },
  {
   "attachments": {},
   "cell_type": "markdown",
   "metadata": {},
   "source": [
    "_Consultar referência para entender se faz sentido essa distribuição de raça. Contudo, chama atenção a frequência de pardos, nitidamente maior que pretos._"
   ]
  },
  {
   "attachments": {},
   "cell_type": "markdown",
   "metadata": {},
   "source": [
    "#### Por Escolaridade"
   ]
  },
  {
   "cell_type": "code",
   "execution_count": null,
   "metadata": {
    "collapsed": true,
    "jupyter": {
     "outputs_hidden": true
    }
   },
   "outputs": [],
   "source": [
    "contagem_escolaridade = df['Formação'].value_counts()\n",
    "sns.set(style=\"whitegrid\")\n",
    "\n",
    "plt.figure(figsize=(8, 6))\n",
    "barras = sns.barplot(x=contagem_escolaridade.index, y=contagem_escolaridade.values, hue=contagem_escolaridade.index, palette=\"pastel\")\n",
    "\n",
    "plt.title('Distribuição dos Colaboradores por Nível de Escolaridade')\n",
    "plt.xlabel('Nível de Escolaridade')\n",
    "plt.ylabel('Número de Colaboradores')\n",
    "\n",
    "for barra in barras.patches:\n",
    "    barras.annotate(format(barra.get_height(), '.0f'), \n",
    "                   (barra.get_x() + barra.get_width() / 2, \n",
    "                    barra.get_height()), \n",
    "                   ha='center', va='center',\n",
    "                   size=12, xytext=(0, 5),\n",
    "                   textcoords='offset points')\n",
    "\n",
    "plt.show()"
   ]
  },
  {
   "attachments": {},
   "cell_type": "markdown",
   "metadata": {},
   "source": [
    "_Chama atenção a frequência de ensino superior, consideravelmente maior que os outros casos. Existe uma tendência da empresa em contratar pessoas com formação de ensino superior. Indica uma possibilidade de subemprego, está de acordo com as referências do estudo._"
   ]
  },
  {
   "attachments": {},
   "cell_type": "markdown",
   "metadata": {},
   "source": [
    "#### Por Região (Nordeste, Sul, etc.)"
   ]
  },
  {
   "cell_type": "code",
   "execution_count": null,
   "metadata": {
    "collapsed": true,
    "jupyter": {
     "outputs_hidden": true
    }
   },
   "outputs": [],
   "source": [
    "regioes = {\n",
    "    'Acre': 'Norte', 'Alagoas': 'Nordeste', 'Amapá': 'Norte', 'Amazonas': 'Norte', 'Bahia': 'Nordeste', 'Ceará': 'Nordeste',\n",
    "    'Distrito Federal': 'Centro-Oeste', 'Espírito Santo': 'Sudeste', 'Goiás': 'Centro-Oeste', 'Maranhão': 'Nordeste', 'Mato Grosso': 'Centro-Oeste',\n",
    "    'Mato Grosso do Sul': 'Centro-Oeste', 'Minas Gerais': 'Sudeste', 'Pará': 'Norte', 'Paraíba': 'Nordeste', 'Paraná': 'Sul', 'Pernambuco': 'Nordeste',\n",
    "    'Piauí': 'Nordeste', 'Rio de Janeiro': 'Sudeste', 'Rio Grande do Norte': 'Nordeste', 'Rio Grande do Sul': 'Sul', 'Rondônia': 'Norte', 'Roraima': 'Norte', \n",
    "    'Santa Catarina': 'Sul', 'São Paulo': 'Sudeste', 'Sergipe': 'Nordeste', 'Tocantins': 'Norte'\n",
    "}\n",
    "\n",
    "df['Região'] = df['Estado'].map(regioes)\n",
    "\n",
    "contagem_regiao = df['Região'].value_counts()\n",
    "\n",
    "\n",
    "sns.set(style=\"whitegrid\")\n",
    "plt.figure(figsize=(8, 6))\n",
    "sns.barplot(x=contagem_regiao.index, y=contagem_regiao.values, hue=contagem_regiao.index, palette=\"pastel\")\n",
    "plt.title('Distribuição dos Colaboradores por Região do Brasil')\n",
    "plt.xlabel('Região')\n",
    "plt.ylabel('Número de Colaboradores')\n",
    "plt.xticks(rotation=45)\n",
    "plt.grid(axis='y', linestyle='--', alpha=0.7)\n",
    "plt.show()"
   ]
  },
  {
   "attachments": {},
   "cell_type": "markdown",
   "metadata": {},
   "source": [
    "_A distribuição regional indica que realmente a Corp Solutions é uma empresa oferece jornada flexíveis e modelos de trabalho remotos, com a distribuição pulverizada pelas regiões do Brasil.\n",
    "Observamos uma discreta vantagem no Sudeste, porém justificável como sendo o centro comercial do país._"
   ]
  },
  {
   "attachments": {},
   "cell_type": "markdown",
   "metadata": {},
   "source": [
    "#### Por Estado (UF)"
   ]
  },
  {
   "cell_type": "code",
   "execution_count": null,
   "metadata": {
    "collapsed": true,
    "jupyter": {
     "outputs_hidden": true
    }
   },
   "outputs": [],
   "source": [
    "uf = {\n",
    "        'Acre': 'AC', 'Alagoas': 'AL', 'Amapá': 'AP', 'Amazonas': 'AM', 'Bahia': 'BA',\n",
    "        'Ceará': 'CE', 'Distrito Federal': 'DF', 'Espírito Santo': 'ES', 'Goiás': 'GO',\n",
    "        'Maranhão': 'MA', 'Mato Grosso': 'MT', 'Mato Grosso do Sul': 'MS', 'Minas Gerais': 'MG',\n",
    "        'Pará': 'PA', 'Paraíba': 'PB', 'Paraná': 'PR', 'Pernambuco': 'PE', 'Piauí': 'PI',\n",
    "        'Rio de Janeiro': 'RJ', 'Rio Grande do Norte': 'RN', 'Rio Grande do Sul': 'RS',\n",
    "        'Rondônia': 'RO', 'Roraima': 'RR', 'Santa Catarina': 'SC', 'São Paulo': 'SP',\n",
    "        'Sergipe': 'SE', 'Tocantins': 'TO'\n",
    "}\n",
    "    \n",
    "df['UF'] = df['Estado'].map(uf)\n",
    "contagem_estado = df['UF'].value_counts()\n",
    "\n",
    "sns.set(style=\"whitegrid\")\n",
    "plt.figure(figsize=(8, 6))\n",
    "sns.barplot(x=contagem_estado.index, y=contagem_estado.values, hue=contagem_estado.index, palette=\"pastel\")\n",
    "plt.title('Distribuição dos Colaboradores por Estado do Brasil')\n",
    "plt.xlabel('Estado')\n",
    "plt.ylabel('Número de Colaboradores')\n",
    "plt.xticks(rotation=45)\n",
    "plt.grid(axis='y', linestyle='--', alpha=0.7)\n",
    "plt.show()"
   ]
  },
  {
   "attachments": {},
   "cell_type": "markdown",
   "metadata": {},
   "source": [
    "_Os gráficos mostram uma tendência em colaboradores da região sudeste e do estado de SP, RJ, MG, PR, SC e RS. A estratégia de equilibrar por região pode ser difícil dependendo da sua localização.\n",
    "Lembrando que esquilibrar por região é algo relavante, pois uma mistura de diferentes regiões traz uma riqueza cultural ao dia a dia de trabalho._"
   ]
  },
  {
   "attachments": {},
   "cell_type": "markdown",
   "metadata": {},
   "source": [
    "#### Por Tempo de empresa"
   ]
  },
  {
   "cell_type": "code",
   "execution_count": null,
   "metadata": {
    "collapsed": true,
    "jupyter": {
     "outputs_hidden": true
    }
   },
   "outputs": [],
   "source": [
    "plt.figure(figsize=(8, 6))\n",
    "plt.hist(df['Tempo de Empresa'], bins=18, color='skyblue', edgecolor='black')\n",
    "plt.title('Histograma de tempo de empresa')\n",
    "plt.xlabel('Tempo de empresa')\n",
    "plt.ylabel('Frequência')\n",
    "plt.grid(True)\n",
    "plt.show()"
   ]
  },
  {
   "attachments": {},
   "cell_type": "markdown",
   "metadata": {},
   "source": [
    "_Os dados mostram frequência muito elevada de pessoas com 4 a 7,5 anos de trabalho e uma moderada frequência de novos colaboradores, assim indica que a estratégia interessante é trabalhar a diversidade com a projeção de contratação de novos colaboradores._"
   ]
  },
  {
   "attachments": {},
   "cell_type": "markdown",
   "metadata": {},
   "source": [
    "#### Por Departamento"
   ]
  },
  {
   "cell_type": "code",
   "execution_count": null,
   "metadata": {
    "collapsed": true,
    "jupyter": {
     "outputs_hidden": true
    }
   },
   "outputs": [],
   "source": [
    "department_counts = df['Departamento'].value_counts()\n",
    "\n",
    "plt.figure(figsize=(10, 6))\n",
    "department_counts.plot(kind='bar', color='skyblue', edgecolor='black')  \n",
    "plt.title('Histograma de departamento')\n",
    "plt.xlabel('Departamento')\n",
    "plt.ylabel('Frequência')\n",
    "plt.xticks(rotation=45, ha='right')\n",
    "plt.grid(axis='y')\n",
    "plt.show()"
   ]
  },
  {
   "attachments": {},
   "cell_type": "markdown",
   "metadata": {},
   "source": [
    "_A distribuição da equipe se apresenta como nivelada entre os departamentos._"
   ]
  },
  {
   "attachments": {},
   "cell_type": "markdown",
   "metadata": {},
   "source": [
    "#### Por Senioridade"
   ]
  },
  {
   "cell_type": "code",
   "execution_count": null,
   "metadata": {
    "collapsed": true,
    "jupyter": {
     "outputs_hidden": true
    }
   },
   "outputs": [],
   "source": [
    "senioridade_counts = df['Senioridade'].value_counts()\n",
    "\n",
    "plt.figure(figsize=(8, 6))\n",
    "senioridade_counts.plot(kind='bar', color='skyblue', edgecolor='black')  \n",
    "plt.title('Histograma de Senioridade')\n",
    "plt.xlabel('Senioridade')\n",
    "plt.ylabel('Frequência')\n",
    "plt.xticks(rotation=45, ha='right')\n",
    "plt.grid(axis='y')\n",
    "plt.show()"
   ]
  },
  {
   "attachments": {},
   "cell_type": "markdown",
   "metadata": {},
   "source": [
    "_A senioridade apresenta dados naturais ao desenvolvimento de pessoas, visto que pessoas com menor senioridade apresentam um gasto menor para a empresa. Assim, é natural ter um número menor de pessoas com alto nível de senioridade._"
   ]
  },
  {
   "attachments": {},
   "cell_type": "markdown",
   "metadata": {},
   "source": [
    "### Como as variáveis se relacionam?"
   ]
  },
  {
   "attachments": {},
   "cell_type": "markdown",
   "metadata": {},
   "source": [
    "#### Gênero e Raça"
   ]
  },
  {
   "cell_type": "code",
   "execution_count": null,
   "metadata": {
    "collapsed": true,
    "jupyter": {
     "outputs_hidden": true
    }
   },
   "outputs": [],
   "source": [
    "plt.figure(figsize=(10, 6))\n",
    "sns.countplot(x='Gênero', hue='Raça', data=df, palette='Set2')\n",
    "plt.title('Distribuição de gênero por raça')\n",
    "plt.xlabel('Gênero')\n",
    "plt.ylabel('Contagem')\n",
    "plt.legend(title='Raça')\n",
    "plt.grid(axis='y')\n",
    "plt.show()"
   ]
  },
  {
   "attachments": {},
   "cell_type": "markdown",
   "metadata": {},
   "source": [
    "_Os gráficos apresentam relações semelhantes, contudo é possível notar uma maior quantidade de homens pardos em relação às mulheres pardas, o que pode sugerir a necessidade de contração de mais mulheres pardas. Contudo, devido à apresetarem resultados semelhantes, não é possível estabelecer um viés de contratação._"
   ]
  },
  {
   "attachments": {},
   "cell_type": "markdown",
   "metadata": {},
   "source": [
    "#### Gênero e Formação"
   ]
  },
  {
   "cell_type": "code",
   "execution_count": null,
   "metadata": {
    "collapsed": true,
    "jupyter": {
     "outputs_hidden": true
    }
   },
   "outputs": [],
   "source": [
    "plt.figure(figsize=(10, 6))\n",
    "sns.countplot(x='Gênero', hue='Formação', data=df, palette='Set2')\n",
    "plt.title('Distribuição de gênero por formação')\n",
    "plt.xlabel('Gênero')\n",
    "plt.ylabel('Contagem')\n",
    "plt.legend(title='Formação')\n",
    "plt.grid(axis='y')\n",
    "\n",
    "plt.show()"
   ]
  },
  {
   "attachments": {},
   "cell_type": "markdown",
   "metadata": {},
   "source": [
    "*A análise da distribuição por formação, diferenciando por gênero, revela insights interessantes sobre a educação dos indivíduos no conjunto de dados. Ao considerar os diferentes níveis de formação, observamos que, em todos os níveis, há uma predominância de homens em relação às mulheres. Por exemplo, no nível de ensino superior, os homens superam as mulheres com uma diferença de aproximadamente 3 para 1. Essa disparidade se mantém em outros níveis de formação, como pós-graduação, mestrado, doutorado e ensino médio. Essa análise sugere disparidades de gênero na educação, destacando a importância de políticas e iniciativas para promover a igualdade de oportunidades educacionais para todos os gêneros.*"
   ]
  },
  {
   "attachments": {},
   "cell_type": "markdown",
   "metadata": {},
   "source": [
    "#### Gênero e Idade"
   ]
  },
  {
   "cell_type": "code",
   "execution_count": null,
   "metadata": {
    "collapsed": true,
    "jupyter": {
     "outputs_hidden": true
    }
   },
   "outputs": [],
   "source": [
    "plt.figure(figsize=(10, 6))\n",
    "sns.boxplot(hue='Gênero', y='Idade', data=df, palette='Set2', legend=False)\n",
    "plt.title('Distribuição de idade por gênero.')\n",
    "plt.xlabel('Gênero')\n",
    "plt.ylabel('Idade')\n",
    "plt.grid(axis='y')\n",
    "plt.show()"
   ]
  },
  {
   "attachments": {},
   "cell_type": "markdown",
   "metadata": {},
   "source": [
    "_A distribuição entre idades não parece ser diferenciada conforme o gênero._"
   ]
  },
  {
   "attachments": {},
   "cell_type": "markdown",
   "metadata": {},
   "source": [
    "#### Gênero e Região"
   ]
  },
  {
   "cell_type": "code",
   "execution_count": null,
   "metadata": {
    "collapsed": true,
    "jupyter": {
     "outputs_hidden": true
    }
   },
   "outputs": [],
   "source": [
    "plt.figure(figsize=(10, 6))\n",
    "sns.countplot(x='Gênero', hue='Região', data=df, palette='Set2')\n",
    "plt.title('Distribuição de gênero por região')\n",
    "plt.xlabel('Gênero')\n",
    "plt.ylabel('contagem')\n",
    "plt.legend(title='Região')\n",
    "plt.xticks(rotation=0)\n",
    "plt.grid(axis='y')\n",
    "\n",
    "plt.show()"
   ]
  },
  {
   "attachments": {},
   "cell_type": "markdown",
   "metadata": {},
   "source": [
    "_Não foram observadas conclusões ou uma evidente correlação entre o Gênero e Região._"
   ]
  },
  {
   "attachments": {},
   "cell_type": "markdown",
   "metadata": {},
   "source": [
    "#### Gênero e Tempo de empresa"
   ]
  },
  {
   "cell_type": "code",
   "execution_count": null,
   "metadata": {
    "collapsed": true,
    "jupyter": {
     "outputs_hidden": true
    }
   },
   "outputs": [],
   "source": [
    "plt.figure(figsize=(10, 6))\n",
    "sns.histplot(data=df, x='Tempo de Empresa', hue='Gênero', palette='Set2', multiple='stack', edgecolor='black', bins=30)\n",
    "plt.title('Distribuição de gênero por tempo de empresa')\n",
    "plt.xlabel('Tempo de empresa')\n",
    "plt.ylabel('Contagem')\n",
    "plt.grid(axis='y')\n",
    "plt.show()"
   ]
  },
  {
   "attachments": {},
   "cell_type": "markdown",
   "metadata": {},
   "source": [
    "_A análise do gráfico não apresenta alguma influência do gênero em relação ao tempo de empresa, sugerindo que ainda podem não ter sido implantadas políticas de diversidade. Ressalta-se que, para os colaboradores com maior tempo de empresa, diminui a quantidade de mulheres._"
   ]
  },
  {
   "attachments": {},
   "cell_type": "markdown",
   "metadata": {},
   "source": [
    "#### Gênero e Departamento"
   ]
  },
  {
   "cell_type": "code",
   "execution_count": null,
   "metadata": {
    "collapsed": true,
    "jupyter": {
     "outputs_hidden": true
    }
   },
   "outputs": [],
   "source": [
    "plt.figure(figsize=(12, 6))  # Adjust the figure size if needed\n",
    "sns.countplot(x='Departamento', hue='Gênero', data=df, palette='Set2')\n",
    "plt.title('Distribuição de gênero por departamento')\n",
    "plt.xlabel('Departamento')\n",
    "plt.ylabel('Contagem')\n",
    "plt.legend(title='Gênero')\n",
    "plt.grid(axis='y')\n",
    "plt.xticks(rotation=45, ha='right')  # Rotate x-axis labels for better visibility\n",
    "plt.show()"
   ]
  },
  {
   "attachments": {},
   "cell_type": "markdown",
   "metadata": {},
   "source": [
    "_A distribuição de vagas no departamento mantém o nivelamento, reforçando a necessidade de contratação de mais mulheres._"
   ]
  },
  {
   "attachments": {},
   "cell_type": "markdown",
   "metadata": {},
   "source": [
    "#### Gênero e Senioridade?"
   ]
  },
  {
   "cell_type": "code",
   "execution_count": null,
   "metadata": {
    "collapsed": true,
    "jupyter": {
     "outputs_hidden": true
    }
   },
   "outputs": [],
   "source": [
    "plt.figure(figsize=(10, 6))  # Adjust the figure size if needed\n",
    "sns.countplot(x='Gênero', hue='Senioridade', data=df, palette='Set2')\n",
    "plt.title('Distribuição de gênero e Senioridade')\n",
    "plt.xlabel('Gênero')\n",
    "plt.ylabel('Contagem')\n",
    "plt.legend(title='Senioridade')\n",
    "plt.xticks(rotation=45)  # Rotate x-axis labels for better visibility\n",
    "plt.grid(axis='y')\n",
    "plt.show()"
   ]
  },
  {
   "attachments": {},
   "cell_type": "markdown",
   "metadata": {},
   "source": [
    "_Analisando esse gráfico, é possível notar que o gênero não influencia na hierarquia, destaque para o cargo de diretoria que não aparece nos gráficos do gênero feminino. O que sugere que é necessária uma política de aumentar a contratação de mulheres e que futuramente pode equilibrar esses cargos._"
   ]
  },
  {
   "attachments": {},
   "cell_type": "markdown",
   "metadata": {},
   "source": [
    "# Comunicação dos resultados"
   ]
  },
  {
   "attachments": {},
   "cell_type": "markdown",
   "metadata": {},
   "source": [
    "## Situação atual Corp Solutions"
   ]
  },
  {
   "attachments": {},
   "cell_type": "markdown",
   "metadata": {},
   "source": []
  },
  {
   "attachments": {},
   "cell_type": "markdown",
   "metadata": {},
   "source": [
    "## Diversidade"
   ]
  },
  {
   "attachments": {},
   "cell_type": "markdown",
   "metadata": {},
   "source": [
    "(GPTW)\n",
    "Os negros são 56% da população brasileira e movimentam R$ 1,7 tri por ano,\n",
    "apesar de terem uma renda média R$ 1.200 menor que dos brancos.\n",
    "\n",
    "3 de agosto: se todos recebessem um salário diário igual em um ano, a mulher\n",
    "negra começaria a ser remunerada apenas nessa data.\n",
    "\n",
    "Empresas mais diversas e melhores: as empresas premiadas do GPTW étnico-racial\n",
    "também são mais diversas em relação a gênero, e apresentam rotatividade\n",
    "voluntária 88% menor que a média no Brasil.\n",
    "\n",
    "(MCKINSEY)\n",
    "\n",
    "A diversidade de gênero está correlacionada tanto com a lucratividade como com a criação de valor. No conjunto de dados de 2017, encontramos uma correlação positiva entre diversidade de gênero nas equipes executivas e as duas medidas de performance financeira que adotamos: em todo o mundo, empresas do quartil superior em diversidade de gênero nas equipes executivas tinham uma probabilidade 21% maior de ter margem EBIT superior à de seus pares do quartil inferior; além disso, tinham uma probabilidade 27% maior de criar valor no longo prazo do que seus pares do quartil inferior, medido pela margem de lucro econômico (Quadro 2).\n",
    "\n",
    "\n"
   ]
  },
  {
   "attachments": {},
   "cell_type": "markdown",
   "metadata": {},
   "source": [
    "## Treinamento e Conscientização"
   ]
  },
  {
   "attachments": {},
   "cell_type": "markdown",
   "metadata": {},
   "source": []
  },
  {
   "attachments": {},
   "cell_type": "markdown",
   "metadata": {},
   "source": [
    "## Novas contratações"
   ]
  },
  {
   "attachments": {},
   "cell_type": "markdown",
   "metadata": {},
   "source": [
    "Embora a empresa possa ter interesse em aumentar a representatividade, ela vai encontrar os profissionais com determinada características?\n",
    "Implementar programas de recrutamento ativo direcionados a grupos minoritários sub-representados.\n",
    "Estabelecer parcerias com organizações que apoiam candidatos de grupos minoritários para aumentar o alcance do recrutamento.\n",
    "Soluções para formar profissionalizais na área (Potencia Tech é uma inspiração)\n",
    "Garantir que os processos de seleção sejam imparciais e livres de preconceitos, utilizando técnicas de recrutamento cego quando apropriado."
   ]
  },
  {
   "attachments": {},
   "cell_type": "markdown",
   "metadata": {},
   "source": [
    "## Inclusão: PCD"
   ]
  },
  {
   "attachments": {},
   "cell_type": "markdown",
   "metadata": {},
   "source": [
    "(GPTW)\n",
    "Investir em pessoas com deficiência vale a pena\n",
    "Monday, March 20, 2023 ©Great Place To Work® Institute, Inc. All Rights Reserved. 18\n",
    "A lei de cotas existe desde 1991 no Brasil, mas cumpre-se apenas metade dela,\n",
    "atualmente. 1\n",
    "Multas: podem ser de até R$ 250 mil por pessoa com deficiência não contrataa.\n",
    "2\n",
    "Apenas 1% dos trabalhadores é uma pessoa com deficiência, mas 8,4% da\n",
    "população brasileira acima de dois anos possui alguma deficncia.\n",
    "3"
   ]
  },
  {
   "attachments": {},
   "cell_type": "markdown",
   "metadata": {},
   "source": [
    "## LGBTQIA+"
   ]
  },
  {
   "attachments": {},
   "cell_type": "markdown",
   "metadata": {},
   "source": [
    "(GPTW)\n",
    "\n",
    "Retorno do índice LGBTQ100 (NYSE) = crescimento de 12,0%.\n",
    "Retorno do índice S&P500 = crescimento de 7,8%.\n",
    "\n",
    "O público LGBTQIA+ consome +25% que os heterossexuais;\n",
    "64% das pessoas LGBTQIA+ ainda não se assumiram no trabalho.\n",
    "\n",
    "Há o dobro de pessoas LGBTQIA+ nas empresas premiadas do que\n",
    "nas não-premiadas, em todos os níveis.\n"
   ]
  },
  {
   "attachments": {},
   "cell_type": "markdown",
   "metadata": {},
   "source": [
    "## Plano de Ação"
   ]
  },
  {
   "attachments": {},
   "cell_type": "markdown",
   "metadata": {},
   "source": []
  },
  {
   "attachments": {},
   "cell_type": "markdown",
   "metadata": {},
   "source": [
    "# Referências"
   ]
  },
  {
   "attachments": {},
   "cell_type": "markdown",
   "metadata": {},
   "source": [
    "Durante o desenvolvimento dessa análise buscamos embasar nossas conclusões em fontes externas:"
   ]
  },
  {
   "attachments": {},
   "cell_type": "markdown",
   "metadata": {},
   "source": [
    "[Indicadores para Diversidade e Inclusão: por que mensurar e quais métricas utilizar](https://treediversidade.com.br/indicadores-para-diversidade-e-inclusao/) (Tree, 2022)"
   ]
  },
  {
   "attachments": {},
   "cell_type": "markdown",
   "metadata": {},
   "source": [
    "[A diversidade como alavanca de performance](https://www.mckinsey.com/capabilities/people-and-organizational-performance/our-insights/delivering-through-diversity/pt-BR) (Mckinsey, 2017)"
   ]
  },
  {
   "attachments": {},
   "cell_type": "markdown",
   "metadata": {},
   "source": [
    "[Diversity, Equity & Inclusion - Benchmarking Survey](https://www.pwc.com.br/pt/estudos/servicos/consultoria-negocios/2023/pesquisa-global-de-diversidade-equidade-e-inclusao.html) (PwC, 2022)\n"
   ]
  },
  {
   "attachments": {},
   "cell_type": "markdown",
   "metadata": {},
   "source": [
    "[Ranking Diversidade](https://gptw.com.br/wp-content/uploads/2023/03/Rankings-Diversidade-2023-v.2.pdf)(GPTW, 2023"
   ]
  },
  {
   "cell_type": "code",
   "execution_count": null,
   "metadata": {
    "collapsed": true,
    "jupyter": {
     "outputs_hidden": true
    }
   },
   "outputs": [],
   "source": []
  }
 ],
 "metadata": {
  "kernelspec": {
   "display_name": "Python 3 (ipykernel)",
   "language": "python",
   "name": "python3"
  },
  "language_info": {
   "codemirror_mode": {
    "name": "ipython",
    "version": 3
   },
   "file_extension": ".py",
   "mimetype": "text/x-python",
   "name": "python",
   "nbconvert_exporter": "python",
   "pygments_lexer": "ipython3",
   "version": "3.11.3"
  }
 },
 "nbformat": 4,
 "nbformat_minor": 4
}
