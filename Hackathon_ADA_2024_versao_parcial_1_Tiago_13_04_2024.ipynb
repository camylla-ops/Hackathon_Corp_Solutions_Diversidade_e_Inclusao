{
  "nbformat": 4,
  "nbformat_minor": 0,
  "metadata": {
    "colab": {
      "provenance": [],
      "collapsed_sections": [
        "3F4BMO817j9E",
        "7U_NsWoa2D7i",
        "z7fSkOK1BS-k",
        "Q_O7KeGz3Q5F",
        "sijVSNGP3bYX",
        "Fcg8vkIT39Re",
        "THmos6it4JJ9",
        "nbktYNRCUMn9",
        "dx2GIKWduAHy",
        "TejDiLXCuW0r",
        "fS21pZMV8JbY",
        "WYf1LrnDpBBt",
        "h0mFU85XroyM",
        "1JNDsQDCr6_d"
      ]
    },
    "kernelspec": {
      "name": "python3",
      "display_name": "Python 3"
    },
    "language_info": {
      "name": "python"
    }
  },
  "cells": [
    {
      "cell_type": "markdown",
      "source": [
        "##**1. Entendimento do Contexto / Negócio**"
      ],
      "metadata": {
        "id": "3F4BMO817j9E"
      }
    },
    {
      "cell_type": "markdown",
      "source": [
        "**ESPAÇO RESERVADO PARA TEXTO SOBRE O CONTEXTO**"
      ],
      "metadata": {
        "id": "gZxfADao7tD6"
      }
    },
    {
      "cell_type": "markdown",
      "source": [
        "##**2. Entendimento inicial dos Dados**"
      ],
      "metadata": {
        "id": "j9yBo5T27tyK"
      }
    },
    {
      "cell_type": "markdown",
      "source": [
        "### **Instalações e Bibliotecas necessárias**"
      ],
      "metadata": {
        "id": "YE2B3QRFyrXD"
      }
    },
    {
      "cell_type": "code",
      "source": [
        "\"\"\"\n",
        "ftfy (fixes text for you) é uma biblioteca Python que ajuda a corrigir e limpar texto codificado de forma incorreta,\n",
        "seja devido a problemas de codificação, caracteres inválidos ou outros problemas semelhantes. Ele oferece uma variedade\n",
        "de funções para corrigir e normalizar texto, incluindo a detecção e correção de codificações ruins, a remoção de\n",
        "caracteres inválidos e a padronização de espaços em branco.\n",
        "\n",
        "Instalação:\n",
        "    Para instalar o ftfy via pip, você pode usar o seguinte comando:\n",
        "\n",
        "    !pip install ftfy\n",
        "\n",
        "Referência:\n",
        "    Documentação oficial do ftfy: https://ftfy.readthedocs.io/en/latest/\n",
        "\"\"\"\n",
        "\n",
        "!pip install ftfy"
      ],
      "metadata": {
        "id": "X42-7jIezRAp"
      },
      "execution_count": null,
      "outputs": []
    },
    {
      "cell_type": "code",
      "source": [
        "!pip install dash"
      ],
      "metadata": {
        "id": "wqGgNbQ7w85Q"
      },
      "execution_count": null,
      "outputs": []
    },
    {
      "cell_type": "code",
      "execution_count": null,
      "metadata": {
        "id": "fv-69vV-Uh7L"
      },
      "outputs": [],
      "source": [
        "\"\"\"\n",
        "Importações de bibliotecas comumente usadas em análise de dados e visualização.\n",
        "\n",
        "Este bloco de importações inclui as seguintes bibliotecas:\n",
        "- requests: para fazer solicitações HTTP.\n",
        "- pandas: para manipulação e análise de dados em formato tabular.\n",
        "- StringIO da io: para manipulação de strings como arquivos.\n",
        "- tabulate: para exibir dados tabulares em uma formatação legível.\n",
        "- plotly.express: para visualizações interativas e expressivas.\n",
        "- make_subplots de plotly.subplots: para criar subtramas em visualizações plotly.\n",
        "- go de plotly.graph_objects: para criar figuras e gráficos plotly de maneira programática.\n",
        "- numpy: para operações numéricas eficientes.\n",
        "- matplotlib.pyplot: para visualizações estáticas e personalizáveis.\n",
        "- seaborn: para visualizações estatísticas atraentes e informativas.\n",
        "- scipy.stats: para funções estatísticas e testes de hipóteses.\n",
        "\n",
        "Referência:\n",
        "    Documentação oficial das bibliotecas individuais para mais detalhes sobre suas funcionalidades e uso.\n",
        "\"\"\"\n",
        "\n",
        "import requests\n",
        "import pandas as pd\n",
        "from io import StringIO\n",
        "import io\n",
        "import ftfy\n",
        "import plotly.express as px\n",
        "import plotly.subplots as sp\n",
        "from plotly.subplots import make_subplots\n",
        "import plotly.graph_objects as go\n",
        "import dash\n",
        "from dash import dcc, html\n",
        "from dash.dependencies import Input, Output\n",
        "\n",
        "\n",
        "# from tabulate import tabulate\n",
        "\n",
        "\n",
        "\n",
        "import numpy as np\n",
        "import matplotlib.pyplot as plt\n",
        "import seaborn as sns\n",
        "from scipy import stats\n",
        "from scipy.stats import norm\n",
        "from scipy.stats import ttest_ind"
      ]
    },
    {
      "cell_type": "markdown",
      "source": [
        "###**Extração e leitura dos dados**"
      ],
      "metadata": {
        "id": "7U_NsWoa2D7i"
      }
    },
    {
      "cell_type": "code",
      "source": [
        "\"\"\"\n",
        "Configura as opções de exibição do pandas para mostrar um número máximo de colunas, linhas e largura de coluna ilimitados.\n",
        "\n",
        "Referência:\n",
        "    Documentação oficial do pandas sobre opções de exibição: https://pandas.pydata.org/pandas-docs/stable/user_guide/options.html\n",
        "\"\"\"\n",
        "\n",
        "pd.set_option('display.max_columns', None)\n",
        "pd.set_option('display.max_rows', None)\n",
        "pd.set_option('display.max_colwidth', None)"
      ],
      "metadata": {
        "id": "5_ily8yszOxL"
      },
      "execution_count": null,
      "outputs": []
    },
    {
      "cell_type": "code",
      "source": [
        "\"\"\"\n",
        "Este bloco de código baixa um arquivo CSV de uma URL, decodifica seu conteúdo, e o converte em um DataFrame pandas.\n",
        "Em seguida, realiza um tratamento na coluna \"Endereço\" para remover caracteres de nova linha.\n",
        "Por fim, exibe as primeiras linhas do DataFrame.\n",
        "\"\"\"\n",
        "\n",
        "file_url = \"https://github.com/Ada-Empregabilidade/adahack-2024-dados/raw/main/base_dados/base_de_dados.csv\"\n",
        "\n",
        "response = requests.get(file_url)\n",
        "\n",
        "if response.status_code == 200:\n",
        "    decoded_content = ftfy.fix_text(response.content.decode('utf-8'))\n",
        "\n",
        "    df = pd.read_csv(io.StringIO(decoded_content))\n",
        "\n",
        "    df['Endereço'] = df['Endereço'].str.replace('\\n', ' ')\n",
        "\n",
        "    display(df.head())\n",
        "else:\n",
        "    print(f\"Erro ao obter o arquivo: {response.status_code}\")\n"
      ],
      "metadata": {
        "id": "AaHxx1w-Y3yo"
      },
      "execution_count": null,
      "outputs": []
    },
    {
      "cell_type": "markdown",
      "source": [
        "###**Colunas do DataFrame que não agregam valor**\n",
        "Após análise, foram identificadas colunas que não agregam valor, que serão excluídas do DataFrame."
      ],
      "metadata": {
        "id": "z7fSkOK1BS-k"
      }
    },
    {
      "cell_type": "code",
      "source": [
        "\"\"\"\n",
        "Excluindo colunas do DataFrame que não agregam valor\n",
        "\"\"\"\n",
        "df = df.drop(columns=['id', 'id.1', 'Endereço'])"
      ],
      "metadata": {
        "id": "fsDVbhIoBVk7"
      },
      "execution_count": null,
      "outputs": []
    },
    {
      "cell_type": "markdown",
      "source": [
        "###**Quantidade de linhas e colunas**"
      ],
      "metadata": {
        "id": "Q_O7KeGz3Q5F"
      }
    },
    {
      "cell_type": "code",
      "source": [
        "\"\"\"\n",
        "Obtendo a quantidade de linhas e colunas do dataframe criado a partir da extração dos dados\n",
        "\"\"\"\n",
        "num_linhas = len(df)\n",
        "num_colunas = len(df.columns)\n",
        "\n",
        "print(f\"Número de Linhas: {num_linhas}\")\n",
        "print(f\"Número de Colunas: {num_colunas}\")"
      ],
      "metadata": {
        "id": "TOZ-foo4UjZt"
      },
      "execution_count": null,
      "outputs": []
    },
    {
      "cell_type": "markdown",
      "source": [
        "###**Verificação dos tipos das colunas**"
      ],
      "metadata": {
        "id": "sijVSNGP3bYX"
      }
    },
    {
      "cell_type": "code",
      "source": [
        "\"\"\"\n",
        "Verificação dos tipos das colunas existentes (int64, object, float)\n",
        "\"\"\"\n",
        "df.info()"
      ],
      "metadata": {
        "id": "7Fy-emSObU0L"
      },
      "execution_count": null,
      "outputs": []
    },
    {
      "cell_type": "markdown",
      "source": [
        "###**Verificação de valores duplicados - Geral**"
      ],
      "metadata": {
        "id": "Fcg8vkIT39Re"
      }
    },
    {
      "cell_type": "code",
      "source": [
        "duplicados = df.duplicated().sum()\n",
        "print(f\"Existem {(duplicados)} dados duplicados\")"
      ],
      "metadata": {
        "id": "hkUw_cdM37Ij"
      },
      "execution_count": null,
      "outputs": []
    },
    {
      "cell_type": "markdown",
      "source": [
        "###**Verificação de valores únicos**"
      ],
      "metadata": {
        "id": "THmos6it4JJ9"
      }
    },
    {
      "cell_type": "code",
      "source": [
        "def summarize_dataframe(df):\n",
        "    \"\"\"\n",
        "    Sumariza um DataFrame, fornecendo informações sobre os valores únicos em cada coluna.\n",
        "\n",
        "    Parâmetros:\n",
        "        df (DataFrame): O DataFrame a ser sumarizado.\n",
        "\n",
        "    Retorna:\n",
        "        DataFrame: Um DataFrame contendo informações sobre os valores únicos em cada coluna do DataFrame de entrada.\n",
        "                   O DataFrame resultante tem três colunas: 'Coluna', 'Valores Únicos' e 'Número de Valores Únicos'.\n",
        "    \"\"\"\n",
        "    dfs = []\n",
        "\n",
        "    for column in df.columns:\n",
        "        unique_values = df[column].unique()\n",
        "        num_unique_values = len(unique_values)\n",
        "        temp_df = pd.DataFrame({'Coluna': [column], 'Valores Únicos': [unique_values], 'Número de Valores Únicos': [num_unique_values]})\n",
        "        dfs.append(temp_df)\n",
        "\n",
        "    df_output = pd.concat(dfs, ignore_index=True)\n",
        "\n",
        "    return df_output\n",
        "\n",
        "#Chamando a função e e imprimindo dados\n",
        "df_summary = summarize_dataframe(df)\n",
        "display(df_summary)"
      ],
      "metadata": {
        "id": "jXsxNWmHoVOz"
      },
      "execution_count": null,
      "outputs": []
    },
    {
      "cell_type": "markdown",
      "source": [
        "###**Verificação de valores ausentes**"
      ],
      "metadata": {
        "id": "nbktYNRCUMn9"
      }
    },
    {
      "cell_type": "code",
      "source": [
        "def group_columns_by_percentile(df):\n",
        "    \"\"\"\n",
        "    Agrupa as colunas de um DataFrame por faixa percentual de valores faltantes.\n",
        "\n",
        "    Parâmetros:\n",
        "        df (DataFrame): O DataFrame a ser agrupado.\n",
        "\n",
        "    Retorna:\n",
        "        DataFrame: Um DataFrame contendo as colunas agrupadas por faixa percentual de valores faltantes,\n",
        "                   juntamente com o percentual exato de valores faltantes em cada coluna.\n",
        "                   O DataFrame resultante possui três colunas: 'Faixa Percentual', 'Colunas' e 'Percentual Exato'.\n",
        "    \"\"\"\n",
        "\n",
        "    colunas_por_faixa = {}\n",
        "    for i in range(20):\n",
        "        inicio = f'{i * 5:02.0f}.01' if i == 0 else f'{i * 5:02.0f}.01'\n",
        "        fim = f'{(i + 1) * 5 - 0.01:02.0f}'\n",
        "        colunas_por_faixa[f'{inicio}% até {fim}%'] = []\n",
        "\n",
        "    colunas_por_faixa['0.00% (zero erro)'] = []\n",
        "\n",
        "    colunas_por_percentual = {}\n",
        "\n",
        "    for coluna in df.columns:\n",
        "        percentual_faltante = df[coluna].isnull().sum() / len(df) * 100\n",
        "        if percentual_faltante == 0:\n",
        "            colunas_por_faixa['0.00% (zero erro)'].append(coluna)\n",
        "            colunas_por_percentual[coluna] = 0.00\n",
        "        else:\n",
        "            for i in range(20):\n",
        "                inicio = f'{i * 5:02.0f}.01' if i == 0 else f'{i * 5:02.0f}.01'\n",
        "                fim = f'{(i + 1) * 5 - 0.01:02.0f}'\n",
        "                faixa = f'{inicio}% até {fim}%'\n",
        "                if percentual_faltante <= (i + 1) * 5:\n",
        "                    colunas_por_faixa[faixa].append(coluna)\n",
        "                    colunas_por_percentual[coluna] = round(percentual_faltante, 2)\n",
        "                    break\n",
        "            if percentual_faltante > 95:\n",
        "                colunas_por_faixa['95.01% até 100%'].append(coluna)\n",
        "                colunas_por_percentual[coluna] = round(percentual_faltante, 2)\n",
        "\n",
        "    colunas_por_faixa = {'0.00% (zero erro)': colunas_por_faixa['0.00% (zero erro)']} | {k: v for k, v in colunas_por_faixa.items() if k != '0.00% (zero erro)'}\n",
        "\n",
        "    df_tabela = pd.DataFrame(colunas_por_faixa.items(), columns=['Faixa Percentual', 'Colunas'])\n",
        "    df_tabela['Percentual Exato'] = df_tabela['Colunas'].apply(lambda colunas: [colunas_por_percentual[coluna] for coluna in colunas])\n",
        "\n",
        "    return df_tabela\n",
        "\n",
        "#Chamando a função e e imprimindo dados\n",
        "df_grouped = group_columns_by_percentile(df)\n",
        "display(df_grouped)"
      ],
      "metadata": {
        "id": "gECqA9u-bWtR"
      },
      "execution_count": null,
      "outputs": []
    },
    {
      "cell_type": "markdown",
      "source": [
        "####**Coluna -> \"Formação\"**"
      ],
      "metadata": {
        "id": "wux52GDWuwPq"
      }
    },
    {
      "cell_type": "code",
      "source": [
        "df['Formação'].isnull().sum()"
      ],
      "metadata": {
        "id": "w1cNXFyGKV9y"
      },
      "execution_count": null,
      "outputs": []
    },
    {
      "cell_type": "code",
      "source": [
        "registros_nulos_formacao = df[df['Formação'].isnull()]\n",
        "display(registros_nulos_formacao)"
      ],
      "metadata": {
        "id": "rSYOpe7D8o1z"
      },
      "execution_count": null,
      "outputs": []
    },
    {
      "cell_type": "code",
      "source": [
        "\"\"\"\n",
        "Excluindo valores ausentes da coluna 'Formação' do DataFrame\n",
        "\"\"\"\n",
        "df = df.dropna(subset=['Formação'])"
      ],
      "metadata": {
        "id": "tPHnvhE51WDb"
      },
      "execution_count": null,
      "outputs": []
    },
    {
      "cell_type": "markdown",
      "source": [
        "####**Coluna -> \"Tempo de casa\"**"
      ],
      "metadata": {
        "id": "EcJ8oR_Zu1j_"
      }
    },
    {
      "cell_type": "code",
      "source": [
        "# Quantidade de valores negativos na coluna 'Tempo de casa'\n",
        "quantidade_negativos_tempo_de_casa = (df['Tempo de casa'] < 0).sum()\n",
        "print(quantidade_negativos_tempo_de_casa)"
      ],
      "metadata": {
        "id": "C10LuUn_iKq1"
      },
      "execution_count": null,
      "outputs": []
    },
    {
      "cell_type": "code",
      "source": [
        "# Quantidade de valores NaN na coluna 'Tempo de casa'\n",
        "quantidade_nan_tempo_de_casa = df['Tempo de casa'].isnull().sum()\n",
        "print(quantidade_nan_tempo_de_casa)"
      ],
      "metadata": {
        "id": "2I8iim3qiqLF"
      },
      "execution_count": null,
      "outputs": []
    },
    {
      "cell_type": "code",
      "source": [
        "quantidade_negativos_nan_tempo_de_casa = (df['Tempo de casa'] < 0).sum() + df['Tempo de casa'].isnull().sum()\n",
        "display(quantidade_negativos_nan_tempo_de_casa)"
      ],
      "metadata": {
        "id": "K8fESCoePb1X"
      },
      "execution_count": null,
      "outputs": []
    },
    {
      "cell_type": "code",
      "source": [
        "quantidade_negativos_nan_tempo_de_casa = df[(df['Tempo de casa'] < 0) | (df['Tempo de casa'].isnull())]\n",
        "display(quantidade_negativos_nan_tempo_de_casa)"
      ],
      "metadata": {
        "id": "q9zFELKvOiYp"
      },
      "execution_count": null,
      "outputs": []
    },
    {
      "cell_type": "code",
      "source": [
        "# Excluir valores negativos e valores ausentes da coluna 'Tempo de casa'\n",
        "df = df[(df['Tempo de casa'] >= 0) & (~df['Tempo de casa'].isnull())]"
      ],
      "metadata": {
        "id": "-TYqExq92gbE"
      },
      "execution_count": null,
      "outputs": []
    },
    {
      "cell_type": "markdown",
      "source": [
        "####**Coluna -> \"Idade\"**"
      ],
      "metadata": {
        "id": "SKX6g5qlu63y"
      }
    },
    {
      "cell_type": "code",
      "source": [
        "df['Idade'].isnull().sum()"
      ],
      "metadata": {
        "id": "gazo5OFJYz3n"
      },
      "execution_count": null,
      "outputs": []
    },
    {
      "cell_type": "code",
      "source": [
        "registros_nulos_idade = df[df['Idade'].isnull()]\n",
        "display(registros_nulos_idade)"
      ],
      "metadata": {
        "id": "1VeehleAYkeG"
      },
      "execution_count": null,
      "outputs": []
    },
    {
      "cell_type": "code",
      "source": [
        "\"\"\"\n",
        "Excluindo valores ausentes da coluna 'Idade' do DataFrame\n",
        "\"\"\"\n",
        "df = df.dropna(subset=['Idade'])"
      ],
      "metadata": {
        "id": "FoZIvTvw309p"
      },
      "execution_count": null,
      "outputs": []
    },
    {
      "cell_type": "markdown",
      "source": [
        "###**Verificação de valores duplicados - Por coluna**"
      ],
      "metadata": {
        "id": "dx2GIKWduAHy"
      }
    },
    {
      "cell_type": "markdown",
      "source": [
        "####**Coluna -> \"Nome\"**"
      ],
      "metadata": {
        "id": "TejDiLXCuW0r"
      }
    },
    {
      "cell_type": "code",
      "source": [
        "registros_duplicados_nome = df[df.duplicated(subset=['Nome'], keep=False)]\n",
        "registros_duplicados = registros_duplicados_nome.sort_values(by='Nome')\n",
        "display(registros_duplicados_nome)"
      ],
      "metadata": {
        "id": "Vclh44HaHWnp"
      },
      "execution_count": null,
      "outputs": []
    },
    {
      "cell_type": "code",
      "source": [
        "len(registros_duplicados_nome)"
      ],
      "metadata": {
        "id": "ocRDs3gXHhjA"
      },
      "execution_count": null,
      "outputs": []
    },
    {
      "cell_type": "markdown",
      "source": [
        "###**Relatório 1 - Considerações iniciais**"
      ],
      "metadata": {
        "id": "fS21pZMV8JbY"
      }
    },
    {
      "cell_type": "markdown",
      "source": [
        "Nesta seção, buscou-se observar algumas características gerais dos dados.\n",
        "\n",
        "O conjunto original dos dados possui 10000 registros e 12 colunas.\n",
        "\n",
        "Algumas verificações foram realizadas para garantir dados de qualidade nas seções subsequentes.\n",
        "\n",
        "**1) Quanto à dados que não agregam valor**\n",
        ">Na **1.1) verificação dos dados que não agregam valor**, observou-se que as colunas:\n",
        ">>**a) id**, **id.1** e **Endereço**: Não agregam valor para os objetivos desta análise e, portanto, foram excluídas do DataFrame.\n",
        "\n",
        "**2) Quanto ao tipo dos dados:**\n",
        ">Na **2.1) verificação dos tipos das colunas**, observou-se que a coluna:\n",
        ">>**a) Idade** e **Tempo de casa**: Inicialmente, causam estranheza por estarem em **float**. A priori, assume-se que o tipo mais adequado nesse caso seria **int64**, caso sejam utilizadas.**(vide Seção 3. Preparação dos Dados, Tratamento 1 para informação complementar**);\n",
        "\n",
        "**3) Quanto a duplicidade dos dados - Geral:**\n",
        ">Na **3.1) verificação de valores duplicados - Geral**, não foi encontrada duplicidade de registros.\n",
        "\n",
        "**4) Quanto aos valores únicos:**\n",
        ">Na **4.1) verificação de valores únicos**, ficou evidente que a coluna:\n",
        ">>**a) Nome**: Possui 39 valores valores repetidos, pois existem 9961 valores únicos de um total de 10000 registros (**vide item 6.1) a) 👇 para informação complementar**);\n",
        "\n",
        ">>**b) Formação**: Possui valores do tipo **NaN (vide item 5.1) a) 👇 para informação complementar**);\n",
        "\n",
        ">>**c) Tempo de casa**: Possui valores do tipo **NaN** e valores **Negativos (vide item 5.1) b) 👇 para informação complementar**);\n",
        "\n",
        ">>**d) Senioridade**: Possui valores com o mesmo significado, mas cadastrados com grafia incorreta **gerente** e **Gerente**\n",
        "\n",
        ">>**e) Idade**: Possui valores do tipo **NaN**\n",
        "\n",
        "**5) Quanto aos valores ausentes:**\n",
        ">Na **5.1) verificação de valores ausentes ou negativos**, ficou evidente que na coluna:\n",
        ">>**a) Formação**: Os 44 valores do tipo 'NaN' apresentaram muita inconsistência quando analisados em conjunto com as demais colunas. Haviam muitas situações como, por exemplo, uma pessoa muito jovem (menor de 18 anos) possuia um tempo de casa próximo de sua idade e com uma Senioridade muito elevada. Certamente, esses dados não estão confiáveis e, portanto, foram excluídos. Dimensionamos que isso impacta muito pouco nossas análises, pois corresponde a, apenas, 0.44% de todo o conjunto de dados.\n",
        "\n",
        ">>**b) Tempo de casa**: Os 97 valores resmanescentes do tipo 'NaN' e os 199 valores 'Negativos' dessa coluna, juntos, totalizam 2.96% de todo os registros do conjunto de dados. Como esses valores representam baixo impacto, esses registros foram excluídos.\n",
        "\n",
        ">>**c) Idade**: Os 56 valores remanescentes do tipo 'NaN' dessa coluna atinge 0.56% dos registros de todo o conjunto de dados. Como esses valores representam baixo impacto, esses registros foram excluídos.\n",
        "\n",
        "**6) Quanto a duplicidade dos dados - Por coluna:**\n",
        ">Na **6.1) verificação de valores duplicados - Por coluna**, ficou evidente que na coluna:\n",
        ">>**a) Nome**: Os 37 valores remascentes repetidos da coluna não tratam-se de duplicidade de registros, portanto, não precisam ser removidos.\n",
        "\n",
        "Ao todo, foram excluídos 395 registros, o equivalente a 3.95% de toda o conjunto dos dados.\n",
        "\n",
        "Na Seção seguinte, avançamos na aplicação dos tratamentos identificados, após essas verificações iniciais."
      ],
      "metadata": {
        "id": "l4MMvII98SkX"
      }
    },
    {
      "cell_type": "markdown",
      "source": [
        "##**3. Preparação dos Dados**"
      ],
      "metadata": {
        "id": "WYf1LrnDpBBt"
      }
    },
    {
      "cell_type": "markdown",
      "source": [
        "Na Seção anterior, foi feito o entendimento inicial dos dados e, na medida do necessário, algumas exclusões foram aplicadas, conforme explicações do Relatório 1, naquela Seção.\n",
        "\n",
        "Com isso, nesta seção serão aplicados os tratamentos necessários remanescentes, a saber:\n",
        ">\n",
        "\n",
        "*   **Tratamento 1**: Transformação do tipo das colunas **Idade** e **Tempo de casa (vide item 2.1) a) ☝️ para informação complementar)**\n",
        "\n",
        "*   **Tratamento 2**: Transformação do tipo 'replace' para padronizar valor 'gerente' (primeira letra em minúsculo) para 'Gerente' (primeira letra em maiúsculo **(vide item 4.1) d) ☝️ para informação complementar)**\n",
        "\n"
      ],
      "metadata": {
        "id": "3LxT4nllpXS1"
      }
    },
    {
      "cell_type": "markdown",
      "source": [
        "###**Tratamento 1:** Transformação do tipo das colunas **Idade** e **Tempo de casa** para 'int64'"
      ],
      "metadata": {
        "id": "h0mFU85XroyM"
      }
    },
    {
      "cell_type": "code",
      "source": [
        "df.info()"
      ],
      "metadata": {
        "id": "KU5R51rMts_9"
      },
      "execution_count": null,
      "outputs": []
    },
    {
      "cell_type": "code",
      "source": [
        "df['Idade'] = df['Idade'].astype(int)\n",
        "df['Tempo de casa'] = df['Tempo de casa'].astype(int)"
      ],
      "metadata": {
        "id": "aJRmM6oKpWZv"
      },
      "execution_count": null,
      "outputs": []
    },
    {
      "cell_type": "code",
      "source": [
        "df.info()"
      ],
      "metadata": {
        "id": "euRJTbxwvr7N"
      },
      "execution_count": null,
      "outputs": []
    },
    {
      "cell_type": "markdown",
      "source": [
        "###**Tratamento 2:** Transformação do tipo 'replace' para padronizar valor 'gerente' (primeira letra em minúsculo) para 'Gerente' (primeira letra em maiúsculo) na coluna **Senioridade**"
      ],
      "metadata": {
        "id": "1JNDsQDCr6_d"
      }
    },
    {
      "cell_type": "code",
      "source": [
        "df['Senioridade'] = df['Senioridade'].replace('gerente', 'Gerente')"
      ],
      "metadata": {
        "id": "RJhwm88LpAQG"
      },
      "execution_count": null,
      "outputs": []
    },
    {
      "cell_type": "code",
      "source": [
        "df.info()"
      ],
      "metadata": {
        "id": "7_MfRzMav4gz"
      },
      "execution_count": null,
      "outputs": []
    },
    {
      "cell_type": "markdown",
      "source": [
        "##**4. Análise Exploratória dos Dados**"
      ],
      "metadata": {
        "id": "qlEaPxRJ9gJa"
      }
    },
    {
      "cell_type": "markdown",
      "source": [
        "###**Gênero**\n",
        "Observando os dados sob a perspectiva de gênero para analisar equidade, igualdade e inclusão."
      ],
      "metadata": {
        "id": "ULWMFhybrp3U"
      }
    },
    {
      "cell_type": "markdown",
      "source": [
        "####**Distribuição de Gênero - Geral**"
      ],
      "metadata": {
        "id": "0pyYCP8WBEJx"
      }
    },
    {
      "cell_type": "code",
      "source": [
        "import plotly.graph_objects as go\n",
        "\n",
        "# Contagem por gênero\n",
        "counts_gender = df['Genero'].value_counts()\n",
        "fig_gender = go.Figure()\n",
        "fig_gender.add_trace(go.Bar(x=counts_gender.index, y=counts_gender.values, marker=dict(color=['blue', 'pink'])))\n",
        "\n",
        "# Adicionar os valores de cada barra em cima delas\n",
        "for i, count in enumerate(counts_gender.values):\n",
        "    fig_gender.add_annotation(x=counts_gender.index[i], y=count, text=str(count), showarrow=False, font=dict(color='black', size=12), xshift=0, yshift=5)\n",
        "\n",
        "fig_gender.update_layout(title='Distribuição por Gênero')\n",
        "\n",
        "# Exibir o gráfico de distribuição de gênero\n",
        "fig_gender.show()"
      ],
      "metadata": {
        "id": "_winnmnNc8Is"
      },
      "execution_count": null,
      "outputs": []
    },
    {
      "cell_type": "markdown",
      "source": [
        "####**Distribuição de Gênero por Formação**"
      ],
      "metadata": {
        "id": "QwLl6TYMpT20"
      }
    },
    {
      "cell_type": "code",
      "source": [
        "import plotly.graph_objects as go\n",
        "import math\n",
        "\n",
        "# Distribuição por Formação\n",
        "fig_education = go.Figure()\n",
        "\n",
        "# Calculando as contagens de formação para cada gênero\n",
        "female_education_counts = df[df['Genero'] == 'Fem']['Formação'].value_counts()\n",
        "male_education_counts = df[df['Genero'] == 'Masc']['Formação'].value_counts()\n",
        "\n",
        "# Obtendo o maior valor após o valor máximo observado na contagem de formação\n",
        "max_value = max(female_education_counts.max(), male_education_counts.max())\n",
        "max_y = math.ceil(max_value / 500) * 500\n",
        "\n",
        "# Adicionando os histogramas de distribuição por formação para os gêneros Feminino e Masculino\n",
        "fig_education.add_trace(go.Bar(x=female_education_counts.index, y=female_education_counts, name='Fem', marker=dict(color='pink'), text=female_education_counts, textposition='auto'))\n",
        "fig_education.add_trace(go.Bar(x=male_education_counts.index, y=male_education_counts, name='Masc', marker=dict(color='blue'), text=male_education_counts, textposition='auto'))\n",
        "\n",
        "# Atualizando o layout para mostrar as barras lado a lado e ajustar o eixo y\n",
        "fig_education.update_layout(title='Distribuição por Formação', barmode='group', xaxis_title='Formação', yaxis_title='Contagem', yaxis=dict(range=[0, max_y], dtick=500))\n",
        "\n",
        "# Exibindo o gráfico\n",
        "fig_education.show()"
      ],
      "metadata": {
        "id": "ctpBMb0LcKJi"
      },
      "execution_count": null,
      "outputs": []
    },
    {
      "cell_type": "markdown",
      "source": [
        "####**Distribuição de Gênero por Tempo de casa - agrupado por faixas de períodos**"
      ],
      "metadata": {
        "id": "Tbgr9rQXpj5E"
      }
    },
    {
      "cell_type": "code",
      "source": [
        "import pandas as pd\n",
        "import plotly.graph_objects as go\n",
        "\n",
        "# Definindo os limites dos grupos de tempo de casa\n",
        "grupos_tempo_de_casa = [\n",
        "    ('Até 2 anos', 2),\n",
        "    ('3-5 anos', 5),\n",
        "    ('6-10 anos', 10),\n",
        "    ('11-15 anos', 15),\n",
        "    ('16-20 anos', 20),\n",
        "    ('21-25 anos', 25),\n",
        "    ('26-30 anos', 30),\n",
        "    ('31-35 anos', 35),\n",
        "    ('Mais de 36 anos', float('inf'))\n",
        "]\n",
        "\n",
        "# Ordenando os grupos de tempo de casa em ordem crescente\n",
        "grupos_tempo_de_casa = sorted(grupos_tempo_de_casa, key=lambda x: x[1])\n",
        "\n",
        "# Criando uma função para categorizar o tempo de casa em grupos\n",
        "def categorizar_tempo_de_casa(tempo):\n",
        "    for nome_grupo, limite_superior in grupos_tempo_de_casa:\n",
        "        if tempo <= limite_superior:\n",
        "            return nome_grupo\n",
        "\n",
        "# Aplicando a função para criar uma nova coluna 'Grupo de Tempo de Casa'\n",
        "df['Grupo de Tempo de Casa'] = df['Tempo de casa'].apply(categorizar_tempo_de_casa)\n",
        "\n",
        "# Criando uma série pandas com todos os grupos\n",
        "todos_grupos = pd.Series([grupo[0] for grupo in grupos_tempo_de_casa])\n",
        "\n",
        "# Calculando as contagens de tempo de casa para cada gênero\n",
        "female_tempo_counts = df[df['Genero'] == 'Fem']['Grupo de Tempo de Casa'].value_counts()\n",
        "male_tempo_counts = df[df['Genero'] == 'Masc']['Grupo de Tempo de Casa'].value_counts()\n",
        "\n",
        "# Mesclando com a série de todos os grupos e preenchendo os valores ausentes com 0\n",
        "female_tempo_counts = female_tempo_counts.reindex(todos_grupos, fill_value=0)\n",
        "male_tempo_counts = male_tempo_counts.reindex(todos_grupos, fill_value=0)\n",
        "\n",
        "# Criando o gráfico de barras\n",
        "fig_tempo_casa = go.Figure()\n",
        "\n",
        "# Adicionando os histogramas de distribuição por tempo de casa para os gêneros Feminino e Masculino\n",
        "fig_tempo_casa.add_trace(go.Bar(x=female_tempo_counts.index, y=female_tempo_counts, name='Fem', marker=dict(color='pink'), text=female_tempo_counts, textposition='auto'))\n",
        "fig_tempo_casa.add_trace(go.Bar(x=male_tempo_counts.index, y=male_tempo_counts, name='Masc', marker=dict(color='blue'), text=male_tempo_counts, textposition='auto'))\n",
        "\n",
        "# Atualizando o layout do gráfico\n",
        "fig_tempo_casa.update_layout(title='Distribuição por Tempo de Casa', barmode='group', xaxis_title='Grupo de Tempo de Casa', yaxis_title='Contagem', yaxis=dict(range=[0, 4500], dtick=500), xaxis=dict(categoryorder='array', categoryarray=[grupo[0] for grupo in grupos_tempo_de_casa]))\n",
        "\n",
        "# Exibindo o gráfico\n",
        "fig_tempo_casa.show()"
      ],
      "metadata": {
        "id": "h4WEpZ65asWg"
      },
      "execution_count": null,
      "outputs": []
    },
    {
      "cell_type": "markdown",
      "source": [
        "####**Distribuição de Gênero por Departamento - Opção A**"
      ],
      "metadata": {
        "id": "S1XyHRFQqBR0"
      }
    },
    {
      "cell_type": "code",
      "source": [
        "import math\n",
        "import plotly.graph_objects as go\n",
        "\n",
        "# Distribuição por Departamento\n",
        "fig_department = go.Figure()\n",
        "\n",
        "# Calculando as contagens de departamento para cada gênero\n",
        "female_department_counts = df[df['Genero'] == 'Fem']['Departamento'].value_counts()\n",
        "male_department_counts = df[df['Genero'] == 'Masc']['Departamento'].value_counts()\n",
        "\n",
        "# Obtendo o maior valor após o valor máximo observado na coluna 'Departamento'\n",
        "max_value = max(female_department_counts.max(), male_department_counts.max())\n",
        "max_y = math.ceil(max_value / 500) * 500\n",
        "\n",
        "# Adicionando os histogramas de distribuição por departamento para os gêneros Feminino e Masculino\n",
        "fig_department.add_trace(go.Bar(x=female_department_counts.index, y=female_department_counts, name='Fem', marker=dict(color='pink'), text=female_department_counts, textposition='auto'))\n",
        "fig_department.add_trace(go.Bar(x=male_department_counts.index, y=male_department_counts, name='Masc', marker=dict(color='blue'), text=male_department_counts, textposition='auto'))\n",
        "\n",
        "# Atualizando o layout para mostrar as barras lado a lado e ajustar o eixo y\n",
        "fig_department.update_layout(title='Distribuição por Departamento', barmode='group', xaxis_title='Departamento', yaxis_title='Contagem', yaxis=dict(range=[0, max_y], dtick=500))\n",
        "\n",
        "# Exibindo o gráfico\n",
        "fig_department.show()"
      ],
      "metadata": {
        "id": "yttlFg6obQli"
      },
      "execution_count": null,
      "outputs": []
    },
    {
      "cell_type": "markdown",
      "source": [
        "####**Distribuição de Gênero por Departamento - Opção B**"
      ],
      "metadata": {
        "id": "3iYpHj67qYCL"
      }
    },
    {
      "cell_type": "code",
      "source": [
        "import plotly.express as px\n",
        "\n",
        "# Agrupando o DataFrame pela combinação de Gênero e Departamento e somando o total\n",
        "df_aggregated = df.groupby(['Genero', 'Departamento']).size().reset_index(name='Total')\n",
        "\n",
        "# Calculando o total de cada gênero\n",
        "df_total = df_aggregated.groupby('Genero')['Total'].sum().reset_index()\n",
        "\n",
        "# Ordenando o DataFrame em ordem decrescente pelo total de cada gênero\n",
        "df_total_sorted = df_total.sort_values(by='Total', ascending=False)\n",
        "\n",
        "# Criando o gráfico de barras empilhadas 100%\n",
        "fig_department = px.bar(df_aggregated, x='Departamento', y='Total', color='Genero',\n",
        "             title='Distribuição por Departamento e Gênero',\n",
        "             labels={'Total': 'Total'},\n",
        "             width=1000, height=600,\n",
        "             category_orders={'Genero': df_total_sorted['Genero'].unique()},\n",
        "             barmode='stack', # Definindo o modo de empilhamento\n",
        "             color_discrete_map={'Fem': 'pink', 'Masc': 'blue'})  # Definindo as cores\n",
        "\n",
        "# Adicionando os valores nas barras com 2 casas decimais\n",
        "for trace in fig_department.data:\n",
        "    trace.text = trace.y.round(2)  # Define o texto para os valores do eixo y com 2 casas decimais\n",
        "\n",
        "# Adicionando o total de cada barra no topo das barras\n",
        "for department in df_aggregated['Departamento'].unique():\n",
        "    total_value = df_aggregated[df_aggregated['Departamento'] == department]['Total'].sum()\n",
        "    fig_department.add_annotation(\n",
        "        x=department,\n",
        "        y=total_value,\n",
        "        text=f'Total: {total_value}',  # Adiciona o total da barra\n",
        "        showarrow=False,\n",
        "        font=dict(size=10),\n",
        "        xshift=0,\n",
        "        yshift=10,\n",
        "    )\n",
        "\n",
        "# Exibindo o gráfico\n",
        "fig_department.show()"
      ],
      "metadata": {
        "id": "DD6qruizISQS"
      },
      "execution_count": null,
      "outputs": []
    },
    {
      "cell_type": "markdown",
      "source": [
        "####**Distribuição de Gênero por Departamento e Senioridade - Opção A**"
      ],
      "metadata": {
        "id": "IxtUxP0kqjuM"
      }
    },
    {
      "cell_type": "code",
      "source": [
        "import math\n",
        "import plotly.graph_objects as go\n",
        "import plotly.express as px\n",
        "\n",
        "# Obtendo a lista de todos os departamentos presentes nos dados\n",
        "all_departments = df['Departamento'].unique()\n",
        "\n",
        "# Definindo a ordem das senioridades\n",
        "seniority_order = ['Estagiário', 'Analista Júnior', 'Analista Pleno', 'Analista Sênior', 'Gerente', 'Diretor']\n",
        "\n",
        "# Calculando as contagens de departamento e senioridade para o gênero Feminino e Masculino\n",
        "female_department_seniority_counts = df[df['Genero'] == 'Fem'].groupby(['Departamento', 'Senioridade']).size().unstack(fill_value=0)\n",
        "female_department_seniority_counts = female_department_seniority_counts.reindex(columns=seniority_order, fill_value=0)\n",
        "male_department_seniority_counts = df[df['Genero'] == 'Masc'].groupby(['Departamento', 'Senioridade']).size().unstack(fill_value=0)\n",
        "male_department_seniority_counts = male_department_seniority_counts.reindex(columns=seniority_order, fill_value=0)\n",
        "\n",
        "# Obtendo o maior valor após o valor máximo observado nas contagens para o nível de senioridade \"Estagiário\"\n",
        "max_value_female = female_department_seniority_counts.max().max()\n",
        "max_value_male = male_department_seniority_counts.max().max()\n",
        "max_y = math.ceil(max(max_value_female, max_value_male) / 50) * 50\n",
        "\n",
        "# Criando uma paleta de cores para os departamentos\n",
        "department_colors = px.colors.qualitative.Set3[:len(all_departments)]\n",
        "\n",
        "# Criando o gráfico para cada nível de senioridade\n",
        "fig_department_seniority_female = go.Figure()\n",
        "fig_department_seniority_male = go.Figure()\n",
        "\n",
        "# Adicionando os histogramas de distribuição por departamento e senioridade para o gênero Feminino\n",
        "for department, color in zip(all_departments, department_colors):\n",
        "    fig_department_seniority_female.add_trace(go.Bar(x=seniority_order, y=female_department_seniority_counts.loc[department], name=f'Fem - {department}', marker=dict(color=color)))\n",
        "\n",
        "# Adicionando os histogramas de distribuição por departamento e senioridade para o gênero Masculino\n",
        "for department, color in zip(all_departments, department_colors):\n",
        "    fig_department_seniority_male.add_trace(go.Bar(x=seniority_order, y=male_department_seniority_counts.loc[department], name=f'Masc - {department}', marker=dict(color=color)))\n",
        "\n",
        "# Atualizando o layout para mostrar as barras lado a lado e ajustar o eixo y\n",
        "fig_department_seniority_female.update_layout(title='Distribuição por Departamento e Senioridade - Fem', xaxis_title='Senioridade', yaxis_title='Contagem', yaxis=dict(range=[0, max_y], dtick=50))\n",
        "fig_department_seniority_male.update_layout(title='Distribuição por Departamento e Senioridade - Masc', xaxis_title='Senioridade', yaxis_title='Contagem', yaxis=dict(range=[0, max_y], dtick=50))\n",
        "\n",
        "# Exibindo os gráficos\n",
        "fig_department_seniority_female.show()\n",
        "fig_department_seniority_male.show()"
      ],
      "metadata": {
        "id": "nYtIteDvd_FP"
      },
      "execution_count": null,
      "outputs": []
    },
    {
      "cell_type": "markdown",
      "source": [
        "####**Distribuição de Gênero por Departamento e Senioridade - Opção B**"
      ],
      "metadata": {
        "id": "RLxGVgxEq3Ek"
      }
    },
    {
      "cell_type": "code",
      "source": [
        "import math\n",
        "import plotly.graph_objects as go\n",
        "\n",
        "# Definindo a ordem das senioridades\n",
        "seniority_order = ['Estagiário', 'Analista Júnior', 'Analista Pleno', 'Analista Sênior', 'Gerente', 'Diretor']\n",
        "\n",
        "# Calculando as contagens de departamento e senioridade para o gênero Feminino\n",
        "female_department_seniority_counts = df[df['Genero'] == 'Fem'].groupby(['Departamento', 'Senioridade']).size().unstack(fill_value=0)\n",
        "female_department_seniority_counts = female_department_seniority_counts.reindex(columns=seniority_order, fill_value=0)\n",
        "\n",
        "# Calculando as contagens de departamento e senioridade para o gênero Masculino\n",
        "male_department_seniority_counts = df[df['Genero'] == 'Masc'].groupby(['Departamento', 'Senioridade']).size().unstack(fill_value=0)\n",
        "male_department_seniority_counts = male_department_seniority_counts.reindex(columns=seniority_order, fill_value=0)\n",
        "\n",
        "# Obtendo o maior valor após o valor máximo observado nas contagens para o nível de senioridade \"Estagiário\"\n",
        "max_value = max(female_department_seniority_counts.max().max(), male_department_seniority_counts.max().max())\n",
        "max_y = math.ceil(max_value / 50) * 50\n",
        "\n",
        "# Criando o gráfico para os níveis de senioridade\n",
        "fig_department_seniority = go.Figure()\n",
        "\n",
        "# Adicionando os histogramas de distribuição por departamento e senioridade para o gênero Feminino\n",
        "for department in df['Departamento'].unique():\n",
        "    fig_department_seniority.add_trace(go.Bar(x=seniority_order, y=female_department_seniority_counts.loc[department], name=f'Fem - {department}', marker=dict(color='pink'), text=female_department_seniority_counts.loc[department], textposition='auto'))\n",
        "\n",
        "# Adicionando os histogramas de distribuição por departamento e senioridade para o gênero Masculino\n",
        "for department in df['Departamento'].unique():\n",
        "    fig_department_seniority.add_trace(go.Bar(x=seniority_order, y=male_department_seniority_counts.loc[department], name=f'Masc - {department}', marker=dict(color='blue'), text=male_department_seniority_counts.loc[department], textposition='auto'))\n",
        "\n",
        "# Atualizando o layout para mostrar as barras lado a lado e ajustar o eixo y\n",
        "fig_department_seniority.update_layout(title='Distribuição por Gênero, Departamento e Senioridade', xaxis_title='Senioridade', yaxis_title='Contagem', yaxis=dict(range=[0, max_y], dtick=50), barmode='group')\n",
        "\n",
        "# Exibindo o gráfico\n",
        "fig_department_seniority.show()"
      ],
      "metadata": {
        "id": "qjM6_vSyFnk6"
      },
      "execution_count": null,
      "outputs": []
    },
    {
      "cell_type": "markdown",
      "source": [
        "####**Distribuição de Gênero por Departamento e Senioridade - Opção C**"
      ],
      "metadata": {
        "id": "Xw8-7Uu8q77D"
      }
    },
    {
      "cell_type": "code",
      "source": [
        "import plotly.express as px\n",
        "\n",
        "# Agrupando os dados\n",
        "df_defects = df.groupby(['Senioridade', 'Departamento', 'Genero']).size().reset_index(name='Count')\n",
        "\n",
        "# Criando o gráfico de treemap\n",
        "fig_treemap = px.treemap(df_defects, path=['Senioridade', 'Departamento', 'Genero'], values='Count',\n",
        "                 title='Distribuição por Senioridade, Departamento e Gênero - Treemap',\n",
        "                 labels={'Count': 'Contagem', 'Senioridade': 'Senioridade', 'Departamento': 'Departamento', 'Genero': 'Gênero'},\n",
        "                 width=1200, height=800)\n",
        "\n",
        "# Adicionando rótulos de quantidade nos blocos\n",
        "fig_treemap.update_traces(textinfo='label+value')\n",
        "\n",
        "# Exibindo o gráfico\n",
        "fig_treemap.show()"
      ],
      "metadata": {
        "id": "nVmh9LPYleTI"
      },
      "execution_count": null,
      "outputs": []
    },
    {
      "cell_type": "markdown",
      "source": [
        "###**Painel Interativo (🚧 em construção)**"
      ],
      "metadata": {
        "id": "_L4wUM_XC9DT"
      }
    },
    {
      "cell_type": "code",
      "source": [
        "import pandas as pd\n",
        "import plotly.graph_objects as go\n",
        "import dash\n",
        "from dash import dcc, html\n",
        "from dash.dependencies import Input, Output\n",
        "\n",
        "\n",
        "# Definindo os intervalos de idade\n",
        "intervalos_idade = [(0, 13), (14, 18), (19, 24), (25, 34), (35, 44), (45, 54), (55, 64), (65, 74), (75, 84), (85, float('inf'))]\n",
        "labels = ['Menos de 14', '14-18', '19-24', '25-34', '35-44', '45-54', '55-64', '65-74', '75-84', '85 ou mais']\n",
        "\n",
        "# Função para contar o número de ocorrências de cada intervalo de idade para uma determinada raça, gênero, formação, tempo de casa e departamento\n",
        "def contar_ocorrencias_por_intervalo(df, raca, genero, formacao, tempo_de_casa, departamento):\n",
        "    ocorrencias = []\n",
        "    for intervalo in intervalos_idade:\n",
        "        filtro = ((df['Raça'] == raca) & (df['Genero'] == genero) & (df['Formação'] == formacao) & (df['Tempo de casa'] == tempo_de_casa) & (df['Departamento'] == departamento) & (df['Idade'] >= intervalo[0]) & (df['Idade'] <= intervalo[1]))\n",
        "        ocorrencias.append(filtro.sum())\n",
        "    return ocorrencias\n",
        "\n",
        "# Obtendo os valores únicos das colunas 'Raça', 'Gênero', 'Formação', 'Tempo de Casa' e 'Departamento'\n",
        "racas = df['Raça'].unique()\n",
        "generos = df['Genero'].unique()\n",
        "formacoes = df['Formação'].unique()\n",
        "tempos_de_casa = df['Tempo de casa'].unique()\n",
        "departamentos = df['Departamento'].unique()\n",
        "\n",
        "# Criando a aplicação Dash\n",
        "app = dash.Dash(__name__)\n",
        "\n",
        "# Layout da aplicação\n",
        "app.layout = html.Div([\n",
        "    html.Label('Gênero:'),\n",
        "    dcc.Dropdown(\n",
        "        id='genero-dropdown',\n",
        "        options=[{'label': genero, 'value': genero} for genero in generos],\n",
        "        value=generos[0]\n",
        "    ),\n",
        "    html.Label('Raça:'),\n",
        "    dcc.Dropdown(\n",
        "        id='raca-dropdown',\n",
        "        options=[{'label': raca, 'value': raca} for raca in racas],\n",
        "        value=racas[0]\n",
        "    ),\n",
        "    html.Label('Formação:'),\n",
        "    dcc.Dropdown(\n",
        "        id='formacao-dropdown',\n",
        "        options=[{'label': formacao, 'value': formacao} for formacao in formacoes],\n",
        "        value=formacoes[0]\n",
        "    ),\n",
        "    html.Label('Tempo de Casa:'),\n",
        "    dcc.Dropdown(\n",
        "        id='tempo-de-casa-dropdown',\n",
        "        options=[{'label': tempo, 'value': tempo} for tempo in tempos_de_casa],\n",
        "        value=tempos_de_casa[0]\n",
        "    ),\n",
        "    html.Label('Departamento:'),\n",
        "    dcc.Dropdown(\n",
        "        id='departamento-dropdown',\n",
        "        options=[{'label': departamento, 'value': departamento} for departamento in departamentos],\n",
        "        value=departamentos[0]\n",
        "    ),\n",
        "    dcc.Graph(id='idade-por-filtros')\n",
        "])\n",
        "\n",
        "# Callback para atualizar o gráfico com base nos filtros selecionados\n",
        "@app.callback(\n",
        "    Output('idade-por-filtros', 'figure'),\n",
        "    [Input('genero-dropdown', 'value'),\n",
        "     Input('raca-dropdown', 'value'),\n",
        "     Input('formacao-dropdown', 'value'),\n",
        "     Input('tempo-de-casa-dropdown', 'value'),\n",
        "     Input('departamento-dropdown', 'value')]\n",
        ")\n",
        "def update_graph(genero_selecionado, raca_selecionada, formacao_selecionada, tempo_de_casa_selecionado, departamento_selecionado):\n",
        "    # Contagem de ocorrências por intervalo de idade para a raça, gênero, formação, tempo de casa e departamento selecionados\n",
        "    ocorrencias = contar_ocorrencias_por_intervalo(df, raca_selecionada, genero_selecionado, formacao_selecionada, tempo_de_casa_selecionado, departamento_selecionado)\n",
        "\n",
        "    # Criando o gráfico de barras\n",
        "    fig = go.Figure()\n",
        "\n",
        "    # Adicionando as barras do gênero selecionado\n",
        "    fig.add_trace(go.Bar(x=labels, y=ocorrencias, name=genero_selecionado, text=ocorrencias, textposition='outside'))\n",
        "\n",
        "    # Definindo o layout\n",
        "    fig.update_layout(\n",
        "        title='Distribuição de Idade por Filtros',\n",
        "        xaxis_title='Faixa de Idade',\n",
        "        yaxis_title='Contagem',\n",
        "        barmode='group',\n",
        "        legend_title='Gênero'\n",
        "    )\n",
        "\n",
        "    return fig\n",
        "\n",
        "# Executando a aplicação\n",
        "if __name__ == '__main__':\n",
        "    app.run_server(debug=True)"
      ],
      "metadata": {
        "id": "1T2U6mbVznYi"
      },
      "execution_count": null,
      "outputs": []
    }
  ]
}