{
 "cells": [
  {
   "cell_type": "code",
   "execution_count": 1,
   "metadata": {},
   "outputs": [
    {
     "ename": "ModuleNotFoundError",
     "evalue": "No module named 'kmodes'",
     "output_type": "error",
     "traceback": [
      "\u001b[1;31m---------------------------------------------------------------------------\u001b[0m",
      "\u001b[1;31mModuleNotFoundError\u001b[0m                       Traceback (most recent call last)",
      "Cell \u001b[1;32mIn[1], line 5\u001b[0m\n\u001b[0;32m      2\u001b[0m \u001b[38;5;28;01mimport\u001b[39;00m \u001b[38;5;21;01mnumpy\u001b[39;00m \u001b[38;5;28;01mas\u001b[39;00m \u001b[38;5;21;01mnp\u001b[39;00m\n\u001b[0;32m      4\u001b[0m \u001b[38;5;28;01mimport\u001b[39;00m \u001b[38;5;21;01mmatplotlib\u001b[39;00m\u001b[38;5;21;01m.\u001b[39;00m\u001b[38;5;21;01mpyplot\u001b[39;00m \u001b[38;5;28;01mas\u001b[39;00m \u001b[38;5;21;01mplt\u001b[39;00m \u001b[38;5;66;03m#usamos pontualmente para imprimir um Elbow Chart\u001b[39;00m\n\u001b[1;32m----> 5\u001b[0m \u001b[38;5;28;01mfrom\u001b[39;00m \u001b[38;5;21;01mkmodes\u001b[39;00m\u001b[38;5;21;01m.\u001b[39;00m\u001b[38;5;21;01mkmodes\u001b[39;00m \u001b[38;5;28;01mimport\u001b[39;00m KModes \u001b[38;5;66;03m#usamos para classificar nossos dados grupos de acordo com a Moda\u001b[39;00m\n\u001b[0;32m      6\u001b[0m \u001b[38;5;28;01mimport\u001b[39;00m \u001b[38;5;21;01mscipy\u001b[39;00m\u001b[38;5;21;01m.\u001b[39;00m\u001b[38;5;21;01mstats\u001b[39;00m \u001b[38;5;28;01mas\u001b[39;00m \u001b[38;5;21;01mstats\u001b[39;00m\n",
      "\u001b[1;31mModuleNotFoundError\u001b[0m: No module named 'kmodes'"
     ]
    }
   ],
   "source": [
    "import pandas as pd\n",
    "import numpy as np\n",
    "\n",
    "import matplotlib.pyplot as plt #usamos pontualmente para imprimir um Elbow Chart\n",
    "from kmodes.kmodes import KModes #usamos para classificar nossos dados grupos de acordo com a Moda\n",
    "import scipy.stats as stats # usamos para verificar correlações (estatística e a significancia) "
   ]
  },
  {
   "cell_type": "markdown",
   "metadata": {},
   "source": [
    "## Divisão em Clusters usando Modas (K-modes):\n",
    "à procura de grupos/categorias não semelhantes entre si\n",
    "\n",
    "Nem sempre é possível MANUALMENTE identificar grupos numa análise descritiva. Usaremos o K-modes para CLASSIFICAR os dados em grupos não semelhantes"
   ]
  },
  {
   "cell_type": "code",
   "execution_count": null,
   "metadata": {
    "jupyter": {
     "source_hidden": true
    }
   },
   "outputs": [],
   "source": [
    "# Separando as variáveis por Categórias para facilitar o entendimento\n",
    "\n",
    "variaveis_nominais = ['Gênero', 'Raça', 'Formação', 'Departamento', 'Estado']\n",
    "variaveis_ordinais = ['Senioridade']\n",
    "variaveis_continuas = ['Idade', 'Tempo de Empresa']\n",
    "\n",
    "lista = variaveis_nominais + variaveis_ordinais"
   ]
  },
  {
   "cell_type": "code",
   "execution_count": null,
   "metadata": {},
   "outputs": [],
   "source": [
    "# Usando dict comprehention para verificar os valores unicos em cada coluna antes de começarmos\n",
    "\n",
    "dict = {i: df[i].unique() for i in lista}\n",
    "\n",
    "dict"
   ]
  },
  {
   "cell_type": "code",
   "execution_count": null,
   "metadata": {},
   "outputs": [],
   "source": [
    "#Transformando todas as colunas em strings pois só assim podemos usar o pd.get_dummies [função que transforma as variáveis em dummies]\n",
    "\n",
    "df_so_categoricas = df[lista]\n",
    "\n",
    "for col in df_so_categoricas.columns:\n",
    "    df_so_categoricas.loc[:,col] = df_so_categoricas[col].astype(str)\n",
    "\n",
    "df_dummy = pd.get_dummies(df_so_categoricas, drop_first=False)\n",
    "df_dummy.head()"
   ]
  },
  {
   "cell_type": "code",
   "execution_count": null,
   "metadata": {},
   "outputs": [],
   "source": [
    "# Curva 'Elbow' (cotovelo) para encontrar o K ótimo [K = número de clusters]\n",
    "\n",
    "custo = []\n",
    "K = range(1,5)\n",
    "for num_clusters in K:\n",
    "    kmode = KModes(n_clusters=num_clusters, init = \"random\", n_init = 5, verbose=1)\n",
    "    kmode.fit_predict(df)\n",
    "    custo.append(kmode.cost_)\n",
    "    \n",
    "plt.plot(K, custo, 'bx-')\n",
    "plt.xlabel('No. de Clusters')\n",
    "plt.ylabel('Custo')\n",
    "plt.title('Gráfico Elbow para Encontrar o K Otimo')\n",
    "plt.show()"
   ]
  },
  {
   "cell_type": "code",
   "execution_count": null,
   "metadata": {},
   "outputs": [],
   "source": [
    "# Na Curva Elbow o K ótimo encontrado foi de 2. Assim definimos o número de clusters ideal como 2\n",
    "num_clusters = 2\n",
    "\n",
    "# Criando uma instância do modelo k-modes\n",
    "km = KModes(n_clusters=num_clusters, init='Huang', n_init=5, verbose=1)\n",
    "\n",
    "# Ajustando o modelo\n",
    "clusters = km.fit_predict(df)\n",
    "\n",
    "# Adicionando os resultados dos clusters ao DataFrame original\n",
    "df_dummy['Cluster'] = clusters\n",
    "df_cluster = df_dummy\n",
    "\n",
    "df_cluster.head()"
   ]
  },
  {
   "cell_type": "code",
   "execution_count": null,
   "metadata": {},
   "outputs": [],
   "source": [
    "# Verificando quantas pessoas possue cada cluster\n",
    "display(df_cluster['Cluster'].value_counts())\n",
    "\n",
    "# Verificando sua proporção\n",
    "df_cluster['Cluster'].value_counts(normalize=True).apply(lambda x: str(round(x*100, 2)) + \"%\")"
   ]
  },
  {
   "cell_type": "code",
   "execution_count": null,
   "metadata": {},
   "outputs": [],
   "source": [
    "# Imprimindo a porcentagem\n",
    "var_temporaria = df_cluster.groupby('Cluster').mean()\n",
    "var_temporaria\n",
    "\n",
    "# Exportando para uma visualização mais palatável\n",
    "# var_temporaria.to_csv('.\\Cluster.csv')"
   ]
  },
  {
   "cell_type": "markdown",
   "metadata": {},
   "source": [
    "![Descrição da imagem](image1.jpeg)"
   ]
  },
  {
   "cell_type": "markdown",
   "metadata": {},
   "source": [
    "Conclusões :\n",
    "\n",
    "Existem 2 grupos com características marcantes\n",
    "\n",
    "Grupo 1 - Majoritariamente composto por Homens, Brancos, com Formação Superior, concentrados no Departamento Administrativo e que em sua maioria trabalham como Analistas Plenos\n",
    "\n",
    "Grupo 2 - Majoritariamente composto por Homens, Pardos, com Formação Superior, concetrados principalmente no Departamento de TI e que em sua maioria trabalham como Analistas Júnior\n",
    "\n",
    "\n",
    "A partir destas distinções, podemos ter uma noção mais clara e CONJUNTA de quais áreas da nossa empresa carecem de mais diversidade e inclusão"
   ]
  },
  {
   "cell_type": "markdown",
   "metadata": {},
   "source": [
    "## Inferências a respeito do \"tempo de empresa\" : \n",
    "à procura das \"causas\" do nosso alto Churn Rate visando a criação de uma política de retenção de colaboradores eficiente"
   ]
  },
  {
   "cell_type": "code",
   "execution_count": null,
   "metadata": {},
   "outputs": [],
   "source": [
    "df.head()"
   ]
  },
  {
   "cell_type": "code",
   "execution_count": null,
   "metadata": {},
   "outputs": [],
   "source": [
    "df_dummy.columns"
   ]
  },
  {
   "cell_type": "code",
   "execution_count": null,
   "metadata": {},
   "outputs": [],
   "source": [
    "dict_corr = {'Coluna': [], 'Correlação': [], 'P-Value': []}\n",
    "\n",
    "# Estamos aplicando uma correlação chamada ponto bisserial que é uma variação da correlação de person aplicada para sabermos a relação entre uma variável categórica e uma contínua\n",
    "\n",
    "for column in df_dummy.columns:\n",
    "    corr, pvalue = stats.pointbiserialr(df_dummy[column], df['Tempo de Empresa'])\n",
    "    dict_corr['Coluna'].append(column)\n",
    "    dict_corr['Correlação'].append(round(corr, 4))\n",
    "    dict_corr['P-Value'].append(round(pvalue, 4))\n",
    "\n",
    "df_corr = pd.DataFrame(dict_corr)\n",
    "\n",
    "df_corr_filtrado_1 = df_corr.loc[df_corr['Correlação'] > 0.02]\n",
    "display(df_corr_filtrado_1)\n",
    "\n",
    "df_corr_filtrado_2 = df_corr.loc[df_corr['P-Value'] < 0.05]\n",
    "df_corr_filtrado_2"
   ]
  },
  {
   "cell_type": "markdown",
   "metadata": {},
   "source": [
    "Conclusões : \n",
    "\n",
    "De forma surpreendente, não existe NENHUMA correlação na nossa base de dados que aponte para a retenção de de colaborades de forma significativa"
   ]
  }
 ],
 "metadata": {
  "kernelspec": {
   "display_name": "Python 3 (ipykernel)",
   "language": "python",
   "name": "python3"
  },
  "language_info": {
   "codemirror_mode": {
    "name": "ipython",
    "version": 3
   },
   "file_extension": ".py",
   "mimetype": "text/x-python",
   "name": "python",
   "nbconvert_exporter": "python",
   "pygments_lexer": "ipython3",
   "version": "3.11.5"
  }
 },
 "nbformat": 4,
 "nbformat_minor": 4
}
